{
 "cells": [
  {
   "cell_type": "code",
   "execution_count": 1,
   "id": "e1fd5ec6",
   "metadata": {},
   "outputs": [],
   "source": [
    "import numpy as np\n",
    "import matplotlib.pyplot as plt\n",
    "import pandas as pd"
   ]
  },
  {
   "cell_type": "code",
   "execution_count": 2,
   "id": "5de41d05",
   "metadata": {},
   "outputs": [],
   "source": [
    "import functions_library as fl"
   ]
  },
  {
   "cell_type": "code",
   "execution_count": 3,
   "id": "21423ec0",
   "metadata": {},
   "outputs": [
    {
     "data": {
      "text/plain": [
       "Index(['Unnamed: 0', 'Date', 'URL', 'Review_Title', 'Author', 'Rating',\n",
       "       'Review_text', 'Review_helpful', 'Sentiment', 'Subjectivity',\n",
       "       'Neg_Count', 'Word_Count', 'Unique_words', 'Noun_Count', 'Adj_Count',\n",
       "       'Verb_Count', 'Adv_Count', 'Pro_Count', 'Pre_Count', 'Con_Count',\n",
       "       'Art_Count', 'Nega_Count', 'Aux_Count', 'Authenticity', 'AT',\n",
       "       'Rev_Type'],\n",
       "      dtype='object')"
      ]
     },
     "execution_count": 3,
     "metadata": {},
     "output_type": "execute_result"
    }
   ],
   "source": [
    "df=pd.read_csv('finalReview.csv')\n",
    "df.columns"
   ]
  },
  {
   "cell_type": "code",
   "execution_count": 4,
   "id": "aba80f0c",
   "metadata": {},
   "outputs": [],
   "source": [
    "df=df.iloc[:,1:8]"
   ]
  },
  {
   "cell_type": "code",
   "execution_count": 5,
   "id": "9890bc2e",
   "metadata": {},
   "outputs": [
    {
     "data": {
      "text/html": [
       "<div>\n",
       "<style scoped>\n",
       "    .dataframe tbody tr th:only-of-type {\n",
       "        vertical-align: middle;\n",
       "    }\n",
       "\n",
       "    .dataframe tbody tr th {\n",
       "        vertical-align: top;\n",
       "    }\n",
       "\n",
       "    .dataframe thead th {\n",
       "        text-align: right;\n",
       "    }\n",
       "</style>\n",
       "<table border=\"1\" class=\"dataframe\">\n",
       "  <thead>\n",
       "    <tr style=\"text-align: right;\">\n",
       "      <th></th>\n",
       "      <th>Date</th>\n",
       "      <th>URL</th>\n",
       "      <th>Review_Title</th>\n",
       "      <th>Author</th>\n",
       "      <th>Rating</th>\n",
       "      <th>Review_text</th>\n",
       "      <th>Review_helpful</th>\n",
       "    </tr>\n",
       "  </thead>\n",
       "  <tbody>\n",
       "    <tr>\n",
       "      <th>0</th>\n",
       "      <td>Reviewed in India on 10 August 2018</td>\n",
       "      <td>https://www.amazon.in/Logitech-Prodigy-G213-Ga...</td>\n",
       "      <td>It s a logitech  Definitely worth buying it</td>\n",
       "      <td>Aqib Mehmood</td>\n",
       "      <td>5</td>\n",
       "      <td>A really awesome keyboard  i was actually go...</td>\n",
       "      <td>77</td>\n",
       "    </tr>\n",
       "    <tr>\n",
       "      <th>1</th>\n",
       "      <td>Reviewed in India on 27 March 2018</td>\n",
       "      <td>https://www.amazon.in/Logitech-Prodigy-G213-Ga...</td>\n",
       "      <td>Great deal  got it for        With Lightening ...</td>\n",
       "      <td>Chauhan</td>\n",
       "      <td>4</td>\n",
       "      <td>I know its costly but its worth your money  ...</td>\n",
       "      <td>55</td>\n",
       "    </tr>\n",
       "    <tr>\n",
       "      <th>2</th>\n",
       "      <td>Reviewed in India on 19 December 2018</td>\n",
       "      <td>https://www.amazon.in/Logitech-Prodigy-G213-Ga...</td>\n",
       "      <td>Loved it</td>\n",
       "      <td>Smok3y</td>\n",
       "      <td>5</td>\n",
       "      <td>I had been contemplating to buy this for a l...</td>\n",
       "      <td>18</td>\n",
       "    </tr>\n",
       "    <tr>\n",
       "      <th>3</th>\n",
       "      <td>Reviewed in India on 25 June 2020</td>\n",
       "      <td>https://www.amazon.in/Logitech-Prodigy-G213-Ga...</td>\n",
       "      <td>Not a good purchase  please read description</td>\n",
       "      <td>Kumar Saharsh</td>\n",
       "      <td>1</td>\n",
       "      <td>SO   Very very small keys  For fast typers w...</td>\n",
       "      <td>11</td>\n",
       "    </tr>\n",
       "    <tr>\n",
       "      <th>4</th>\n",
       "      <td>Reviewed in India on 27 October 2018</td>\n",
       "      <td>https://www.amazon.in/Logitech-Prodigy-G213-Ga...</td>\n",
       "      <td>Good only when new</td>\n",
       "      <td>Amazon Customer</td>\n",
       "      <td>2</td>\n",
       "      <td>Good to use keyboard while it is new  but it...</td>\n",
       "      <td>15</td>\n",
       "    </tr>\n",
       "  </tbody>\n",
       "</table>\n",
       "</div>"
      ],
      "text/plain": [
       "                                    Date  \\\n",
       "0    Reviewed in India on 10 August 2018   \n",
       "1     Reviewed in India on 27 March 2018   \n",
       "2  Reviewed in India on 19 December 2018   \n",
       "3      Reviewed in India on 25 June 2020   \n",
       "4   Reviewed in India on 27 October 2018   \n",
       "\n",
       "                                                 URL  \\\n",
       "0  https://www.amazon.in/Logitech-Prodigy-G213-Ga...   \n",
       "1  https://www.amazon.in/Logitech-Prodigy-G213-Ga...   \n",
       "2  https://www.amazon.in/Logitech-Prodigy-G213-Ga...   \n",
       "3  https://www.amazon.in/Logitech-Prodigy-G213-Ga...   \n",
       "4  https://www.amazon.in/Logitech-Prodigy-G213-Ga...   \n",
       "\n",
       "                                        Review_Title           Author  Rating  \\\n",
       "0       It s a logitech  Definitely worth buying it      Aqib Mehmood       5   \n",
       "1  Great deal  got it for        With Lightening ...          Chauhan       4   \n",
       "2                                           Loved it           Smok3y       5   \n",
       "3       Not a good purchase  please read description    Kumar Saharsh       1   \n",
       "4                                 Good only when new  Amazon Customer       2   \n",
       "\n",
       "                                         Review_text  Review_helpful  \n",
       "0    A really awesome keyboard  i was actually go...              77  \n",
       "1    I know its costly but its worth your money  ...              55  \n",
       "2    I had been contemplating to buy this for a l...              18  \n",
       "3    SO   Very very small keys  For fast typers w...              11  \n",
       "4    Good to use keyboard while it is new  but it...              15  "
      ]
     },
     "execution_count": 5,
     "metadata": {},
     "output_type": "execute_result"
    }
   ],
   "source": [
    "df.columns\n",
    "df.head()"
   ]
  },
  {
   "cell_type": "code",
   "execution_count": 6,
   "id": "a3d1cc9d",
   "metadata": {},
   "outputs": [],
   "source": [
    "dict_mese_number={\"January\":1,\"February\":2,\"March\":3,\"April\":4,\"May\":5,\"June\":6,\"July\":7,\"August\":8,\"September\":9,\"October\":10,\"November\":11,\"December\":12}\n",
    "def pulisci_row(row):\n",
    "    row[0]=row[0].split(\" \")[-3:]\n",
    "    row[0][1]=str(dict_mese_number[row[0][1]])\n",
    "    new_data=row[0][1]+\"-\"+row[0][0]+\"-\"+row[0][2]\n",
    "    row[0]=new_data\n",
    "    return row\n",
    "\n",
    "df=df.apply(pulisci_row,axis=1)"
   ]
  },
  {
   "cell_type": "code",
   "execution_count": 7,
   "id": "d5f41719",
   "metadata": {},
   "outputs": [],
   "source": [
    "#get the month the review was posted in\n",
    "df['month'] = pd.DatetimeIndex(df['Date']).month\n",
    "\n",
    "#get the day of the week the review was posted as an integer (Monday=0,Sunday=6)\n",
    "df['dayofweek'] = pd.DatetimeIndex(df['Date']).dayofweek\n",
    "\n",
    "df=df.drop(\"Date\",axis=\"columns\")"
   ]
  },
  {
   "cell_type": "code",
   "execution_count": 8,
   "id": "458145fc",
   "metadata": {},
   "outputs": [],
   "source": [
    "df['nameProvided'] = np.where(df['Author'] != 'Amazon Customer',1,0)"
   ]
  },
  {
   "cell_type": "code",
   "execution_count": 9,
   "id": "37bc7039",
   "metadata": {},
   "outputs": [],
   "source": [
    "df['review_word_count'] = df['Review_text'].str.split().str.len()\n",
    "df['summary_word_count'] = df['Review_Title'].str.split().str.len()"
   ]
  },
  {
   "cell_type": "code",
   "execution_count": 10,
   "id": "e9d5cfba",
   "metadata": {},
   "outputs": [
    {
     "data": {
      "text/html": [
       "<div>\n",
       "<style scoped>\n",
       "    .dataframe tbody tr th:only-of-type {\n",
       "        vertical-align: middle;\n",
       "    }\n",
       "\n",
       "    .dataframe tbody tr th {\n",
       "        vertical-align: top;\n",
       "    }\n",
       "\n",
       "    .dataframe thead th {\n",
       "        text-align: right;\n",
       "    }\n",
       "</style>\n",
       "<table border=\"1\" class=\"dataframe\">\n",
       "  <thead>\n",
       "    <tr style=\"text-align: right;\">\n",
       "      <th></th>\n",
       "      <th>URL</th>\n",
       "      <th>Review_Title</th>\n",
       "      <th>Author</th>\n",
       "      <th>Rating</th>\n",
       "      <th>Review_text</th>\n",
       "      <th>Review_helpful</th>\n",
       "      <th>month</th>\n",
       "      <th>dayofweek</th>\n",
       "      <th>nameProvided</th>\n",
       "      <th>review_word_count</th>\n",
       "      <th>summary_word_count</th>\n",
       "    </tr>\n",
       "  </thead>\n",
       "  <tbody>\n",
       "    <tr>\n",
       "      <th>0</th>\n",
       "      <td>https://www.amazon.in/Logitech-Prodigy-G213-Ga...</td>\n",
       "      <td>It s a logitech  Definitely worth buying it</td>\n",
       "      <td>Aqib Mehmood</td>\n",
       "      <td>5</td>\n",
       "      <td>A really awesome keyboard  i was actually go...</td>\n",
       "      <td>77</td>\n",
       "      <td>8</td>\n",
       "      <td>4</td>\n",
       "      <td>1</td>\n",
       "      <td>92</td>\n",
       "      <td>8</td>\n",
       "    </tr>\n",
       "    <tr>\n",
       "      <th>1</th>\n",
       "      <td>https://www.amazon.in/Logitech-Prodigy-G213-Ga...</td>\n",
       "      <td>Great deal  got it for        With Lightening ...</td>\n",
       "      <td>Chauhan</td>\n",
       "      <td>4</td>\n",
       "      <td>I know its costly but its worth your money  ...</td>\n",
       "      <td>55</td>\n",
       "      <td>3</td>\n",
       "      <td>1</td>\n",
       "      <td>1</td>\n",
       "      <td>156</td>\n",
       "      <td>8</td>\n",
       "    </tr>\n",
       "    <tr>\n",
       "      <th>2</th>\n",
       "      <td>https://www.amazon.in/Logitech-Prodigy-G213-Ga...</td>\n",
       "      <td>Loved it</td>\n",
       "      <td>Smok3y</td>\n",
       "      <td>5</td>\n",
       "      <td>I had been contemplating to buy this for a l...</td>\n",
       "      <td>18</td>\n",
       "      <td>12</td>\n",
       "      <td>2</td>\n",
       "      <td>1</td>\n",
       "      <td>102</td>\n",
       "      <td>2</td>\n",
       "    </tr>\n",
       "    <tr>\n",
       "      <th>3</th>\n",
       "      <td>https://www.amazon.in/Logitech-Prodigy-G213-Ga...</td>\n",
       "      <td>Not a good purchase  please read description</td>\n",
       "      <td>Kumar Saharsh</td>\n",
       "      <td>1</td>\n",
       "      <td>SO   Very very small keys  For fast typers w...</td>\n",
       "      <td>11</td>\n",
       "      <td>6</td>\n",
       "      <td>3</td>\n",
       "      <td>1</td>\n",
       "      <td>112</td>\n",
       "      <td>7</td>\n",
       "    </tr>\n",
       "    <tr>\n",
       "      <th>4</th>\n",
       "      <td>https://www.amazon.in/Logitech-Prodigy-G213-Ga...</td>\n",
       "      <td>Good only when new</td>\n",
       "      <td>Amazon Customer</td>\n",
       "      <td>2</td>\n",
       "      <td>Good to use keyboard while it is new  but it...</td>\n",
       "      <td>15</td>\n",
       "      <td>10</td>\n",
       "      <td>5</td>\n",
       "      <td>0</td>\n",
       "      <td>67</td>\n",
       "      <td>4</td>\n",
       "    </tr>\n",
       "  </tbody>\n",
       "</table>\n",
       "</div>"
      ],
      "text/plain": [
       "                                                 URL  \\\n",
       "0  https://www.amazon.in/Logitech-Prodigy-G213-Ga...   \n",
       "1  https://www.amazon.in/Logitech-Prodigy-G213-Ga...   \n",
       "2  https://www.amazon.in/Logitech-Prodigy-G213-Ga...   \n",
       "3  https://www.amazon.in/Logitech-Prodigy-G213-Ga...   \n",
       "4  https://www.amazon.in/Logitech-Prodigy-G213-Ga...   \n",
       "\n",
       "                                        Review_Title           Author  Rating  \\\n",
       "0       It s a logitech  Definitely worth buying it      Aqib Mehmood       5   \n",
       "1  Great deal  got it for        With Lightening ...          Chauhan       4   \n",
       "2                                           Loved it           Smok3y       5   \n",
       "3       Not a good purchase  please read description    Kumar Saharsh       1   \n",
       "4                                 Good only when new  Amazon Customer       2   \n",
       "\n",
       "                                         Review_text  Review_helpful  month  \\\n",
       "0    A really awesome keyboard  i was actually go...              77      8   \n",
       "1    I know its costly but its worth your money  ...              55      3   \n",
       "2    I had been contemplating to buy this for a l...              18     12   \n",
       "3    SO   Very very small keys  For fast typers w...              11      6   \n",
       "4    Good to use keyboard while it is new  but it...              15     10   \n",
       "\n",
       "   dayofweek  nameProvided  review_word_count  summary_word_count  \n",
       "0          4             1                 92                   8  \n",
       "1          1             1                156                   8  \n",
       "2          2             1                102                   2  \n",
       "3          3             1                112                   7  \n",
       "4          5             0                 67                   4  "
      ]
     },
     "execution_count": 10,
     "metadata": {},
     "output_type": "execute_result"
    }
   ],
   "source": [
    "df.head()"
   ]
  },
  {
   "cell_type": "code",
   "execution_count": 12,
   "id": "375cf9d7",
   "metadata": {},
   "outputs": [],
   "source": [
    "df.to_csv(\"df_to_use.csv\")"
   ]
  },
  {
   "cell_type": "code",
   "execution_count": null,
   "id": "de06847a",
   "metadata": {},
   "outputs": [],
   "source": [
    "min_df_list = range(100,2001,250)\n",
    "numTokens_lem = []\n",
    "numTokens_stem = []\n",
    "\n",
    "for i in min_df_list:\n",
    "    \n",
    "    #getting number of tokens using tf idf vectorizer using lemmatization or stemming\n",
    "    print(f'beginning tokenization with min_df = {i}')\n",
    "    tokens_l = (fl.tfidf(df['Review_text'], tokenizer=fl.spl_tokenizer, min_df=i, ngram_range=(1,2))).shape[1]\n",
    "    print(f'vectorization with lemmatization for min_df = {i} complete')\n",
    "    tokens_s = (fl.tfidf(df['Review_text'], tokenizer=fl.sps_tokenizer, min_df=i, ngram_range=(1,2))).shape[1]\n",
    "    print(f'vectorization with stemming for min_df = {i} complete')\n",
    "\n",
    "    #appending number of tokens to the appropriate list\n",
    "    numTokens_lem.append(tokens_l)\n",
    "    numTokens_stem.append(tokens_s)\n",
    "    print(f'number of tokens appending to corresponding list. min_df = {i} complete')"
   ]
  },
  {
   "cell_type": "code",
   "execution_count": null,
   "id": "7d4775a9",
   "metadata": {},
   "outputs": [],
   "source": [
    "plt.figure()\n",
    "plt.plot(min_df_list, numTokens_lem, label='lemmatizer')\n",
    "plt.plot(min_df_list, numTokens_stem, label='stemmer')\n",
    "plt.legend()\n",
    "plt.xlabel('min df value')\n",
    "plt.ylabel('number of tokens')\n",
    "plt.title('Number of tokens for reviewText using TF IDF vectorization and using lemmatization or stemming')\n",
    "plt.show()"
   ]
  },
  {
   "cell_type": "code",
   "execution_count": null,
   "id": "cc7323d4",
   "metadata": {},
   "outputs": [],
   "source": [
    "#obtaining number of tokens using tf idf vectorization based on varying min_df values for summary text \n",
    "#using lemmatization or stemming\n",
    "min_df_list2 = range(100,1201,200)\n",
    "numTokens_lem2 = []\n",
    "numTokens_stem2 = []\n",
    "\n",
    "for i in min_df_list2:\n",
    "    \n",
    "    #getting number of tokens using tf idf vectorizer using lemmatization or stemming\n",
    "    print(f'beginning tokenization with min_df = {i}')\n",
    "    tokens_l = (fl.tfidf(df['Review_Title'], tokenizer=fl.spl_tokenizer, min_df=i, ngram_range=(1,2))).shape[1]\n",
    "    print(f'vectorization with lemmatization for min_df = {i} complete')\n",
    "    tokens_s = (fl.tfidf(df['Review_Title'], tokenizer=fl.sps_tokenizer, min_df=i, ngram_range=(1,2))).shape[1]\n",
    "    print(f'vectorization with stemming for min_df = {i} complete')\n",
    "\n",
    "    #appending number of tokens to the appropriate list\n",
    "    numTokens_lem2.append(tokens_l)\n",
    "    numTokens_stem2.append(tokens_s)\n",
    "    print(f'number of tokens appending to corresponding list. min_df = {i} complete')"
   ]
  },
  {
   "cell_type": "code",
   "execution_count": null,
   "id": "3d200a1b",
   "metadata": {},
   "outputs": [],
   "source": [
    "#plot num tokens for each tokenizer with varying min df values for summary text\n",
    "plt.figure()\n",
    "plt.plot(min_df_list2, numTokens_lem2, label='lemmatizer')\n",
    "plt.plot(min_df_list2, numTokens_stem2, label='stemmer')\n",
    "plt.legend()\n",
    "plt.xlabel('min df value')\n",
    "plt.ylabel('number of tokens')\n",
    "plt.title('Number of tokens for summary text using TF-IDF vectorization and using lemmatization or stemming')\n",
    "plt.show()"
   ]
  },
  {
   "cell_type": "code",
   "execution_count": null,
   "id": "2d40c4c3",
   "metadata": {},
   "outputs": [],
   "source": [
    "review_tokens = fl.tfidf(df['Review_text'], tokenizer=fl.spl_tokenizer, ngram_range=(1,2), min_df=150)"
   ]
  },
  {
   "cell_type": "code",
   "execution_count": null,
   "id": "45cf0242",
   "metadata": {},
   "outputs": [],
   "source": [
    "summary_tokens = fl.tfidf(df['Review_Title'], tokenizer=fl.spl_tokenizer, ngram_range=(1,2), min_df=100)"
   ]
  },
  {
   "cell_type": "code",
   "execution_count": null,
   "id": "eada06d7",
   "metadata": {},
   "outputs": [],
   "source": [
    "df2=df.select_dtypes(include=['int32','int64'])\n",
    "from sklearn.preprocessing import MinMaxScaler\n",
    "mm = MinMaxScaler()\n",
    "df3 = mm.fit_transform(df2)\n",
    "df_scaled = pd.DataFrame(df3, columns = df2.columns)\n",
    "df_scaled.shape\n",
    "del df3, df2\n",
    "df_final = pd.concat([df_scaled, review_tokens, summary_tokens], axis = 1)\n",
    "df_final.head()\n"
   ]
  },
  {
   "cell_type": "code",
   "execution_count": null,
   "id": "54ac85bd",
   "metadata": {},
   "outputs": [],
   "source": [
    "from sklearn.decomposition import PCA"
   ]
  },
  {
   "cell_type": "code",
   "execution_count": null,
   "id": "67b02bc3",
   "metadata": {},
   "outputs": [],
   "source": [
    "# Create a PCA instance: pca\n",
    "pca = PCA(n_components=150)\n",
    "pcs = pca.fit_transform(df_final)"
   ]
  },
  {
   "cell_type": "code",
   "execution_count": null,
   "id": "d28bf2f8",
   "metadata": {},
   "outputs": [],
   "source": [
    "# Plot the explained variances\n",
    "plt.figure(figsize=(10,4))\n",
    "plt.plot(range(150), pca.explained_variance_ratio_[0:500])\n",
    "plt.xlabel('PCA features')\n",
    "plt.ylabel('explained variance %')\n",
    "plt.xticks(range(0,151,25))\n",
    "plt.title('Explained variance % of Principal Components')\n",
    "plt.show()"
   ]
  },
  {
   "cell_type": "code",
   "execution_count": null,
   "id": "57d058f4",
   "metadata": {},
   "outputs": [],
   "source": [
    "# Plot the cumulative sum of explained variances\n",
    "plt.figure(figsize=(10,4))\n",
    "plt.plot(range(150), pca.explained_variance_ratio_.cumsum()[0:500])\n",
    "plt.xlabel('PCA features')\n",
    "plt.ylabel('cumulative sum of explained variance %')\n",
    "plt.xticks(range(0,151,25))\n",
    "plt.title('Cumulative Sum of Explained variance % of Principal Components')\n",
    "plt.show()"
   ]
  },
  {
   "cell_type": "code",
   "execution_count": null,
   "id": "b2482c4c",
   "metadata": {},
   "outputs": [],
   "source": [
    "#explained variance for 300 PCs\n",
    "pca.explained_variance_ratio_.cumsum()[100]"
   ]
  },
  {
   "cell_type": "code",
   "execution_count": null,
   "id": "40e2f896",
   "metadata": {},
   "outputs": [],
   "source": [
    "PCA_components = pd.DataFrame(pcs)"
   ]
  },
  {
   "cell_type": "code",
   "execution_count": null,
   "id": "d2757340",
   "metadata": {},
   "outputs": [],
   "source": [
    "from sklearn.cluster import KMeans"
   ]
  },
  {
   "cell_type": "code",
   "execution_count": null,
   "id": "13a34836",
   "metadata": {},
   "outputs": [],
   "source": [
    "#we begin by trying to determine the optimal number of clusters by looking at inertia scores\n",
    "#cycle through different K values and append inertia score to list\n",
    "k_values = range(8,32)\n",
    "inertia_scores = []\n",
    "\n",
    "for k in k_values:\n",
    "    #instantiate\n",
    "    kmeans_model = KMeans(n_clusters=k,init=\"k-means++\",n_init=1)\n",
    "    #fitting on first 350 PCs\n",
    "    kmeans_model.fit(PCA_components.iloc[:,0:100])\n",
    "    #get scores and append them\n",
    "    inertia = kmeans_model.inertia_\n",
    "    #append score\n",
    "    inertia_scores.append(inertia)"
   ]
  },
  {
   "cell_type": "code",
   "execution_count": null,
   "id": "3ae8ea69",
   "metadata": {},
   "outputs": [],
   "source": [
    "plt.figure()\n",
    "plt.plot(k_values, inertia_scores)\n",
    "plt.xlabel('num of clusters')\n",
    "plt.ylabel('score')\n",
    "plt.title('inertia')\n",
    "plt.xticks(k_values)\n",
    "plt.grid()\n",
    "#plt.ylim(0,580000)\n",
    "plt.show()"
   ]
  },
  {
   "cell_type": "code",
   "execution_count": null,
   "id": "a17e16e1",
   "metadata": {},
   "outputs": [],
   "source": [
    "#instantiate KMeans with 25 clusters\n",
    "kmeans_model22 = KMeans(n_clusters=22, init=\"k-means++\",n_init=1, verbose=1)\n"
   ]
  },
  {
   "cell_type": "code",
   "execution_count": null,
   "id": "d6bff88c",
   "metadata": {},
   "outputs": [],
   "source": [
    "df_clustered=pd.read_hdf(kmeans_model22.fit(PCA_components.iloc[:,0:100]))"
   ]
  },
  {
   "cell_type": "code",
   "execution_count": null,
   "id": "9967848f",
   "metadata": {},
   "outputs": [],
   "source": [
    "import joblib\n",
    "joblib.dump(kmeans_model22, 'kmeans_model22.pkl')"
   ]
  },
  {
   "cell_type": "code",
   "execution_count": null,
   "id": "caab8aca",
   "metadata": {},
   "outputs": [],
   "source": [
    "data_pc_matrix = PCA_components.iloc[:,0:100].to_numpy()\n",
    "pc_feature_matrix = pca.components_[0:100,:]"
   ]
  },
  {
   "cell_type": "code",
   "execution_count": null,
   "id": "a5933bb0",
   "metadata": {},
   "outputs": [],
   "source": [
    "df_recon = pd.DataFrame(np.matmul(data_pc_matrix,pc_feature_matrix), columns=df_final.columns)"
   ]
  },
  {
   "cell_type": "code",
   "execution_count": null,
   "id": "30707047",
   "metadata": {},
   "outputs": [],
   "source": [
    "df_recon['cluster'] = kmeans_model22.labels_"
   ]
  },
  {
   "cell_type": "code",
   "execution_count": null,
   "id": "e6c01e14",
   "metadata": {},
   "outputs": [],
   "source": [
    "df_recon.dropna()"
   ]
  },
  {
   "cell_type": "code",
   "execution_count": null,
   "id": "22e42bd1",
   "metadata": {},
   "outputs": [],
   "source": [
    "df=pd.read_csv('finalReview.csv')\n",
    "df.columns"
   ]
  },
  {
   "cell_type": "code",
   "execution_count": null,
   "id": "8a0ffb66",
   "metadata": {},
   "outputs": [],
   "source": [
    "df_rev_type=df[\"Rev_Type\"]\n",
    "df_recon[\"rev_type\"]=df_rev_type\n",
    "df_recon.head()"
   ]
  },
  {
   "cell_type": "code",
   "execution_count": null,
   "id": "ad6b7bc0",
   "metadata": {},
   "outputs": [],
   "source": [
    "non_tokens_clust = list(df_recon.columns[0:7]) + ['cluster']\n",
    "print(non_tokens_clust)"
   ]
  },
  {
   "cell_type": "code",
   "execution_count": null,
   "id": "86ac553e",
   "metadata": {},
   "outputs": [],
   "source": [
    "#reting\n",
    "df_recon.loc[:,non_tokens_clust].groupby('cluster').mean().iloc[:,0].sort_values(ascending=False)"
   ]
  },
  {
   "cell_type": "code",
   "execution_count": null,
   "id": "4762d73f",
   "metadata": {},
   "outputs": [],
   "source": [
    "#helpfull\n",
    "df_recon.loc[:,non_tokens_clust].groupby('cluster').mean().iloc[:,1].sort_values(ascending=False)"
   ]
  },
  {
   "cell_type": "code",
   "execution_count": null,
   "id": "9fd91ea0",
   "metadata": {},
   "outputs": [],
   "source": [
    "#review_word_count\n",
    "df_recon.loc[:,non_tokens_clust].groupby('cluster').mean().iloc[:,5].sort_values(ascending=False)"
   ]
  },
  {
   "cell_type": "code",
   "execution_count": null,
   "id": "8d9e6911",
   "metadata": {},
   "outputs": [],
   "source": [
    "#review name provided\n",
    "df_recon.loc[:,non_tokens_clust].groupby('cluster').mean().iloc[:,4].sort_values(ascending=False)"
   ]
  },
  {
   "cell_type": "code",
   "execution_count": null,
   "id": "b70ee435",
   "metadata": {},
   "outputs": [],
   "source": [
    "df_cluster15=df_recon.loc[df_recon[\"cluster\"]==3]\n",
    "df_cluster15.shape"
   ]
  },
  {
   "cell_type": "code",
   "execution_count": null,
   "id": "cd030eaf",
   "metadata": {},
   "outputs": [],
   "source": [
    "df_cluster_correct=df_cluster15.loc[df_cluster15[\"rev_type\"]==0]\n",
    "df_cluster_correct.shape"
   ]
  },
  {
   "cell_type": "code",
   "execution_count": null,
   "id": "780ef222",
   "metadata": {},
   "outputs": [],
   "source": []
  }
 ],
 "metadata": {
  "kernelspec": {
   "display_name": "Python 3 (ipykernel)",
   "language": "python",
   "name": "python3"
  },
  "language_info": {
   "codemirror_mode": {
    "name": "ipython",
    "version": 3
   },
   "file_extension": ".py",
   "mimetype": "text/x-python",
   "name": "python",
   "nbconvert_exporter": "python",
   "pygments_lexer": "ipython3",
   "version": "3.9.7"
  }
 },
 "nbformat": 4,
 "nbformat_minor": 5
}
