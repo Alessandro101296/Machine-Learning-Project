{
 "cells": [
  {
   "cell_type": "markdown",
   "metadata": {},
   "source": [
    "# Part 6B: KMeans Cluster Analysis\n",
    "\n",
    "The goal of this notebook is to explore the clusters and try to find a cluster of reviews that shows signs of fake reviews.\n",
    "\n",
    "Recall, signs of fake reviews include:\n",
    "- extreme ratings\n",
    "- unverified purchases\n",
    "- grand claims\n",
    "- shorter reviews"
   ]
  },
  {
   "cell_type": "code",
   "execution_count": 2,
   "metadata": {},
   "outputs": [],
   "source": [
    "#import relevant libraries\n",
    "import pandas as pd\n",
    "import matplotlib.pyplot as plt"
   ]
  },
  {
   "cell_type": "code",
   "execution_count": 3,
   "metadata": {},
   "outputs": [],
   "source": [
    "#read in dataframe that was saved from KMeans modelling which contains cluster labels\n",
    "df = pd.read_hdf('df_recon_25_kmeans_Aumented_DF.h5')"
   ]
  },
  {
   "cell_type": "code",
   "execution_count": 4,
   "metadata": {},
   "outputs": [
    {
     "data": {
      "text/html": [
       "<div>\n",
       "<style scoped>\n",
       "    .dataframe tbody tr th:only-of-type {\n",
       "        vertical-align: middle;\n",
       "    }\n",
       "\n",
       "    .dataframe tbody tr th {\n",
       "        vertical-align: top;\n",
       "    }\n",
       "\n",
       "    .dataframe thead th {\n",
       "        text-align: right;\n",
       "    }\n",
       "</style>\n",
       "<table border=\"1\" class=\"dataframe\">\n",
       "  <thead>\n",
       "    <tr style=\"text-align: right;\">\n",
       "      <th></th>\n",
       "      <th>overall</th>\n",
       "      <th>verified</th>\n",
       "      <th>vote</th>\n",
       "      <th>review_word_count</th>\n",
       "      <th>summary_word_count</th>\n",
       "      <th>month</th>\n",
       "      <th>dayofweek</th>\n",
       "      <th>multipleReviews_reviewer</th>\n",
       "      <th>reviewer_five_star_only</th>\n",
       "      <th>reviewer_one_star_only</th>\n",
       "      <th>...</th>\n",
       "      <th>s_well</th>\n",
       "      <th>s_wonderful</th>\n",
       "      <th>s_work</th>\n",
       "      <th>s_work s_great</th>\n",
       "      <th>s_work s_well</th>\n",
       "      <th>s_worked</th>\n",
       "      <th>s_worth</th>\n",
       "      <th>s_would</th>\n",
       "      <th>s_year</th>\n",
       "      <th>cluster</th>\n",
       "    </tr>\n",
       "  </thead>\n",
       "  <tbody>\n",
       "    <tr>\n",
       "      <th>0</th>\n",
       "      <td>-0.774194</td>\n",
       "      <td>0.130718</td>\n",
       "      <td>-0.000477</td>\n",
       "      <td>-0.021876</td>\n",
       "      <td>-0.017040</td>\n",
       "      <td>-0.390108</td>\n",
       "      <td>0.027169</td>\n",
       "      <td>-0.189852</td>\n",
       "      <td>-0.592332</td>\n",
       "      <td>0.900153</td>\n",
       "      <td>...</td>\n",
       "      <td>-0.007405</td>\n",
       "      <td>-0.003035</td>\n",
       "      <td>-0.022122</td>\n",
       "      <td>-0.007116</td>\n",
       "      <td>-0.000506</td>\n",
       "      <td>-0.006763</td>\n",
       "      <td>-0.005747</td>\n",
       "      <td>-0.005424</td>\n",
       "      <td>-0.002480</td>\n",
       "      <td>8</td>\n",
       "    </tr>\n",
       "    <tr>\n",
       "      <th>1</th>\n",
       "      <td>-0.025511</td>\n",
       "      <td>0.130969</td>\n",
       "      <td>-0.000726</td>\n",
       "      <td>-0.020380</td>\n",
       "      <td>0.014421</td>\n",
       "      <td>0.518709</td>\n",
       "      <td>0.027204</td>\n",
       "      <td>-0.189691</td>\n",
       "      <td>-0.591538</td>\n",
       "      <td>-0.101172</td>\n",
       "      <td>...</td>\n",
       "      <td>0.001249</td>\n",
       "      <td>-0.008481</td>\n",
       "      <td>-0.024936</td>\n",
       "      <td>0.002453</td>\n",
       "      <td>-0.014069</td>\n",
       "      <td>0.007629</td>\n",
       "      <td>-0.007422</td>\n",
       "      <td>-0.000763</td>\n",
       "      <td>-0.002815</td>\n",
       "      <td>13</td>\n",
       "    </tr>\n",
       "    <tr>\n",
       "      <th>2</th>\n",
       "      <td>-0.027927</td>\n",
       "      <td>0.131374</td>\n",
       "      <td>-0.000902</td>\n",
       "      <td>-0.024874</td>\n",
       "      <td>-0.011501</td>\n",
       "      <td>0.155444</td>\n",
       "      <td>0.527129</td>\n",
       "      <td>-0.189695</td>\n",
       "      <td>-0.591579</td>\n",
       "      <td>-0.099567</td>\n",
       "      <td>...</td>\n",
       "      <td>-0.001807</td>\n",
       "      <td>-0.008689</td>\n",
       "      <td>-0.024268</td>\n",
       "      <td>-0.004949</td>\n",
       "      <td>-0.015753</td>\n",
       "      <td>-0.007231</td>\n",
       "      <td>0.977977</td>\n",
       "      <td>-0.006115</td>\n",
       "      <td>-0.009342</td>\n",
       "      <td>13</td>\n",
       "    </tr>\n",
       "    <tr>\n",
       "      <th>3</th>\n",
       "      <td>0.225000</td>\n",
       "      <td>0.131145</td>\n",
       "      <td>-0.000197</td>\n",
       "      <td>-0.010150</td>\n",
       "      <td>-0.006712</td>\n",
       "      <td>-0.299351</td>\n",
       "      <td>-0.472857</td>\n",
       "      <td>-0.189916</td>\n",
       "      <td>0.406675</td>\n",
       "      <td>-0.100662</td>\n",
       "      <td>...</td>\n",
       "      <td>-0.006456</td>\n",
       "      <td>-0.005412</td>\n",
       "      <td>-0.025414</td>\n",
       "      <td>-0.003705</td>\n",
       "      <td>0.000746</td>\n",
       "      <td>0.003979</td>\n",
       "      <td>-0.015254</td>\n",
       "      <td>-0.007348</td>\n",
       "      <td>-0.020953</td>\n",
       "      <td>7</td>\n",
       "    </tr>\n",
       "    <tr>\n",
       "      <th>4</th>\n",
       "      <td>0.220052</td>\n",
       "      <td>0.131171</td>\n",
       "      <td>0.000056</td>\n",
       "      <td>0.006983</td>\n",
       "      <td>0.001890</td>\n",
       "      <td>0.518661</td>\n",
       "      <td>0.527130</td>\n",
       "      <td>-0.190000</td>\n",
       "      <td>0.409226</td>\n",
       "      <td>-0.100673</td>\n",
       "      <td>...</td>\n",
       "      <td>-0.004567</td>\n",
       "      <td>-0.000948</td>\n",
       "      <td>-0.019598</td>\n",
       "      <td>-0.008728</td>\n",
       "      <td>-0.004536</td>\n",
       "      <td>-0.003423</td>\n",
       "      <td>0.001133</td>\n",
       "      <td>-0.012412</td>\n",
       "      <td>-0.004151</td>\n",
       "      <td>19</td>\n",
       "    </tr>\n",
       "  </tbody>\n",
       "</table>\n",
       "<p>5 rows × 865 columns</p>\n",
       "</div>"
      ],
      "text/plain": [
       "    overall  verified      vote  review_word_count  summary_word_count  \\\n",
       "0 -0.774194  0.130718 -0.000477          -0.021876           -0.017040   \n",
       "1 -0.025511  0.130969 -0.000726          -0.020380            0.014421   \n",
       "2 -0.027927  0.131374 -0.000902          -0.024874           -0.011501   \n",
       "3  0.225000  0.131145 -0.000197          -0.010150           -0.006712   \n",
       "4  0.220052  0.131171  0.000056           0.006983            0.001890   \n",
       "\n",
       "      month  dayofweek  multipleReviews_reviewer  reviewer_five_star_only  \\\n",
       "0 -0.390108   0.027169                 -0.189852                -0.592332   \n",
       "1  0.518709   0.027204                 -0.189691                -0.591538   \n",
       "2  0.155444   0.527129                 -0.189695                -0.591579   \n",
       "3 -0.299351  -0.472857                 -0.189916                 0.406675   \n",
       "4  0.518661   0.527130                 -0.190000                 0.409226   \n",
       "\n",
       "   reviewer_one_star_only  ...    s_well  s_wonderful    s_work  \\\n",
       "0                0.900153  ... -0.007405    -0.003035 -0.022122   \n",
       "1               -0.101172  ...  0.001249    -0.008481 -0.024936   \n",
       "2               -0.099567  ... -0.001807    -0.008689 -0.024268   \n",
       "3               -0.100662  ... -0.006456    -0.005412 -0.025414   \n",
       "4               -0.100673  ... -0.004567    -0.000948 -0.019598   \n",
       "\n",
       "   s_work s_great  s_work s_well  s_worked   s_worth   s_would    s_year  \\\n",
       "0       -0.007116      -0.000506 -0.006763 -0.005747 -0.005424 -0.002480   \n",
       "1        0.002453      -0.014069  0.007629 -0.007422 -0.000763 -0.002815   \n",
       "2       -0.004949      -0.015753 -0.007231  0.977977 -0.006115 -0.009342   \n",
       "3       -0.003705       0.000746  0.003979 -0.015254 -0.007348 -0.020953   \n",
       "4       -0.008728      -0.004536 -0.003423  0.001133 -0.012412 -0.004151   \n",
       "\n",
       "   cluster  \n",
       "0        8  \n",
       "1       13  \n",
       "2       13  \n",
       "3        7  \n",
       "4       19  \n",
       "\n",
       "[5 rows x 865 columns]"
      ]
     },
     "execution_count": 4,
     "metadata": {},
     "output_type": "execute_result"
    }
   ],
   "source": [
    "df.head()"
   ]
  },
  {
   "cell_type": "markdown",
   "metadata": {},
   "source": [
    "Note that df was reconstructed from principal components so the values can be negative.\n",
    "\n",
    "### Cluster Analysis\n",
    "\n",
    "Let's begin by looking at the non-token features."
   ]
  },
  {
   "cell_type": "code",
   "execution_count": 5,
   "metadata": {},
   "outputs": [],
   "source": [
    "#getting names of non-token features and cluster for analysis\n",
    "non_tokens_clust = list(df.columns[0:12]) + ['cluster']"
   ]
  },
  {
   "cell_type": "code",
   "execution_count": 6,
   "metadata": {},
   "outputs": [],
   "source": [
    "#getting names of token features and cluster for analysis\n",
    "tokens_clust = list(df.columns[12:])"
   ]
  },
  {
   "cell_type": "markdown",
   "metadata": {},
   "source": [
    "#### Non-token Features\n",
    "Let's look for clusters with mainly extreme ratings, unverified purchases, lower amount of helpful votes and shorter reviews."
   ]
  },
  {
   "cell_type": "markdown",
   "metadata": {},
   "source": [
    "##### Rating"
   ]
  },
  {
   "cell_type": "code",
   "execution_count": 7,
   "metadata": {},
   "outputs": [
    {
     "data": {
      "text/plain": [
       "cluster\n",
       "26    0.223272\n",
       "12    0.223212\n",
       "6     0.223149\n",
       "1     0.223149\n",
       "9     0.223139\n",
       "24    0.223109\n",
       "19    0.223071\n",
       "7     0.223064\n",
       "22    0.223053\n",
       "2     0.223053\n",
       "3     0.223042\n",
       "17    0.223030\n",
       "20    0.223001\n",
       "21   -0.027151\n",
       "25   -0.098417\n",
       "10   -0.101275\n",
       "23   -0.170864\n",
       "15   -0.189705\n",
       "18   -0.210364\n",
       "11   -0.210727\n",
       "13   -0.215920\n",
       "16   -0.216189\n",
       "0    -0.526180\n",
       "4    -0.775403\n",
       "14   -0.776850\n",
       "5    -0.776906\n",
       "8    -0.776959\n",
       "Name: overall, dtype: float64"
      ]
     },
     "execution_count": 7,
     "metadata": {},
     "output_type": "execute_result"
    }
   ],
   "source": [
    "#let's look at average rating by cluster\n",
    "df.loc[:,non_tokens_clust].groupby('cluster').mean().iloc[:,0].sort_values(ascending=False)"
   ]
  },
  {
   "cell_type": "markdown",
   "metadata": {},
   "source": [
    "From here we can see that about half of the clusters have a mean of 0.223 rating. As we know, the data was heavily skewed to high ratings (ie. 5) so this on its own is not informative. What is interesting though is clusters 5 and 16 have the lowest ratings."
   ]
  },
  {
   "cell_type": "markdown",
   "metadata": {},
   "source": [
    "##### Verified Purchase"
   ]
  },
  {
   "cell_type": "code",
   "execution_count": 8,
   "metadata": {},
   "outputs": [
    {
     "data": {
      "text/plain": [
       "cluster\n",
       "10    0.131051\n",
       "9     0.131033\n",
       "16    0.131009\n",
       "11    0.131008\n",
       "18    0.131004\n",
       "13    0.130998\n",
       "7     0.130996\n",
       "26    0.130984\n",
       "22    0.130983\n",
       "3     0.130973\n",
       "19    0.130968\n",
       "2     0.130733\n",
       "23    0.116316\n",
       "24    0.104850\n",
       "6     0.101588\n",
       "0     0.095531\n",
       "17    0.080074\n",
       "21    0.079168\n",
       "8     0.068314\n",
       "1     0.060576\n",
       "5     0.047310\n",
       "4     0.011995\n",
       "14   -0.037088\n",
       "25   -0.437935\n",
       "20   -0.868992\n",
       "15   -0.869077\n",
       "12   -0.869078\n",
       "Name: verified, dtype: float64"
      ]
     },
     "execution_count": 8,
     "metadata": {},
     "output_type": "execute_result"
    }
   ],
   "source": [
    "#let's look at average verified purchase by cluster\n",
    "df.loc[:,non_tokens_clust].groupby('cluster').mean().iloc[:,1].sort_values(ascending=False)"
   ]
  },
  {
   "cell_type": "markdown",
   "metadata": {},
   "source": [
    "Very interesting. **Clusters 22 and 8** both have the most negative values which indicate they have the largest number of **unverified** purchases. These are good candidates too look into further."
   ]
  },
  {
   "cell_type": "markdown",
   "metadata": {},
   "source": [
    "##### Votes"
   ]
  },
  {
   "cell_type": "code",
   "execution_count": 9,
   "metadata": {},
   "outputs": [
    {
     "data": {
      "text/plain": [
       "cluster\n",
       "12    6.895780e-04\n",
       "15    6.671384e-04\n",
       "20    6.202639e-04\n",
       "25    5.885387e-04\n",
       "4     4.162905e-04\n",
       "14    3.652162e-04\n",
       "26    1.420946e-04\n",
       "2     1.400212e-04\n",
       "5     1.376493e-05\n",
       "11    4.729673e-07\n",
       "7    -3.197071e-05\n",
       "9    -3.343387e-05\n",
       "3    -3.463429e-05\n",
       "18   -3.483095e-05\n",
       "16   -3.895418e-05\n",
       "10   -5.788250e-05\n",
       "22   -5.938908e-05\n",
       "13   -6.039459e-05\n",
       "19   -6.287912e-05\n",
       "23   -2.005553e-04\n",
       "24   -2.416317e-04\n",
       "8    -2.510905e-04\n",
       "0    -2.524673e-04\n",
       "1    -3.054200e-04\n",
       "6    -3.234598e-04\n",
       "21   -3.317713e-04\n",
       "17   -3.617160e-04\n",
       "Name: vote, dtype: float64"
      ]
     },
     "execution_count": 9,
     "metadata": {},
     "output_type": "execute_result"
    }
   ],
   "source": [
    "#let's look at average votes by cluster\n",
    "df.loc[:,non_tokens_clust].groupby('cluster').mean().iloc[:,2].sort_values(ascending=False)"
   ]
  },
  {
   "cell_type": "markdown",
   "metadata": {},
   "source": [
    "Clusters 22 and 8 have the highest number of votes. Strange considering they also had the highest number of unverified purchases."
   ]
  },
  {
   "cell_type": "markdown",
   "metadata": {},
   "source": [
    "##### Word Count"
   ]
  },
  {
   "cell_type": "code",
   "execution_count": 10,
   "metadata": {},
   "outputs": [
    {
     "data": {
      "text/plain": [
       "cluster\n",
       "15    0.021527\n",
       "25    0.021276\n",
       "12    0.020989\n",
       "20    0.017995\n",
       "4     0.005891\n",
       "26    0.005432\n",
       "2     0.004938\n",
       "14    0.003733\n",
       "18    0.003701\n",
       "11    0.003544\n",
       "10    0.003215\n",
       "13    0.002028\n",
       "16    0.001927\n",
       "9     0.001892\n",
       "22    0.000724\n",
       "7     0.000571\n",
       "3     0.000049\n",
       "19    0.000047\n",
       "23   -0.004345\n",
       "5    -0.006168\n",
       "24   -0.008928\n",
       "8    -0.013046\n",
       "21   -0.013059\n",
       "0    -0.013133\n",
       "1    -0.013169\n",
       "6    -0.013290\n",
       "17   -0.015517\n",
       "Name: review_word_count, dtype: float64"
      ]
     },
     "execution_count": 10,
     "metadata": {},
     "output_type": "execute_result"
    }
   ],
   "source": [
    "#let's look at average review word count by cluster\n",
    "df.loc[:,non_tokens_clust].groupby('cluster').mean().iloc[:,3].sort_values(ascending=False)"
   ]
  },
  {
   "cell_type": "markdown",
   "metadata": {},
   "source": [
    "Clusters 22 and 8 have the largest review word counts - this makes sense since they have the largest number of votes since longer reviews tend to have more information so they are more helpful. However, these clusters also have the highest number of unverified purchases which is counter-intuitive. This needs to be looked into further."
   ]
  },
  {
   "cell_type": "markdown",
   "metadata": {},
   "source": [
    "#### Reviewer Behaviour\n",
    "Let's look into **reviewer behaviour**. This may shed some more insight into whats happening in these clusters."
   ]
  },
  {
   "cell_type": "code",
   "execution_count": 11,
   "metadata": {},
   "outputs": [
    {
     "data": {
      "text/plain": [
       "cluster\n",
       "25    0.810284\n",
       "12    0.810186\n",
       "9     0.810101\n",
       "10    0.810085\n",
       "26    0.809703\n",
       "23   -0.034247\n",
       "21   -0.053114\n",
       "17   -0.065970\n",
       "1    -0.070160\n",
       "0    -0.070775\n",
       "6    -0.075060\n",
       "24   -0.137228\n",
       "14   -0.137260\n",
       "8    -0.148940\n",
       "4    -0.153785\n",
       "5    -0.157778\n",
       "2    -0.188906\n",
       "16   -0.189838\n",
       "11   -0.189840\n",
       "13   -0.189846\n",
       "18   -0.189848\n",
       "22   -0.189850\n",
       "20   -0.189850\n",
       "15   -0.189851\n",
       "3    -0.189854\n",
       "19   -0.189855\n",
       "7    -0.189861\n",
       "Name: multipleReviews_reviewer, dtype: float64"
      ]
     },
     "execution_count": 11,
     "metadata": {},
     "output_type": "execute_result"
    }
   ],
   "source": [
    "#let's look at multipleReviews_reviewer by cluster which informs us if reviewers post more than 1 review or not\n",
    "df.loc[:,non_tokens_clust].groupby('cluster').mean().iloc[:,7].sort_values(ascending=False)"
   ]
  },
  {
   "cell_type": "markdown",
   "metadata": {},
   "source": [
    "Clusters 22 and 8 are part of the lower third of clusters that have the lowest number of reviewers posting more than 1 review (ie. most reviewers post only 1 review). This sort of makes makes sense since these clusters also happen to have the highest number of unverified purchases and as we have seen before, there is a limit on the number of reviews that can be given with unverified purchases.\n",
    "\n",
    "In contrast, clusters 13, 17, 24, 14 and 0 have the highest number of reviewers with more than 1 review. We want to keep an eye out for those clusters as well as one of our assumptions was that fake reviewers could be incentivized to give a lot of fake 5 star reviews."
   ]
  },
  {
   "cell_type": "code",
   "execution_count": 20,
   "metadata": {},
   "outputs": [
    {
     "data": {
      "text/plain": [
       "cluster\n",
       "14    0.408039\n",
       "22    0.408026\n",
       "4     0.408025\n",
       "20    0.408022\n",
       "3     0.408020\n",
       "21    0.408018\n",
       "19    0.408018\n",
       "15    0.408015\n",
       "13    0.407986\n",
       "18    0.407876\n",
       "1     0.407813\n",
       "10    0.407768\n",
       "12    0.398355\n",
       "24    0.240673\n",
       "6    -0.591830\n",
       "9    -0.591954\n",
       "17   -0.591957\n",
       "5    -0.591979\n",
       "23   -0.591990\n",
       "7    -0.591992\n",
       "2    -0.591998\n",
       "16   -0.592000\n",
       "8    -0.592008\n",
       "0    -0.592023\n",
       "11   -0.592025\n",
       "Name: reviewer_five_star_only, dtype: float64"
      ]
     },
     "execution_count": 20,
     "metadata": {},
     "output_type": "execute_result"
    }
   ],
   "source": [
    "#let's look at multipleReviews_reviewer by cluster which informs us if reviewers post more than 1 review or not\n",
    "df.loc[:,non_tokens_clust].groupby('cluster').mean().iloc[:,8].sort_values(ascending=False)"
   ]
  },
  {
   "cell_type": "markdown",
   "metadata": {},
   "source": [
    "Cluster 22 among highest cluster with only 5-star reviewers. Notice cluster 8 is amongst the lowest. It you scroll up, it also did not possess extreme ratings as it was in the middle of the pack. This eliminates cluster 8 as we would expect extreme ratings from fake reviews.\n",
    "\n",
    "From the newly mentioned, clusters 14, 13 and 24 have high amount of 5-star reviewers. Let's revisit their features from above.\n",
    "- all had among the highest overall ratings\n",
    "- cluster 13 (and somewhat 14,24) had low amount of verified purchases\n",
    "- clusters 13 and 14 had high amount of votes where as 24 had the lowest (this raises suspicion on cluster 24)\n",
    "- clusters 13 and 14 had higher word counts where as 24 was amongst the lowest (this raises further suspicions on cluster 24)\n",
    "- and as we have seen, all had high amount of reviewers that post multiple reviews\n",
    "\n",
    "Based on the above, I want to keep a close eye on **cluster 24 and 22** as we move along the analysis.\n",
    "\n",
    "In addition, I went back and identified cluster 18 as having almost identical features as cluster 24. The main difference between the 2 is cluster 24 has many reviewers that posted more than 1 review where as cluster 18 is the opposite. So I will include **cluster 18** in further analysis as well."
   ]
  },
  {
   "cell_type": "markdown",
   "metadata": {},
   "source": [
    "#### Top Tokens per cluster\n",
    "Let's look at the top tokens per cluster."
   ]
  },
  {
   "cell_type": "code",
   "execution_count": 24,
   "metadata": {},
   "outputs": [],
   "source": [
    "#getting the mean token value per cluster\n",
    "df_tokens = df.loc[:,tokens_clust].groupby('cluster').mean() "
   ]
  },
  {
   "cell_type": "code",
   "execution_count": 25,
   "metadata": {},
   "outputs": [],
   "source": [
    "#getting review tokens\n",
    "df_review = df_tokens.iloc[:,0:1153]"
   ]
  },
  {
   "cell_type": "code",
   "execution_count": 26,
   "metadata": {},
   "outputs": [],
   "source": [
    "#gettings summary tokens\n",
    "df_summary = df_tokens.iloc[:,1153:]"
   ]
  },
  {
   "cell_type": "code",
   "execution_count": 28,
   "metadata": {},
   "outputs": [
    {
     "name": "stdout",
     "output_type": "stream",
     "text": [
      "r_skin         0.022568\n",
      "r_razor        0.013561\n",
      "r_product      0.013151\n",
      "r_using        0.011240\n",
      "r_hair         0.011105\n",
      "r_review       0.010927\n",
      "r_shave        0.010418\n",
      "r_ive          0.010025\n",
      "r_face         0.009837\n",
      "r_use          0.009801\n",
      "r_feel         0.009543\n",
      "r_used         0.009429\n",
      "r_also         0.009342\n",
      "r_cream        0.009123\n",
      "r_day          0.008566\n",
      "r_recommend    0.008131\n",
      "r_year         0.007840\n",
      "r_eye          0.007703\n",
      "r_amazing      0.007348\n",
      "r_shaver       0.007331\n",
      "Name: 22, dtype: float64\n",
      "s_great    0.037677\n",
      "s_love     0.032237\n",
      "s_best     0.027594\n",
      "Name: 22, dtype: float64\n"
     ]
    }
   ],
   "source": [
    "#now let's print the top 20 review tokens and top 3 summary tokens for cluster 22\n",
    "cluster=22\n",
    "print(df_review.iloc[cluster,:].sort_values(ascending=False)[0:20])\n",
    "print(df_summary.iloc[cluster,:].sort_values(ascending=False)[0:3])"
   ]
  },
  {
   "cell_type": "markdown",
   "metadata": {},
   "source": [
    "There is no clear trend in the top words in cluster 22. Let's look at cluster 24."
   ]
  },
  {
   "cell_type": "code",
   "execution_count": 37,
   "metadata": {},
   "outputs": [
    {
     "name": "stdout",
     "output_type": "stream",
     "text": [
      "r_love                   0.059927\n",
      "r_great                  0.048390\n",
      "r_good                   0.028893\n",
      "r_great r_product        0.016714\n",
      "r_excellent              0.015234\n",
      "r_nice                   0.011589\n",
      "r_work r_great           0.010057\n",
      "r_thank                  0.009268\n",
      "r_perfect                0.009075\n",
      "r_beautiful              0.007560\n",
      "r_good r_product         0.007318\n",
      "r_product                0.006703\n",
      "r_favorite               0.006528\n",
      "r_thanks                 0.006233\n",
      "r_awesome                0.005321\n",
      "r_excellent r_product    0.004746\n",
      "r_love r_product         0.004593\n",
      "r_best                   0.004534\n",
      "r_blush                  0.004309\n",
      "r_described              0.004086\n",
      "Name: 24, dtype: float64\n",
      "s_five s_star    0.492332\n",
      "s_five           0.492275\n",
      "s_star           0.382379\n",
      "Name: 24, dtype: float64\n"
     ]
    }
   ],
   "source": [
    "#now let's print the top 20 review tokens and top 3 summary tokens for cluster 24\n",
    "cluster=24\n",
    "print(df_review.iloc[cluster,:].sort_values(ascending=False)[0:20])\n",
    "print(df_summary.iloc[cluster,:].sort_values(ascending=False)[0:3])"
   ]
  },
  {
   "cell_type": "markdown",
   "metadata": {},
   "source": [
    "Ok this is clear. There are more general positive terms in this cluster. This fits perfectly in our description of fake reviews which would use more general postive terms and lacking personal details.\n",
    "\n",
    "Cluster 24 is emerging as a clear candidate."
   ]
  },
  {
   "cell_type": "code",
   "execution_count": 38,
   "metadata": {},
   "outputs": [
    {
     "name": "stdout",
     "output_type": "stream",
     "text": [
      "r_love                   0.068001\n",
      "r_great                  0.042623\n",
      "r_good                   0.030749\n",
      "r_perfect                0.018975\n",
      "r_great r_product        0.018291\n",
      "r_excellent              0.013513\n",
      "r_awesome                0.011508\n",
      "r_nice                   0.009661\n",
      "r_amazing                0.009618\n",
      "r_loved                  0.009607\n",
      "r_product                0.008806\n",
      "r_thank                  0.007181\n",
      "r_work r_great           0.006084\n",
      "r_thanks                 0.005791\n",
      "r_good r_product         0.004858\n",
      "r_love r_product         0.004644\n",
      "r_excellent r_product    0.004246\n",
      "r_beautiful              0.004180\n",
      "r_wonderful              0.003551\n",
      "r_best                   0.003237\n",
      "Name: 18, dtype: float64\n",
      "s_five s_star    0.492297\n",
      "s_five           0.492256\n",
      "s_star           0.382085\n",
      "Name: 18, dtype: float64\n"
     ]
    }
   ],
   "source": [
    "#now let's print the top 20 review tokens and top 3 summary tokens for cluster 18\n",
    "cluster=18\n",
    "print(df_review.iloc[cluster,:].sort_values(ascending=False)[0:20])\n",
    "print(df_summary.iloc[cluster,:].sort_values(ascending=False)[0:3])"
   ]
  },
  {
   "cell_type": "markdown",
   "metadata": {},
   "source": [
    "Just like cluster 24, cluster 18 contains general positive terms so cluster 18 is also a candidate for fake reviews."
   ]
  },
  {
   "cell_type": "markdown",
   "metadata": {},
   "source": [
    "Now let's visualize the top tokens that are associated with grand claims (e.g. best product ever!) and let's see which clusters have the highest amount of these tokens\n",
    "\n",
    "### Visualizing tokens\n",
    "\n",
    "Let's look at some tokens e.g. excellent, love and great product."
   ]
  },
  {
   "cell_type": "code",
   "execution_count": 53,
   "metadata": {},
   "outputs": [
    {
     "data": {
      "image/png": "[encoded data removed]",
      "text/plain": [
       "<Figure size 1296x360 with 3 Axes>"
      ]
     },
     "metadata": {
      "needs_background": "light"
     },
     "output_type": "display_data"
    }
   ],
   "source": [
    "tokens = ['r_excellent','r_love','r_great r_product']\n",
    "df_tokens = df[tokens+['cluster']].groupby('cluster').mean()\n",
    "\n",
    "plt.subplots(1,3, figsize=(18,5))\n",
    "for token in range(len(tokens)):\n",
    "    plt.subplot(1,3,token+1)\n",
    "    #plt.figure(figsize=(7,4))\n",
    "    plt.bar(df_tokens.index, df_tokens[tokens[token]])\n",
    "    plt.xticks(range(25))\n",
    "    plt.xlabel('clusters')\n",
    "    plt.ylabel('Prominence value')\n",
    "    plt.title(f'Prominence of term \"{tokens[token]}\" in each cluster')\n",
    "plt.tight_layout()\n",
    "plt.show()"
   ]
  },
  {
   "cell_type": "markdown",
   "metadata": {},
   "source": [
    "As can be seen, clusters 24 and 18 are among the highest, if not highest, clusters for the words excellent, love and great product. We can therefore conclude that these clusters are of lower quality given the shorter word lengths and use of general positive terms. This gives credenece that if fake reviews existed, they would most likely be contained within these 2 clusters.\n",
    "\n",
    "When I did LDA topic modelling, I noticed one topic had prominent terms such as exchange, discount, received product, unbiased and honest review which all indicate that some reviews were given in exchange for product. These are highly concerning because these reviews may be unreliable. Let's see if we can find a cluster with these terms from the Kmeans model."
   ]
  },
  {
   "cell_type": "code",
   "execution_count": 55,
   "metadata": {},
   "outputs": [
    {
     "data": {
      "image/png": "[encoded data removed]",
      "text/plain": [
       "<Figure size 1296x720 with 6 Axes>"
      ]
     },
     "metadata": {
      "needs_background": "light"
     },
     "output_type": "display_data"
    }
   ],
   "source": [
    "tokens = ['r_exchange','r_free','r_discount','r_received r_product','r_honest r_review', 'r_unbiased']\n",
    "df_tokens = df[tokens+['cluster']].groupby('cluster').mean()\n",
    "\n",
    "plt.subplots(2,3, figsize=(18,10))\n",
    "for token in range(len(tokens)):\n",
    "    plt.subplot(2,3,token+1)\n",
    "    #plt.figure(figsize=(7,4))\n",
    "    plt.bar(df_tokens.index, df_tokens[tokens[token]])\n",
    "    plt.xticks(range(25))\n",
    "    plt.xlabel('clusters')\n",
    "    plt.ylabel('Prominence value')\n",
    "    plt.title(f'Prominence of term \"{tokens[token]}\" in each cluster')\n",
    "plt.tight_layout()\n",
    "plt.show()"
   ]
  },
  {
   "cell_type": "markdown",
   "metadata": {},
   "source": [
    "Wow! Cluster 22 (and 8) has the highest values for all the terms mentioned. This solves the mystery of cluster 22. Seemingly people were giving 'honest' or 'unbiased' reviews in exchange for receiving product for free or at a discount. This may explain why the word count is longer as people were trying to give proper reviews of the products. Perhaps the reason there is low amount of verified purchases is beacuse the reviewers were given the product for free externally from Amazon in exchange for reviews. \n",
    "\n",
    "This means these reviews aren't necessarily fake but they may be unreliable because the reviews in cluster 22 are all 5 stars so seemingly the reviewers are more incentivized to give good reviews even though they claim to be giving unbiased reviews. As opposed to cluster 8, which only has 2, 3 and 4 star reviews which seems to contain more realistic reviews."
   ]
  },
  {
   "cell_type": "markdown",
   "metadata": {},
   "source": [
    "#### Conclusion:\n",
    "- clusters 24 and 18 have the most telltale features of fake reviews (5 stars, low word count, use of general positive terms)\n",
    "- the key difference between clusters 24 and 18 is reviewer behaviour. Reviewers in cluster 24 post more than 1 review where as in 18, they have only posted 1 review. This may indicate that some fake reviewers review multiple products where as in other cases, reviewers use different accounts perhaps to review the same product.\n",
    "- cluster 22 contains reviews of people who may have been incentivized to give good reviews; this does not necessarily mean the reviews are fake but they may be unreliable"
   ]
  },
  {
   "cell_type": "markdown",
   "metadata": {},
   "source": [
    "# Let's take a look to the reviews of some cluster (near centroids)\n"
   ]
  },
  {
   "cell_type": "code",
   "execution_count": 9,
   "metadata": {},
   "outputs": [],
   "source": [
    "import functions_library as fl\n",
    "import numpy as np"
   ]
  },
  {
   "cell_type": "code",
   "execution_count": 6,
   "metadata": {},
   "outputs": [],
   "source": [
    "df_raw=fl.pipedf('All_Beauty.json.gz')"
   ]
  },
  {
   "cell_type": "code",
   "execution_count": 7,
   "metadata": {},
   "outputs": [],
   "source": [
    "# prendo le review relativa ad uno dei cluster di interesse\n",
    "df_cluster_selected=df.loc[df[\"cluster\"]==24]"
   ]
  },
  {
   "cell_type": "code",
   "execution_count": 12,
   "metadata": {},
   "outputs": [],
   "source": [
    "#per ogni review del cluster calcolo la distanza euclidea tra essa e il centro del cluster\n",
    "cols=len(df_cluster_selected.axes[1])\n",
    "near_record=[]\n",
    "a=np.array([0.22297965567561417, 0.13097004759056535, 2.8059786932247295e-05, 0.0009454537436706134, 0.00410158119715552, -0.02452937254417862, 0.017426542279810338, -0.18984840387889718, 0.4077879872295697, -0.10014694458712006, -0.009705146095760946, 0.06832208551551033, 0.00039030154430167135, 0.0004803557092665471, -0.0003080965428838381, 0.00023197962668712862, 0.00020051607753203705, 0.0017880289133381704, 0.0008657648050463713, 0.00030486469683994096, 0.0012616034348690104, 0.001078774341386282, 0.0010826049061007843, 0.0007442966246285986, -0.0004017404595864167, 0.00022249872569094235, -0.00023922162976974034, -0.0006701483876984737, -0.00012811600496122127, 0.00031205086911987727, 0.00018023112172603446, 0.00015234130522330275, 0.0007039941272537273, -0.0015706635593076498, -0.0008785249383325173, 7.972696334240796e-05, 0.0025905663976149287, 0.0001812636995684568, -0.0005909983263951389, 0.0054395541699194805, 0.0001307857210038028, 8.387817911032305e-07, -0.00035246134142869905, -0.00011048352553918127, 0.0016919108515407644, 0.0005986661133242321, 0.0009891242838453481, 0.0003533133023732939, 0.00022705448991991808, 0.0005181357464861601, -9.952731953944166e-05, 0.0005130350786809351, 0.0011885937312548025, 0.0012818306825291602, -0.0004369031212401994, 0.001373525281017536, 0.00025346284795164096, 0.000322858849846147, 0.0010157133325676242, 0.00017341215001568538, 0.00019356301296705793, 0.00024784959793471446, 0.00018268826922155363, 0.0001194504055727583, 0.00019735375788380733, 0.00016393737381426796, -0.0010912913170283342, 0.0008129592627857416, 0.00048112911769652126, 0.0023773309632067834, 0.0006857512253818747, 0.002520021353806095, -0.0001612350930689857, 0.0011535631483687015, 0.0007650078749964318, -0.002681318836282777, 0.0004088901629222284, 0.0001615619675458219, 0.0003078588362011381, -7.525302123502739e-05, 0.00028203052722732577, 0.0011259626445037725, -0.0024092427236948413, -0.0007339461941525872, 0.0003825156576836064, 0.0008811525061857902, -0.00044916723641811056, -0.0009097488013904626, -7.46925998706228e-06, -0.00015657998523178267, -0.0027020638960397487, -0.000479162328252671, -0.00041470234947597027, 0.00010888809817194889, -0.0002014648442253157, -0.0006872771128172496, 1.8336983528127737e-05, 0.001331923352389911, 0.00036957117066436606, 0.00013705213669860591, -0.005816274929569006, -9.38117946300857e-05, 0.00041661383777339214, 0.000923019047535306, 0.0001695610981114879, 0.0007140217522855852, -0.00020960897501242617, -0.001616702814107791, 0.002243952594027805, -0.0004082357789950031, -0.00034598646960913896, -0.000566404379151837, -0.0003905620613516279, -0.000857741052862836, -0.0001898933817528315, -0.0007532801027962873, -0.0018625293926134209, 0.0006593827405221536, -0.0003911763580612073, 0.00030114108148243093, 0.0017015394424579999, -0.0002588999725456156, 0.00214715934894335, -0.0016231752367186064, 0.00027493559768589613, 0.0016322381956354348, -0.00022382002209003174, -0.000350407632937111, 0.00015187288956701917, -0.0007457742049095239, -0.0008563368976201782, -0.0032327315310464004, -0.002069079267246786, -0.00048359412766253956, -0.0028164432601930946, -0.000516746350684863, 0.0011358151999501067, 0.0005550713300895855, 6.090049706151214e-05, -0.0007156676286664397, 0.0003637271157454414, -0.0016077495321183011, 0.0008560363640615724, 0.00014541846062607642, -0.001987812385122874, -0.0002128620007252105, -0.0007589386069154743, -0.0002552982621802978, 1.6277063409620064e-05, 0.0006272144820063212, 0.0008140960424320198, 0.00014879906023842267, -0.00047216551649446447, 0.0004344243309552201, -3.89293250082646e-05, 0.00013445930395452338, 0.0002087992101402288, 0.0005589753494111247, -5.87143605055713e-05, 0.0002705507991159289, -0.00019490062772519552, -0.0038141326963425756, 0.000528683620091351, -0.00020918053285224264, 0.000894998556020758, -0.00032297552839228205, -0.0004240369168059695, -0.000435557606992753, 1.8608364320948716e-05, -0.0004709375644580905, 0.0002889060690804933, 8.137678793672918e-05, -0.00017228989262492667, 0.0006786406191131942, -0.0005126833922450953, 0.00030012411372136634, -0.00042783357836225844, -0.00031189690898371754, 6.418765311262556e-06, -0.0007151466704010378, -0.00010811199656641889, 0.000839651086438475, -0.010702039157396138, 2.812339383433495e-05, 0.0004003788884551979, -0.0002601785538316739, 0.00010885433029542992, 0.0002841824105307781, -9.312003750521915e-06, -0.0004897886015953808, -0.0008847612541663758, 0.0003685665225634657, -0.00014965873199088928, 0.0010188531957539986, -0.0005293144935816816, -0.00011808146611457955, -0.00033140509386587807, -0.00021118668991229053, 0.0003019722666289721, 3.460181064164698e-05, -0.000322747216970223, -0.0004906858189000114, 0.001687522223852942, 0.0006077343240674599, 0.000811338804131424, 0.00032289604989069827, -0.0006022450115357506, 0.00026947739846993127, 0.0001298684036352584, 0.0001279669729829013, -0.0003641776820519369, 4.45851307980114e-05, 0.0021233030913878274, 0.0002815430320002638, 0.0004434980478614215, -0.0007808295603808923, -0.00013466445315048295, 0.00194473243789261, -0.000995457497121731, 0.00033155050936518215, 0.0006746045610133545, 0.0012990734132010023, 0.0009140859820323749, -3.578335031959989e-05, -7.113954139632335e-05, 0.0012555370343082161, -0.006133767012687562, -8.618942506425286e-06, 0.0017270058437018048, 8.738089375460108e-05, 0.0002650538681894329, -0.0005740771429913227, -0.00029179899288424033, 0.0015878201095973002, 0.009358674648678423, -0.0007974326970285845, 0.0005926979222218709, -0.0007030694872829655, -0.0011681775897151264, 0.0012759779152840215, 0.00027820437564549566, 0.003973810914041148, 0.0011481860595947454, 0.0002934701868658694, -0.0019667836693276833, -0.00037905267732925405, -0.0006251542860032824, 0.014821226455774605, 0.00045710916097016756, -0.0007966314317927211, -0.0014154266810020547, 0.00024104492981673418, -8.107695184156559e-05, -0.0020954538396452706, 0.0023112259231678504, 0.0038435242798422857, -0.0008223602254798925, -0.0006986818654992774, 0.0007532813638924751, -0.0035919448629877834, -0.0007032195826146764, -0.0021230423517951654, 0.0010875103815653833, -0.0006164238304437865, 0.00038752191281618965, 0.0007659361357793967, 2.8718370359844523e-05, -0.000583734315549765, 0.00037118339875769844, -0.00024025057651660698, 0.0002904875055912221, 0.00024072100463594902, 0.00040010976807917605, -0.0007918862680641283, 0.000601946431787562, 0.005508046271382791, 0.0014731184742393366, -9.069056864989447e-05, 0.0007112159622251427, 2.031039550959399e-06, 0.00012160959434059763, -0.00022459465169129245, -0.00023106181771633813, 0.0005392167375726415, -0.00014459759706337834, 0.0026050875324074695, 0.00045393235299221173, 0.00017447244573767854, 0.0013086429766966685, 2.429827854877472e-05, 0.0005553808405447739, 0.0011300039992637027, 1.8624270308863146e-05, -0.00022052915653510098, 0.00016607979091974237, -1.4183288049506349e-05, 0.0007527788931412085, 0.00020605006752466034, -0.00031792403020448456, -0.00014216872442780515, -0.0011951582665129168, 0.00012812193238820118, 0.0009446154916539976, 0.0003747828229266225, 0.00041273023164654313, 0.001010480761150483, 0.0022066641294325013, 0.00019887126035508546, -0.0006847977223032806, -6.608120242583679e-05, 0.0025357996484959623, 0.0008498921673442806, 0.0004185078589675531, 0.0006456350654524178, -5.6730133748642106e-05, 0.0008680113346338522, -2.0250838608738554e-05, 0.0011123989450602433, -0.004321350217741493, -0.001023186556093908, -9.123918706967827e-05, -0.0008240851326265865, -0.0005517533511524594, -0.0004918805147725394, -9.60956709581024e-05, -0.0004597719652788826, -0.003900134645889895, -0.0007652742313241482, 0.00012667795841202255, -2.2832819049295157e-05, -3.627089703521751e-05, -2.6474911513000242e-05, 0.0006685960144135936, 0.0013448025767620717, 0.0001483360677645671, 0.0002674655250965053, -0.0004062462013462376, -5.3459989830411914e-05, -0.0007283873633594747, -0.0005018324510800582, -0.00026822320514179607, 0.00043302604496223596, -0.00029391262468547833, -0.0003966831537767785, 0.002312113194336149, -0.0010098215666361878, -0.00024026427747266183, 0.00014373694239105004, -0.003074296999487868, -6.637834911087603e-05, -0.002547831473436587, -0.00021053021606502598, -0.00022620116333485105, -0.0007161063326258476, -0.0015590159853820728, -0.001568080318921183, -0.0004180342034554952, -9.699779425350257e-05, 0.0004386000750704117, 0.0018910395449154838, 0.000782643169803245, 0.0006791279168209323, 0.0014452337934938, 0.0010247671757698542, 2.5241609585255277e-05, 0.002805368655656822, 0.0004275526702936768, -0.0005795174204771191, -0.00023545255897434818, -5.357049101112213e-05, 9.837680571302929e-05, -0.00029917891845280707, -0.0009387481856992681, -0.0010577797989096437, -0.0009512976566586452, -0.0010948341773653865, 3.2809938271752086e-05, 0.003509010043139185, 8.732726971854231e-05, -0.00025009045541396973, -0.00028878665985473023, 0.0028693959437708677, -0.0002230952289307038, -6.313054701457926e-05, -0.002188928782913964, 0.0008164687793462482, 0.0010113541837279605, 0.000800809311569625, -0.00014696755268876947, -3.6527794117990615e-05, -9.133118053693555e-05, -0.0012096945625667205, 1.387508718905697e-06, -0.0005524598014737587, 7.89659074627242e-05, -0.0002454912296157568, 0.0008884867333723589, 0.001481306723998165, -0.004049520205020731, -0.0008031814488246114, -0.00030041615122333005, 0.0009089460940399247, 0.0010819241732133947, -0.0005573571282447697, -0.00021265402353718555, 0.0013881550896472743, 0.0004105793227724649, -0.00047456966323140707, -0.00076149322757906, -7.313605734079166e-05, -6.019427050660479e-05, 0.001144735657913406, -1.6409094402146282e-05, 0.000798402056155865, 0.0013262906244803925, -0.0002772595366035221, 0.0021318546158535364, -0.01587834137842556, -0.00011262534583472777, -0.000619736494080348, -0.002199977692892291, -0.0025322895445362027, -0.000496335192853047, 3.676609810570491e-05, -0.0001409766412778466, 0.021916184634523998, 0.00042978528284401673, -0.0006678618710281347, -0.0039015128005631325, -0.0011202466282933987, -0.0007157106882939876, -0.0006450956723412749, 0.0009141577484878035, -0.000492898186073197, -0.0014073724507305796, 0.0004745523992911581, 0.01044638519445864, 8.752388957482217e-05, 0.0014250924962530835, -0.0019172471694364113, -2.513532623805119e-05, 6.120424417402055e-05, 0.0005258216340274036, 0.00016016475631475772, -8.252371995028465e-05, -0.0015350345950653035, -2.229885750006604e-05, 0.0003760782348369852, -0.0004092352796040143, 0.000445954437268086, -0.00039369359733700785, -0.000419765485565245, 9.646625822095252e-06, 2.7150356021054837e-05, 0.001581890884647667, -0.000584304460094507, 0.0003209847431487954, 0.003189239930404924, 0.0016085464837997804, 0.00010994046494915418, -0.00019094707216948947, -0.000748554907913784, -0.0004784752417572984, 0.0019068659046611964, 0.0016562711981378733, 0.0007083622084780144, 4.870491142080016e-05, 0.000989979707330283, -0.00033585883439850707, 0.00013444142565992705, -0.00020352855741160165, 0.0007797928073315979, -0.0008017768836729993, -0.00043791796784215333, -0.00032785191166714346, 3.372471625460546e-05, 0.0005315850984394568, -0.00037467361267379327, -0.001581690998703774, 0.0013648395471954255, 0.0021799634904533065, 0.0004271507130895482, -0.001103993211138955, 0.0005417314031740018, -0.00024095767944152136, 0.0024104898979390326, 0.00012739987604633413, -0.0004264195031411029, -0.00025528834103391487, 0.003550087645701805, 0.0003775686185273203, 0.0002045946061556749, 0.0007444544376558825, 0.00013880838739784986, 0.00015077471178098355, 0.00028238066652520026, 0.00046554178893700674, 0.00016661857137336003, 0.001314643762910863, 0.000202678125393005, -4.168779248639741e-05, -1.5276712785327676e-05, 0.00036543400949146695, -0.00029124559209299733, -0.0005815919412273559, -0.0002067737514150668, 0.0003856615140127, 0.0005334759362595671, 0.000529035086854279, 0.00023670292403884223, 0.0013470005059079665, -0.0003190501550602535, 0.002097044490290082, -0.002280063590090296, 0.00764718282614627, 2.4490037216863764e-05, 0.0031200004384897267, 0.0014706173246844712, 0.0018859728705889766, -0.00017073307719916905, 0.0016046944305833286, 6.457858165831334e-06, 0.006400142538471926, 0.001097203122241925, 0.00044142047680772317, 0.00035239182353726667, -6.651369500377684e-06, -0.0003798239285036633, -0.0008993487097398437, 0.0002479388942429682, 0.0008332286785415496, 0.00021063267493068788, -0.0008260139388682683, 6.111968848610981e-05, 0.003826504565557428, 0.0018229464544004103, 0.0005814025086951294, 9.282974849209686e-05, 0.0006779862424533686, -9.548470210939217e-05, 0.0004290038101084319, -0.0014831073778059937, -0.001235563418414502, 0.00013490115066508375, 0.001333532252250229, -0.0012034359559381794, -0.00070508175618374, -0.0002548475630614961, 0.0010206898959164304, 0.0008278939313845027, 0.00027518038599109833, -8.911339827463917e-05, 0.0017816839562918131, 0.0005247942768116726, 0.0012559941953017846, 1.0743243427283419e-05, -0.0005620740725350515, 0.0012090511503857794, -0.0009893135335902604, -0.00032020349085026866, -0.0038588238529575214, -0.0008581005554628831, 0.00031144368669631245, -0.0012777822151031639, 0.0009546938445536581, -0.0006027993513983609, -0.0021114527917774767, -0.0017939572305241788, 0.0007459562171760873, -0.0001252980888307034, 0.0007088296297538478, 0.0004677092777745044, 0.0006168126044746226, 0.0004406829686614132, 0.0002781378211319065, 0.0005611708928796623, 0.0030517007342635216, -0.00025805632263663583, 0.001592622415270928, 0.0007044843513300631, 0.0024090640702270514, -0.004371440992034164, -0.0008129929979035562, -0.0006383341542850028, -0.0015049524170435292, -0.0011186169834257217, -0.0010546918400654547, -0.0002628630001737266, 0.00022157107023193244, 0.00038406485288269095, 2.119695865553437e-05, -0.019011063753442446, -0.0013944677465172377, -0.000775401192125804, -0.0006080015254881057, -0.000613659046307656, 0.0008682319498060571, -0.0046053246706395014, -0.0007439676771265676, -0.0001066680848129263, 0.00046431177733197973, -0.00035661845836083736, -0.0026600174751548085, 0.00015825555725209033, 8.20646652791999e-05, -0.0003917582639861797, 0.0006528295063927623, -0.0002589026431719403, 0.00040312184594082167, 8.223603189859506e-05, 0.0008021424873398628, 4.2841132666998486e-05, 0.0005675823436608555, -9.008560902016574e-05, 0.0005223117915827813, -0.00014359216820253708, -0.0005361175236228548, -0.0010334525587000426, -0.001116473609317519, -0.00022310913601963442, 0.00033046192483907375, -0.00030810883890943706, -0.0003111692408553517, -0.000306126357190422, 0.00044061002054830744, -0.00023304297284902793, 0.0003969177718518674, -0.0003781323680684799, -0.0001444946116668186, 8.001267710993856e-05, 0.00018394274800894047, -0.00019951475518288923, 0.0011007261691196094, 0.0003701284022827508, 0.00023339502025220043, -8.326497016706888e-05, -0.0010523769378254944, -8.861146163151559e-05, -0.0002246809214851044, -0.0002964993791875147, -0.0007969489166252593, 0.0003948445591027209, -0.0035444475778187035, 0.004688557962663677, 0.00246307153298272, 0.0001468300931113645, -0.0006276954062026146, -0.0008716639617579406, 0.00012188617748395766, 0.00035350053946293794, 0.0007282867686095072, 0.0003390593334823693, 0.000536257254723697, 0.0003222961577140121, 0.002300061471702977, 0.000457429933582777, 0.00020436071708407084, 0.008511502920224198, 0.006814899580358068, -0.0002720644978291668, -4.871793145672028e-05, 0.0009232558211375128, 0.0018541738694944133, 0.002048773798320918, 0.00044240744273729043, 0.001013441015253406, 0.001040434597749865, 0.0002442626172105017, 0.0011449767298438826, -0.008798463836462586, 0.00030649614621442974, 0.004299377722736057, 0.0003657619254702294, -0.0016862292473383354, 5.4581814883092723e-05, 7.678405243112154e-05, 0.001191473387405515, 0.00033330058784089084, -0.0004611429520694196, 0.0007113521776710925, 0.0009978986324881694, 0.0016651057306996495, 8.249717983364202e-05, 0.003455741219066765, -0.0001784406535495484, 0.00020922389255906968, 0.0004282226737255753, -0.001114950511169307, 0.0001534399651975677, -0.0046957720809519135, -0.0019220393006632013, 0.0004405676750320834, 0.00024141176679426716, 0.00225777412373465, -0.0002834315526932862, -0.00041891441255659695, -4.710536415072637e-05, -0.0005293234696076429, -0.001425005131704335, -0.0004710108802034257, 0.00015904749573786243, -0.000579533149832114, -0.0005200522038284514, -0.0005329152792033888, 0.00024475999143244514, 6.54565482577974e-05, 0.0009639984085604838, 0.0006875488701394171, 3.364242987471688e-05, 0.0004798274694332264, -0.0009313463445804748, -6.663108891107462e-05, -0.0003105534626299786, -6.49598087659754e-05, -0.0004507150265562179, -0.0015565745262398883, -0.0003244682375075113, -0.0009515960288828315, 0.001533690631038523, -0.0009509194901734614, 0.0021689712705166304, 0.0004347019701544851, 2.4207830554654614e-05, 1.1991389034710304e-05, 5.041464591115251e-05, -0.00021659987974823996, 0.0004381978667190172, -0.0013923431445831546, 0.0005240030765520514, 0.0011449431763464006, 0.00011878492196084532, -0.003705493222864932, 0.002873402390772207, -0.0009771941403197136, -0.00023917835687011272, -0.00015824003551545988, 0.00011981273642931081, -0.0004951268099084847, -0.00017284740535006954, -0.0027941181048012145, -0.0008369992925411769, -0.0018656090967300028, -0.000860795208257982, -0.0016159440442765132, 0.0015315612660543308, 0.00011500351646620362, -0.0009365570672486308, 0.0006460921173369471, -0.0005965842825157346, -0.0004522308392559411, 0.0005349326011570783, 0.00028721717456721755, -0.00020820805300835615, -0.00021176509663844978, -0.00016274127501333252, -0.0011871014402599501, 0.00015321767529964724, 0.001323579145110065, 1.5129939197337588e-05, 0.0003046700054351257, -1.2907153058426329e-05, -0.0005737363492868884, -3.4650680009690106e-05, -3.8395423752082944e-05, -0.0006041721895002804, -0.0032592084738528584, -0.0003797427484388795, 0.0009139660837838802, -0.00036585189417243655, -0.003803227219310589, -0.0004922225215138025, 0.0006927471229073784, -0.00031536745989728724, 0.0025872289775652605, 0.0002628832519968926, 0.00035806671395372663, -0.0007328621196343609, -0.0006649861812736248, 0.0017224312533800697, 4.3739599059160346e-05, 0.011115698474926036, 0.00023726084710316007, -0.0001648883083378952, -0.00010872106948172146, -0.00012410209261054557, -0.0005201685997995183, 5.0870542415552136e-05, 0.00027931011223859923, 0.0005362891341666476, -0.0010047437952341025, -0.0006122060622280752, 0.000297412345025154, -0.000357997501335202, -0.00014603503757091232, -0.00011985805297851744, 0.0029777088852190967, 0.0004746751372849214, -0.008012399331187092, -0.000559638708384105, -0.0001310823925864626, 0.0016927399663017439, -0.00019069325512103923, 0.00032104379005438093, 0.0022249156627986363, -0.0003272173880215301, -0.0005253391202970381, -0.0001259497985979564, -0.00013829868151658993, 5.027177388239028e-05, 0.0007420961526092203, 0.00025575255724695885, 0.00037350087253198473, 0.0003098619535337518, -0.0010135826814321198, 0.006798201225100567, 7.29217404381846e-05, 0.0005590997828107187, -1.154941780391513e-05, -0.00011355083934716514, 0.0021772828043590507, 0.008171755559968633, -0.00026274380310588725, 0.00011099765473771437, -0.0007163651519654865, -0.003392074337039451, -0.0005955147214154517, 0.0003880397899562904, 0.001887949669594558, 0.0008139603473853855, 0.0007480020522530361, 0.0018269685814538274, -0.0005592700688133241, -0.00012173349892271793, -0.00048277247875034066, 0.0004662093301815487, 0.000995799680559204, 0.000949208037899157, 0.0002743141032336329, 0.0002734308434897158, -0.0002269657053254469, 0.00020061577571461696, 0.000600734245715928, 0.0007777703908503551, 0.00011789932183021068, 0.004716829551009595, -0.0019708861695850555, -0.0008830905616414394, -0.0003307016474531426, 0.00011933204918420096, -0.00041769421330260597, 0.0008139112704164509, -0.0005839437485144337, -0.0014800761308437506, -0.0002613090901043097, 0.0010348139225494764, 9.83026453921813e-05, 0.001203789100949908, 1.953593597488971e-05, -0.00026891001230622806, 0.00031919771883534494, 0.0007748639598056553, 0.0006617844435464978, 0.0002771041173996284, 0.00013988335779419682, 4.0182020766969025e-05, 0.00045716157099787543, 0.000586569313960377, -0.000202545035081, -3.2736850035221254e-05, -0.0001636732314525818, 0.0018304249485170793, 0.0035431209409995984, 0.0006728752547310807, -0.0018813712556701866, -0.0002596692976982984, 0.0013963189979717301, 0.0027088615448232598, 0.0006145192825079331, 8.777077777573394e-05, -3.581805847525173e-05, 0.0008925650305921991, 0.0005800621701825961, -0.0003310043606851918, -0.001120484505157987, -0.0004629026912097153, 0.001678396396735559, 0.0004939589769702686, -0.0006234774579519808, 0.0002577427790673496, 0.00022247261920335366, -0.00100769562788934, -0.0021199413526255583, 0.0004659034404746773, 0.0017427665583786603, -0.0013575898769375688, -0.00017810305809029179, -0.0006778158462646393, -0.0007058490606593761, -5.414959468845546e-05, -0.00044525765003102934, 0.00022476827499141872, -0.0001713049210493446, -0.0006515730884810822, -0.0002769325746360048, -0.0009926936485854464, 0.0006485010062993545, -0.000152247762028074, 0.00023742934411995892, -0.0007278162302663243, 0.0011404074112743026, -0.0004700259561824954, 5.676573982187949e-06, 0.0004039292439640388, 0.00039084315551014457, 0.0017495871136694392, 0.0002729418744999165, 1.7224676861920336e-05, 0.00030997608134973565, -0.0014198353738562128, 0.002402591445050871, 0.003724657208974187, -0.0004768871251337858, 0.0002179457248354283, -0.00041992302731950614, -0.00026433978332157253, 0.001557713985668125, 0.00011800046071359589, -0.0002797089774293327, -0.002545649971912009, 0.0007709748897296313, -0.0013155511323378454, 0.0004308918102538979, 8.526067322390987e-05, 0.0006182656717748108, 0.00038421931712632275, -0.0009009386810119737, 0.0005821986706445236, -0.0006852456123052314, 0.0004882941820274378, -0.0007293665898399381, 0.0008143119429799408, -0.00018704776334836745, -0.005398328141566205, -0.0029003036015734468, 0.0001529228961300798, 0.00014483979433201261, -0.00023311617359690054, 0.0006931666243423671, -0.00021635119024067024, -0.00028483616327538904, 0.0014138780191416342, -0.00021654515267222258, 0.0020581092224744965, -6.951844535830085e-05, -0.0001676857376990931, -0.0004269793536050575, -3.506851019233919e-05, -0.00028219001419612136, 7.81561583355963e-05, 7.886742699063861e-05, -0.00029519642249494735, 0.0026131245082051282, 0.0022559351102670036, 0.0010655098748248923, -0.000488306318987451, 0.00011321743786100864, -0.002726796689861656, 0.000798371733344498, 0.002720438937469814, 0.0012326704177556772, 0.0006779644688106057, -0.00039344445982484027, 0.0001905446304514734, -0.00014833803429452783, -8.337573155870067e-05, 0.001798916131549777, 0.0002714777243186836, 9.507262629677971e-05, 0.000773250637413199, 0.002198280599317116, 4.7178102664531e-05, -0.00029871120275488656, 0.006970348752739865, -0.0007041546970043232, -1.3069802417107037e-05, 0.00016643568453697196, 1.4147463277377993e-05, 0.0007246148055530535, 0.0008892628995434731, 0.00045255145709717113, -0.0015151915082978022, 0.0006243458273707123, 0.0012284902679644836, 0.0012383218670960498, 0.002501448896020902, -0.0005473094817200289, 5.306647625430587e-05, -3.089725797335108e-05, 0.004021612659928968, 0.0011072189191759902, 0.0003000042420160686, -0.0003999901133008715, -0.0004015404968988656, -0.0012210482377540412, 0.0006496173037756689, 5.778498644227254e-05, -0.0011025371687385624, 0.0006441842873771853, -0.0008291842188354779, -0.0011276074890037488, -0.0012565084123098863, -0.00017825026894190902, -0.0002496410638316856, -0.0009886882054196118, 0.0005016474844186849, 0.0006875894653132379, -0.0007718851821135243, 0.0010022787900732355, 0.00022047246687884286, -0.0002301607141960641, 8.231470246101969e-06, 6.17230521435574e-05, -0.0013436232943172801, -0.0003658948283756309, 0.000499001644889846, 0.0006841557307878203, -0.0004208942918292902, -6.034763025679346e-06, 0.0038192860886436643, -1.966289980085659e-05, -0.000664135863862857, -0.0008317466091925887, -0.0004045096924086553, 4.3070996693455964e-05, 0.0008006602638428438, 9.708006101162732e-05, -0.000276777270424029, -2.5946307846279283e-05, 0.0007992321257015468, -0.00010679332673457331, 9.553589552381634e-05, -0.0014570480121612092, -0.000961244691670493, 0.0002503103757884497, 0.0001589983678014999, -0.0006248295010414062, 0.0014568546236506043, 0.007571185517684198, 0.0014927286996397585, 0.00079203660920317, 0.0012499099080190154, 0.0006293066035235053, 0.000518947393432372, 0.0002366546403520294, -0.00041934188831000996, 0.0007710598943872188, 0.0026845605191670296, 0.0009431537183951004, 0.0005187337387338981, 0.000260115656506991, -0.00026763007076849234, 0.001152981685153121, 0.0010114215969289039, 0.002152511482674757, 0.0008879132409136674, 0.00030144014431775614, 0.0011082199411268903, -0.0007581302054286608, -0.0004261078834031182, -0.00020546777184689025, -0.000720539785736309, -0.00023247656346507518, 0.0004649326950725506, -0.0001719034516990801, 0.0009394725490363459, 0.006950439411362834, 0.0005976516227554962, 0.0005846689042967364, 0.005725270987542457, 0.0011880414041427374, -0.0006980183718782126, -0.0010847809852189564, -0.0001907952160609782, 0.006090954107508701, 0.0015973946124545532, 0.0007374505041468834, -0.0011363342239839656, -0.0005802331004542459, 0.00029770568218312314, 1.8544692112658367e-05, -0.00023620232287276935, 0.0005593430568797677, -0.0019230438473529722, 0.0005871788560274049, 4.024622772429089e-05, -0.00037953088474664947, 0.000565369387941438, -0.0007657166544266374, -0.0023857161018444235, -0.0021001382200125955, -0.002845119840344414, -0.00020341475786839875, -0.002992636025063124, 0.0008092217966693601, -0.0009457259505620641, -3.649686423593413e-05, 0.0005292300471336865, 0.006857117658574151, 0.00017752917511749066, -0.0004498325692072714, 0.01287894212416465, -0.0004411913929978817, 0.0003296723694200945, 0.00025760143909034805, 0.0005957963462019545, 0.0004714441444813299, 0.0003723946996129648, 0.0001563587502978334, -0.0023100642184633534, 0.0009754950292963275, 0.00022662582789994504, -2.6001317230703834e-05, 0.0005279015221695408, 0.0013066908754991093, 0.0004928260618834666, 0.0012773335810572193, -0.001686628182817482, -0.0009874633956663912, -2.9874229349724588e-05, 0.10261770366993149, 0.0035676612356101154, 0.0031909052963859175, 0.0036576521522243845, 0.06124249855597391, 0.005527388656472108, 0.002967465724535917, 0.013241069494676763, 0.006252235251835906, 0.0010280287882987434, 0.0010069941870964718, 0.0029151981489477377, -0.000430618252919445, 0.000587977747293134, -1.8853233054906744e-05, -0.0012299715047411571, -0.0005412653330800063, -0.0004704711897891142, -7.311742861913415e-05, -5.673110443349546e-05, 0.0002838189197310406, 0.0005440993202965375, -0.00021323595494904778, 0.00017482002606807458, -0.0011219854031805235, 0.00036370572283466276, 0.0006919789018042889, 0.002607145234053012, -0.0009366661929650957, 0.004681604884415666, 0.0007160658391606986, 0.0012549446907298026, 0.0006530563453157787, -0.0006695795300335537, 0.00032956158855495756, -0.0003466488491159837, -0.0012215738891304772, -0.0010649371254230254, -0.002922028119829589, -0.004329386829615688, -0.00433881972436187, -0.004292165004096182, -0.010882837984614972, 0.0035424915924120158, -0.0009538397868048478, -0.0022112079950236327, -0.0015970898542687737, -0.0013242461794565103, -0.0011705999312809268, 0.00024003987663640057, -0.004436311028409542, -0.008003855355904886, -0.0013439872597818979, -0.0006139178916222481, -0.0015985010159679262, -0.0023719657681144954, -0.006405151954299623, -0.0018583020032024496, -0.004335088058093505, -0.00022920588780991511, -0.002022598451923872, 0.005781536460126507, -0.0018844842450282985, -0.004376702631201448, -0.0016529550780180913, -0.004905438550825353, -0.0007073506920996438, 0.0019190917715859001, 0.00011880799274720656, -0.001834197100962761, -0.00027373521302009136, -0.005028175171795192, -0.00045983248376313683, 0.00041076461370681463, -0.0052295509624091, -0.0008522918159724253, 0.0031056904870551214, -0.0019182422399628358, -0.0015861656331413172, -0.00047214019505448105, -0.0011513904623303942, 0.00020925767103611385, -0.004125512659964942, -0.002915224179930691, -0.000921639370095447, 0.0063597011199571524, -0.0019375085273111068, 3.957530848455303e-05, -0.11460683831071163, -0.11453561423909898, -0.0019588044020907797, -0.0020645541496518175, 0.00019608473667264033, -0.023291686620592902, -0.02332053663353538, -0.0011282887574262535, -0.003306912937178089, -0.002249529201608846, -0.0007156559599234952, -0.001158104423937711, -0.02110118949774968, -0.004189482011410986, -0.0015049609892254046, -0.0014026418773198388, 0.07894090303849523, -0.0008059350256833489, -0.00873779668761589, 0.00044175099808774654, -0.00014146101258871247, -0.004886089104619646, -0.0014270636608129579, -0.0011436542493259998, -0.00030341634432583687, -0.00114493707226754, -0.00183235815156818, -0.0019598651089954198, -0.0028193550894729533, -0.002997050156001067, 0.0008423389621577906, -0.0009981683811807036, -0.0012860602035726582, 0.0058823558361503995, -0.0013866878956294727, -0.00229280369846222, -0.0013484069880412052, -0.002494232317959491, -0.0017153992751408843, -0.0006825115449527312, -0.0015025524177613952, -0.03132055579176792, -0.002784510058723052, -0.0029883024112029016, -0.002217844006928043, -0.0013342674629303946, -0.00028172682207664194, -0.004249200184405191, -0.0009708215755833672, -0.0026215056839194797, -0.0024521911669672693, -0.0009853331896737798, 0.0010272203441188425, -0.00025250644309723663, -0.0004155001534666431, -0.012980399469306146, -0.0030655635279823804, -0.0025029085338941362, -0.004018286959253712, -0.002437208605132428, -0.0013102814544232709, -0.020442957331525912, -0.020038848311453698, -0.002687591934574421, -0.001849316465371727, -0.001803070738616487, -0.003913959030554631, -0.005077989687783336, -0.01317758848157928, -0.0024506184819926852, -0.007328168135790781, -0.0026038887757831686, 0.048223172680624704, -0.0032830471596844717, -0.0005517472568001718, -0.0024371691975492056, -0.0028499545632069004, -0.0018217927986699388, -0.00034389332459479945, -0.0032134140712225543, -2.0809685749359773e-05, -0.0019899455108565714, -0.0013237959377129444, -0.0031153748499918796, -0.003934348233051295, -0.0008766403928751969, -0.0019310649411004204, -0.0023160448779200853, -0.0019366621436280639, -0.001860649825285928, 0.000693117603384545, -0.0019079939389618369, -0.004827456358308017, -0.002095055458112178, -0.0007165636803100704, -0.12932772081358163, -0.0008679435399630034, -0.000867998661245557, 0.007863464408689637, -0.002352552887137641, -0.0020065515634598804, -0.00046999376677509284, -0.013611617931689121, -0.013563199431076658, -0.0022429344253213765, -0.00019112799268663366, -0.000996811544641209, -0.0014733836330987494, -0.009826141882002287, -0.009769293235527762, -0.0015972808476995923, -0.0032900855101354156, -0.002419956722281593, -0.0011764600160874745, -0.001966045670218027, -0.0030940131341449083, -0.0019772221037867594, -0.003021989485637514, -0.003977346763500242, -0.001993111387557155, 0.039577203927157585, -0.000299662222656529, -0.0022602603823277815, 0.6383198459609513, 0.20748611761716387, 0.04218414591367821, -0.0018665909686758236, -0.004672812220432313, -0.002304599211099628, -0.0009850203569960873,24])\n",
    "for index,row in df_cluster_selected.iterrows():\n",
    "    b=np.array(row)\n",
    "    temp=a-b\n",
    "    dist=np.sqrt(np.dot(temp.T,temp))\n",
    "    near_record.append((index,dist))"
   ]
  },
  {
   "cell_type": "code",
   "execution_count": 17,
   "metadata": {},
   "outputs": [
    {
     "name": "stdout",
     "output_type": "stream",
     "text": [
      "100\n"
     ]
    }
   ],
   "source": [
    "near_record.sort(key=lambda a:a[1])\n",
    "index_selected=[]\n",
    "for i in range(100):\n",
    "    index_selected.append(near_record[i][0])\n",
    "print(len(index_selected))\n"
   ]
  },
  {
   "cell_type": "code",
   "execution_count": 18,
   "metadata": {},
   "outputs": [
    {
     "name": "stdout",
     "output_type": "stream",
     "text": [
      "         summary           reviewText\n",
      "225949  It works  Eyelash enhancement\n",
      "          summary  \\\n",
      "283287  It works!   \n",
      "\n",
      "                                                                                                       reviewText  \n",
      "283287  It has done wonders for a condition I have called Microscopic Colitis! I plan on ordering more very soon.  \n",
      "                            summary  \\\n",
      "150301  Not Sure How, But It Works!   \n",
      "\n",
      "                                              reviewText  \n",
      "150301  Great for everyday or pre-play refreshing... ;-)  \n",
      "                  summary  \\\n",
      "43844  Yes - it does work   \n",
      "\n",
      "                                                                                                                                                                                                                                                           reviewText  \n",
      "43844  I was skeptical about the ad but when I used it there seemed to be an attraction from the woman when I was out that had not been there previously. I am older but they continue to just be more friendly now that I am using this prior to going to the store.  \n",
      "                                                          summary  \\\n",
      "157107  They work. Read the directions carefully, they aren't ...   \n",
      "\n",
      "                                                                       reviewText  \n",
      "157107  They work.  Read the directions carefully, they aren't totally intuitive.  \n",
      "                                summary  \\\n",
      "225948  My girlfriend swears this works   \n",
      "\n",
      "                                          reviewText  \n",
      "225948  Very excited to use this heard great reviews  \n",
      "                  summary  \\\n",
      "6137  Works as advertised   \n",
      "\n",
      "                                                                                                                           reviewText  \n",
      "6137  Works like it should. Very easy to open packaging, though the individual refills still have the difficult to open plastic caps.  \n",
      "                 summary  \\\n",
      "266328  Yup...they work!   \n",
      "\n",
      "                                                               reviewText  \n",
      "266328  They work as they're supposed to. No further comment necessary :)  \n",
      "                                         summary  \\\n",
      "280835  Acne Spot treatment that ACTUALLY works!   \n",
      "\n",
      "                                                                                                                                                                                                                                                                                                                                                                                                                                                           reviewText  \n",
      "280835  This Acne Spot Treatment is the ONLY product I have ever used that ACTUALLY WORKS!  I have developed intermittent adult acne associated with Menopause (NEVER had acne in my life before this so it is especially frustrating now at my age) and unless a particular pimple is especially stubborn, most times I put the spot treatment on overnight and the pimple is gone within a day or two. Especially difficult breakouts sometimes takes several days.  \n",
      "         summary  \\\n",
      "90360  It works!   \n",
      "\n",
      "                                                                                             reviewText  \n",
      "90360  This actually works....was having \"issues\" with pet waste and this took care of all my concerns.  \n",
      "                                      summary  \\\n",
      "268200  but to my delight these actually work   \n",
      "\n",
      "                                                                                                                                                                                                                                                         reviewText  \n",
      "268200  where have these been my whole life?!? I rarely have life luck with insoles.. apparently my feet are high maintenance, but to my delight these actually work! they reduce the weight on the balls of my feet and significantly reduce toe squishing/rubbing  \n",
      "                    summary  \\\n",
      "229765  Works as advertised   \n",
      "\n",
      "                                                                                                    reviewText  \n",
      "229765  This works very well! I live in Las Vegas and it has kept me smelling fresh in the 110 degree weather.  \n",
      "                   summary  \\\n",
      "273372  It works for me!!!   \n",
      "\n",
      "                                                                                                                                                reviewText  \n",
      "273372  I can't believe it works for me, yay!!! My poor hubby can finally sleep, thank you. I do rub it quite liberally under my nose and around nostrils.  \n",
      "          summary             reviewText\n",
      "262302  It works!  It works! No burning.\n",
      "       summary                                                     reviewText\n",
      "265733  Works!  This works for me and has since the product became available.\n",
      "          summary  \\\n",
      "63715  This works   \n",
      "\n",
      "                                                                                                                    reviewText  \n",
      "63715  I had an itchy scalp. It stopped itching the moment I started using Eau de Portugal. It's an essential for my grooming.  \n",
      "                                   summary  \\\n",
      "65198  works perfectly in a lighted mirror   \n",
      "\n",
      "                                                                                                                            reviewText  \n",
      "65198  Just the thing for a lighted mirror.  Mine is one of those touch control models, with the 3 levels of brightness.  Works great.  \n",
      "               summary                      reviewText\n",
      "361475  Works for real  Energy. Well-being. Effective.\n",
      "      summary  \\\n",
      "47111  WORKS!   \n",
      "\n",
      "                                                                                                                                           reviewText  \n",
      "47111  This actually works, it's very noticeable in the morning. I was pleasantly surprised! It will remove a spray tan though, that's the trade off.  \n",
      "      summary  \\\n",
      "20908  Works!   \n",
      "\n",
      "                                                                                                                                                                                                                 reviewText  \n",
      "20908  Was skeptical about trying any tooth whitener, but decided to try this one after reading reviews.  Am happy to report that after four days I can claim it does work and isn't too difficult or uncomfortable to use.  \n",
      "                          summary  \\\n",
      "241927  Works as intended for me!   \n",
      "\n",
      "                                                                     reviewText  \n",
      "241927  Great for removing inhibition layer from gel! No lint, lightweight etc.  \n",
      "                                                         summary  \\\n",
      "294600  This works for most people. It barely fastens around ...   \n",
      "\n",
      "                                                                                                                                                                                                  reviewText  \n",
      "294600  This works for most people.  It barely fastens around my husband neck which is thicker than most, so if you are going to use with someone who is very large  in the neck, it may not fasten as well.  \n",
      "      summary  \\\n",
      "20467  Works!   \n",
      "\n",
      "                                                                                                                                                                                                                                                      reviewText  \n",
      "20467  Going through menapause at an early age and the hot flashes with weight gain is not fun. This though works so good at the appetite control and flashes. It does take a while to get working but it is well worth it in the end. This is my second bottle.  \n",
      "                                                    summary  \\\n",
      "6173  Works as described, I haven't had any issues were ...   \n",
      "\n",
      "                                                                                                                                  reviewText  \n",
      "6173  Works as described, I haven't had any issues were my razor device peels because this liquid is too strong. I will update as necessary.  \n",
      "          summary  \\\n",
      "265798  It works!   \n",
      "\n",
      "                                                                                                                  reviewText  \n",
      "265798  I noticed my lashes growing after 1 week.  Seriously.  I think they have stopped growing and now are getting fuller.  \n",
      "                               summary  \\\n",
      "46904  Works on German Shepherd's ears   \n",
      "\n",
      "                                                                                                                                                                                                                                              reviewText  \n",
      "46904  I bought this glue to apply moleskin padding on the inside of the ears on my German Shepherd to help her ears stand up. There wasn't any skin irritation. It stayed glued for about 5-7 days. It didn't bother my dog either like the taping did.  \n",
      "                  summary  \\\n",
      "21798  Work for the Zone!   \n",
      "\n",
      "                                                                                                                                                                                   reviewText  \n",
      "21798  this product actually works elsewhere too!  I have Itching bumps after shaving my legs.  When apply after Hair Removal, it stop the irritation and doesn't leave any redness or bumps.  \n"
     ]
    },
    {
     "name": "stdout",
     "output_type": "stream",
     "text": [
      "                   summary  \\\n",
      "307845  It actually works!   \n",
      "\n",
      "                                                                                            reviewText  \n",
      "307845  This works really good for me personally. My curls are defined and manageable. I recommend it.  \n",
      "          summary  \\\n",
      "109430  it works!   \n",
      "\n",
      "                                                                                                                          reviewText  \n",
      "109430  As I am growing older (50+), my lashes are growing thinner.  This product has done what it says it will do.  I am impressed.  \n",
      "                                                                            summary  \\\n",
      "115623  The patches work and do not fall off easily. My son who is 4 is able to ...   \n",
      "\n",
      "                                                                                                                            reviewText  \n",
      "115623  The patches work and do not fall off easily. My son who is 4 is able to remove the patch himself with little or no difficulty.  \n",
      "                   summary  \\\n",
      "89950  Works as Advertised   \n",
      "\n",
      "                                                                                                                                                              reviewText  \n",
      "89950  Works as advertised.\\n\\nNumbs really well to prevent discomfort and sanitizes.\\n\\nKeep in mind: I don't think it does much in helping the healing process though.  \n",
      "                                       summary  \\\n",
      "148449  These actually work!!!! i promise! ...   \n",
      "\n",
      "                                                                                                                                   reviewText  \n",
      "148449  These actually work!!!! i promise! you must put on before you start drinking and keep it on until the next morning.. and NO HANGOVER!  \n",
      "       summary  \\\n",
      "152793   Works   \n",
      "\n",
      "                                                                                                                                           reviewText  \n",
      "152793  Followed the directions on the back of the package. Substituted warm water with warm coconut milk and added sensation cellophane clear glaze.  \n",
      "        summary reviewText\n",
      "327452  Works:)  Excelente\n",
      "              summary  \\\n",
      "187538  Works wonders   \n",
      "\n",
      "                                                                                                                                                                                                                                                                                                              reviewText  \n",
      "187538  I had an infected cyst on my eye brow that was very similar to an infected piercing. Other methods of disfection and cleaning had not helped or lessened the pain. I used this and within a day, the pain was gone. After about three days, the swelling and redness was entirely gone and it had begun to heal.  \n",
      "              summary  \\\n",
      "153094  IT DOES WORK!   \n",
      "\n",
      "                                                                                                                                                                                                                                                                                                                                     reviewText  \n",
      "153094  It does work! My eyelashes got longer and thicker within a couple of weeks. This serum is light and easy to apply. I did not have any issues with skin irritation that it is important for me. It is very convenient that you do not need to wash it off.  It made in France! Price is also reasonable. But main thing is IT DOES WORK!  \n",
      "                                                    summary  \\\n",
      "102743  This works wonders if you have any area that is ...   \n",
      "\n",
      "                                                                                                                               reviewText  \n",
      "102743  This works wonders if you have any area that is extremely dry.  It is definitely more of a consistency of vaseline than a lotion.  \n",
      "                 summary  \\\n",
      "58162  works as intended   \n",
      "\n",
      "                                                                           reviewText  \n",
      "58162  covers clothing to avoid makeup fall out. great for MUA client or personal use  \n",
      "                                                         summary  \\\n",
      "307768  I have the oily \"t-zone\", and this moisturizer works ...   \n",
      "\n",
      "                                                                                                                                                         reviewText  \n",
      "307768  I have the oily \"t-zone\", and this moisturizer works really well to absorb the oil on my forehead, nose, and chin, but also moisturizes my cheeks and neck.  \n",
      "                  summary  \\\n",
      "190633  They work for me!   \n",
      "\n",
      "                                                                                                                                                                                                                                                                                                                                                                                                                                                                                                                                                                                                                                                                                                                                                                                                                                                                                                                    reviewText  \n",
      "190633  I must admit to being surprised, but these really do work for me. If anyone in the house is going to be mosquito bait, it's me. Southeast Texas is brutal with mosquitos and West Nile is something you really can't ignore. I've worn 1 on the wrist and 1 on the ankle and not been bitten, whether it was in the morning/evening when biting is fierce, or in the heat of midday when there are fewer bugs. I've also given them a test outdoors in the mountains of New York and Vermont - no bites. The citronella smell is strong at first, but not annoying, and fades a bit over time. I do put the bracelet back into the package to keep the scent strong for longer. They may not work for everyone, but it's sure easier than coating myself with bug spray every time I want to go outdoors. Btw, I paid full price for these so this review is an honest assessment of my experience with the bracelets.  \n",
      "                summary  \\\n",
      "81180  It works for me!   \n",
      "\n",
      "                                                                                                                                                                                                                                                                                                                                                                                                                                                                                                     reviewText  \n",
      "81180  This product has been wonderful for me!  I have used it for a tender spot on the gum and also for other sore places, such as\\nwhen I have bitten my tongue (ouch!)....anything in the mouth.  I rub the gengigel on the sore place and around the area before going to sleep.  If I wake up\\nin the night I reapply.  I just try to leave it in place as long as possible and generally by morning all discomfort is gone.\\nIt's one of those small but important items I just don't want to be without!  \n",
      "       summary  \\\n",
      "241590  Works!   \n",
      "\n",
      "                                                                       reviewText  \n",
      "241590  Works better than any other device to align toes and is comfortable also.  \n",
      "                   summary  \\\n",
      "157560  Works as it should   \n",
      "\n",
      "                                                                                                                                           reviewText  \n",
      "157560  I use this as a healing balm on my fingers and on cuts and scrapes. Keeps moisture in the areas so they don't dry and crack. Smells very nice  \n",
      "       summary  \\\n",
      "191546   Works   \n",
      "\n",
      "                                                                                                reviewText  \n",
      "191546  I've been using for about 18 months and there is a huge improvement in the spots hat were thinning  \n",
      "        summary  \\\n",
      "87675  It works   \n",
      "\n",
      "                                                                                                                                            reviewText  \n",
      "87675  I walk a lot at work, and well yeah... Once you sweat, the smell builds up.  This product stopped it, and that's about all I was hoping for.  I  \n",
      "                   summary  \\\n",
      "84969  Works as advertised   \n",
      "\n",
      "                                                                                                                                     reviewText  \n",
      "84969  This product is well designed and well constructed. Comes with lotion applicator, regular sponge and loofah sponge. Handy and versatile.  \n",
      "                summary  \\\n",
      "185870  It works for me   \n",
      "\n",
      "                                                                                                                                                                                                                                                                                                                                                                                                                                                                                                                                                                                                                                reviewText  \n",
      "185870  I'd read a bit about magnesium oil but wasn't sure how much of a difference it would make.  I can tell you that this stuff is wonderful!  I used it first as a sleep aid.  To my amazement, I had one of the most deep and refreshing sleeps that I've had in a very long time.  I bought a second bottle to share with a friend who always has sleep issues and he is amazed as well.  I have since used it for muscle relief after an intense workout.  The results haven't been as dramatic as its efficacy as a sleep aid, but the difference in muscle soreness is noticeable. The complimentary e-book is also very helpful.  \n",
      "             summary  \\\n",
      "208738  These work!!   \n",
      "\n",
      "                                                                                                                                                                                                                                                                                                            reviewText  \n",
      "208738  If washed after every use and stored in the box, each pad lasts at least 40 days for me. I no longer have any noticeable chest wrinkles - I am a side sleeper and was getting obvious wrinkles that I did not like. I highly recommend these chest pads, if you are prepared to take care of them as directed.  \n",
      "       summary  \\\n",
      "136296  Works!   \n",
      "\n",
      "                                                                                                                                                                                                                                                                                                                                                                                                                                                                                                                                                                                                                                                                                                                                                                                                                reviewText  \n",
      "136296  I put the breast tape on and it stuck perfectly. I could tell that it would keep my girls in place. I, however, have extra skin from gaining and then losing 80lbs, and very large nipples so the flower pasties didn't cover them completely. When I pushed my boobs up and taped them, I could see all my extra skin folded up under the tape. It was so gross looking! Plus I had to pull them up so high that the tape came above the tank top I was wearing. Unfortunately, at no fault of the seller or the product, I will be unable to use them because I have such stretchy skin on my boobs *sigh*. I would suggest that if you're an A to a C cup, these should work good for you. Any larger than a C and you're risking there being too much weight put on the tape.\\n\\nThanks for the fast shipping!  \n"
     ]
    },
    {
     "name": "stdout",
     "output_type": "stream",
     "text": [
      "                                            summary  \\\n",
      "239238  Not just a soundtrack- an epic work of art!   \n",
      "\n",
      "                                                                                                                                                                                                                                                                                                                                                                                                                                                                                                                                                                                                                                                                                                                                                                                                                                                                                                                                                                                                                                                                                                     reviewText  \n",
      "239238  Description:\\nThis soundtrack contains 25 tracks, 24 of which are scores composed by John Powell. The other track is Sticks & Stones and is performed by Jonsi (an Icelandic singer). These scores have a distinct Scandinavian and Celtic sound to them. They can range anywhere from powerful and loud, to soft and romantic. They also come in a variety of lengths (anywhere in between 0:43 to 6:19).\\n\\nReview:\\nNow for the review of the soundtrack. As a bit of an obsessive soundtrack hound, I must admit that this is one of the finest soundtracks I've heard in my life. The score is breathtaking.  The only thing I did not like about this soundtrack was the song Sticks & Stones. It's not so much that Jonsi did a bad job performing it; it's just that its style was not to my taste. In closing, I would definitely recommend this soundtrack to fans of the movie, fans of Scandinavian music, fans of Celtic music (particularly Scottish but also Irish), and fans of movie soundtracks in general. It is, in my humble opinion, one of the greatest soundtracks of all time.  \n",
      "                     summary  \\\n",
      "206365  Yes yes it Works!!!!   \n",
      "\n",
      "                                                                                                                                                                                                                                                                                                                                                                                                                                                                                                                                                                                                                                                                                     reviewText  \n",
      "206365  I'm in love.... After 2 days I literally lost 2 inches off my waist and Im not dieting just by wearing it and working out....day 4 I lost 4 inches..Im so excited after 3 kids I thought I would never get rid of this baby fat ...... I recommend this to everyone. ... I wear it to work and I keep forgetting I have it on...very comfortable no rolling up or down... Working out in it is amazing you wouldn't even noticed you have it on... This is working for me I can't speak on anyone else everyone body is different but my stomach has gotten smaller..this picture shows I went from step 1 to 2 and 3.....I even showed my face because this is real no fake comment...  \n",
      "                                  summary  \\\n",
      "90427  It works!  Non-kink oxygen tubing.   \n",
      "\n",
      "                                                                                                                                                                                                                                                                                                                                                                                                                                                                                                                                                                 reviewText  \n",
      "90427  People who depend on portable oxygen will know how difficult it can be to find tubing which does not \"kink\"--tangling in on itself, blocking the air-flow, and really becoming a nuisance.  The manufacturers of this product describe it as \"non-kink\" and they tell the truth.  It is refreshing to find tubing which behaves itself, even when extended to the maximum medically recommended length of 50'.  When, after a while, it does begin to tangle, it's time to turn to new tubing anyway.  I was skeptical when ordering this,  but it really does work.  \n",
      "               summary  \\\n",
      "112740  It truly works   \n",
      "\n",
      "                                                                                                                                                                                                            reviewText  \n",
      "112740  From the very first night, I and my family have been sleeping through the night quietly and peacefully. I hardly noticed it twas there the first night, and now I miss it if I forget to place it immediately.  \n",
      "             summary  \\\n",
      "50783  Works for me.   \n",
      "\n",
      "                                                                                                                                                                                                                                                                                         reviewText  \n",
      "50783  The taste is really bad and it gets you really disgusted of your fingers. I only used it for 2 or 3 weeks, to break the biting pattern and after that I went on my own. The hard part is that this gets a disgusting taste on your finger food too. So for 3 weeks I would touch my food. =p  \n",
      "          summary  \\\n",
      "260599  It works!   \n",
      "\n",
      "                                                                                                                                                                                                                                                                                                                                                                                                                                                                                            reviewText  \n",
      "260599  This works, work small patches on your face, nose first, it takes as long as a facial (one hour), I have sensitive [rosecea] skin, afterward, the product left my face feeling soft, clean and tight.  This product recognizes dead skin cells, not live tissue.  I couldn't believe the dead cells that came off my nose.  I am going to buy the olay advanced system to see if I can use it with this product to reduce time. I intend to use this product twice a month.  Thank you seller!  \n",
      "                                                            summary  \\\n",
      "345951  I have terrible bunions and have to work on my feet for ...   \n",
      "\n",
      "                                                                                                                                                                                                                                                                                   reviewText  \n",
      "345951  These are life savers!  I have terrible bunions and have to work on my feet for long hours at a time.  I can wear all of my shoes now and not have to worry about them rubbing on the bunions (so painful!).  The gel protects effectively and they are easy to apply.  Love these!!!  \n",
      "                              summary  \\\n",
      "347843  Do NOT Take Your Wine To Work   \n",
      "\n",
      "                                                                                                                                                                                                                                                  reviewText  \n",
      "347843  Despite the directives on the socks, I found out that it is not now, nor ever, Bring Your Wine to Work Day when you work in surgery. However, the socks are nice and comfortable, and pair nicely with a pink or green cami under ceil green scrubs.  \n",
      "                           summary  \\\n",
      "206048  Works great plenty of room   \n",
      "\n",
      "                                                                                                             reviewText  \n",
      "206048  Works great plenty of room, no odor. I like the blue face and the fact you can use a plug instead of batteries.  \n",
      "                  summary  \\\n",
      "136536  Works as promised   \n",
      "\n",
      "                                                                                                                                                                                                                                                                                                                                                                                                                                                                                                                                                                                                                                                                                                                                       reviewText  \n",
      "136536  It sticks to your skin and stays in place even when moving around. It does work best when used over night and even better results the longer it is on. It does indicate 3 wraps are equal to one treatment which is still cheaper than the other product. I didn't measure myself until the third time due to lack of measuring tape but the results on the third wrap were that i had lost half an inch off my waist and 1 whole inch off my belly .I saw better results with this product than any other products similar to it. It is made with a more flexible cover and conforms to your body better. It is fairly large in size allowing a larger area to be treated. It can be cut and placed anywhere you wish to treat. Love it!  \n",
      "          summary  \\\n",
      "311966  they work   \n",
      "\n",
      "                                                                                                                                                                                           reviewText  \n",
      "311966  these work really well in hair.  its long and im older, they held tight all day.  but they are plastic so they did bend and stay bent. I see one only lasting a few times.  but they do work.  \n"
     ]
    },
    {
     "name": "stdout",
     "output_type": "stream",
     "text": [
      "                              summary  \\\n",
      "221059  This produce works for me....   \n",
      "\n",
      "                                                                                                                                                                                                                              reviewText  \n",
      "221059  Just started using this product and already love it.  Also use it on the skin around my mouth which has some sun damage.  It appears to be reversing the wrinkles and lines around my eyes and definitely reduces eye puffiness.  \n",
      "                                     summary  \\\n",
      "271684  This stem cell serum works miracles!   \n",
      "\n",
      "                                                                                                                                                                                                                                                                                                                                                                                                                                                                                                                                                                                                                                                                                                                                                                                                                                                                                                                                                                                                                                                                                                        reviewText  \n",
      "271684  <div id=\"video-block-RE4QJ1KVC6DMO\" class=\"a-section a-spacing-small a-spacing-top-mini video-block\"></div><input type=\"hidden\" name=\"\" value=\"https://images-na.ssl-images-amazon.com/images/I/C1Vnrzy4vdS.mp4\" class=\"video-url\"><input type=\"hidden\" name=\"\" value=\"https://images-na.ssl-images-amazon.com/images/I/A10BCvkMb3S.png\" class=\"video-slate-img-url\">&nbsp;I applied MD Stem Cell Factor 55 daily for a month, about an hour before I sleep and felt a firming of my skin especially around my jawline in just 1 week. Just one pump of this clear serum was enough for my whole face, then 1 pump for my neck and decolletage. It's light, absorbs immediately and there's no fragrance, great for my sensitive skin. By 3 weeks, several girlfriends asked me what I had done because they said my skin looked so much younger. Its now been a whole month and my skin feels much plumper, firmer and the deep lines under my eyes are greatly reduced. Its not cheap but I think its so worth it - and the results so more natural than any botox! This stem cell serum works miracles!  \n",
      "      summary  \\\n",
      "43873   Works   \n",
      "\n",
      "                                                                                                          reviewText  \n",
      "43873  It works like a charm, however on me after a couple of hours I smell like I had just had a very good time. :)  \n",
      "              summary  \\\n",
      "31799  Works wonders!   \n",
      "\n",
      "                                                                                                                                                                          reviewText  \n",
      "31799  This is the product that works best for me. I put it on before going to bed and wash it out in the morning. It does sting a little if you've scratched your skin raw, though.  \n",
      "                summary  \\\n",
      "314726  Works perfectly   \n",
      "\n",
      "                                                                                                                                          reviewText  \n",
      "314726  Works perfectly with IV catheters; they're really helpful in connecting IV drip lines and administering medication without blowing the vein!  \n",
      "              summary  \\\n",
      "138574  Works Wonders   \n",
      "\n",
      "                                                                                                                    reviewText  \n",
      "138574  I bought this for my son who had dark spots due to ache. After just a couple of weeks the spots are barely noticeable!  \n",
      "                                                 summary  \\\n",
      "161115  works great if you figure out what works for you   \n",
      "\n",
      "                                                                                                                                                                                                                                                                                                                                                                                                                                                                                                                                                                                                                                                                                                                                                                                                                                                                                                                                                                                                                                                                                                                                                                                                                                                                                   reviewText  \n",
      "161115  I have been trying several different long lasting lipsticks and this is one of my favorites. In my experience, these are the things that work and warrant a five star review:\\n-keep it covered with gloss or chapstick.\\nIf it dries out, it may start flaking and it makes my lips feel gritty.\\n-put on a light layer. If I put it too thick, it will start to flake quickly. The color is still intense and it lasts longer.\\n-once it starts to flake, it's best if you remove it completely and start over.\\n-I just dab the included clear coat lightly several times a day. I don't want to run out of the clear before the color.\\n-let your lips dry well without touching before applying the clear coat. I usually walk around smiling for several minutes so that my lips don't touch and the color coat is as dry as can be.\\n-I wipe all the excess off the applicator and then use the tip to line my lips and then fill them in to keep the color on my lips and not my face.\\nI know others experiences may be different but these are the things that work for me and the reason I love this lipstick. The first time I tried it, I almost gave up but then I started to figure out how to work with it to make it work well for me and now I can't do without it.  \n",
      "                  summary  \\\n",
      "46419  Works as promised.   \n",
      "\n",
      "                                                                                                                                                                                                                                      reviewText  \n",
      "46419  I have to say, this works exactly as promised.  Nice smelling tootsies, and boy, I was getting desperate.  My sole complaint is that after a couple of months the spray stops working, and this happened on all the bottles I have owned.  \n",
      "           summary                           reviewText\n",
      "342010  Work Great  These stop my coughing immediately.\n",
      "          summary  \\\n",
      "136643  It works!   \n",
      "\n",
      "                                                                                                                                                                                                                                                                                                                                                                                                                                                                                             reviewText  \n",
      "136643  A product that really works and its organic? YES, IT WORKS! I have been searching for something to get rid of my blackheads and enlarged pores on my nose and chin for years. They were getting worse with my aging skin. I needed something that would would not dry my face out. I am amazed at this product! Wish the bottle was a bit bigger, but honestly you only need a small amount. Added plus is the minty fresh feel and smell in the morning. I love this product! Thank you Vi-tae  \n",
      "                         summary  \\\n",
      "224159  Swim Spray works for me.   \n",
      "\n",
      "                                                                                                                                                                                                                                    reviewText  \n",
      "224159  Prior to using Swim Spray I would have itchy spots within 24 hours of being in a chlorinated pool.  I now use Swim Spray immediately after being in the pool and it appears to have neutralized the affect of the chlorine on my skin.  \n",
      "                                     summary  \\\n",
      "221063  Not miracle gel, but it works for me   \n",
      "\n",
      "                                                                                                                                                                                                                                                                                                                                                                                                                                                                                                                                                                                                                                                                                                                                                                                                                                                                                                                                                                                                                                                                                                                                                         reviewText  \n",
      "221063  I love this stuff. I didn't get ripped off. I actually got a JAR of the gel, and it does what others do that cost the same or cost even more for 0.5 ounces or less. Honestly, none of these really get rid of my \"dark circles,\" but they do reduce fine lines and wrinkles because they work basically like a glue: They tighten the skin on my face, which, eventually (after about six weeks) works to reduce that \"tired\" look. (I try to drink more water, get adequate sleep, eat lots of protein, and avoid alcohol to help reduce the \"bags.\"). Anyway, I can't use moisturizers, no matter how much they claim they \"don't clog pores,\" so it feels great to have something light on my face that doesn't cause my poor acne-prone skin to break out and that keeps my skin hydrated throughout the day regardless of what it claims to be doing. I put this all over my face and it feels great, I don't break out, my fine lines aren't as noticeable, and my skin doesn't dry out.\\n\\nWorth 5 stars because it's cheaper than drug store products that are full of garbage, I don't break out, and, honestly, it works better than that stuff.  \n",
      "               summary  \\\n",
      "192297  Yes, it works!   \n",
      "\n",
      "                                                                                                                                                                                                                                                                                                                                                                                                                                                                                                           reviewText  \n"
     ]
    },
    {
     "name": "stdout",
     "output_type": "stream",
     "text": [
      "192297  This is a great product.  Important to use it very carefully, i.e. repeated quick touches on the callused skin to avoid skin burns.\\n\\nWith care and patience, it will get rid of the most stubborn calluses.  I had a big one on the outside of my big toe that resisted pedicures, pumice stones, etc. for years.  The first treatment with the electric remover took twenty minutes but it REMOVED THE CALLUS.  I was very impressed!  All that's needed to keep it gone is a short treatment once a week.  \n",
      "                           summary  \\\n",
      "225998  It works! just be patient!   \n",
      "\n",
      "                                                                                                                                              reviewText  \n",
      "225998  It works! Just be patient- it takes a couple of months to see a positive result but stick with it and you may have to cut some lashes as I have.  \n",
      "        summary  \\\n",
      "90389  IT WORKS   \n",
      "\n",
      "                                                                                                                                                                   reviewText  \n",
      "90389  My Sister in-law was using Vivite and her Decollete area really improved and after I tried it mine did also, we are both over 65 so that say's alot about the product.  \n",
      "         summary  \\\n",
      "47427  It works!   \n",
      "\n",
      "                                                                                                                                                                                                                 reviewText  \n",
      "47427  This does what it states and provides a wrinkle free decollage. Yeah!  Wearing it during the day is comfortable. I began wearing at night but found it uncomfortable. However I liked the clear skin in the morning.  \n",
      "              summary  \\\n",
      "116580  Works for Me!   \n",
      "\n",
      "                                                                                                                                                                                                                                                  reviewText  \n",
      "116580  I have been using Toji for 5 months now and it's everything it claims to be. I am losing less hair, it's growing like crazy and I can really tell because it's dyed red and I can see the new growth just a week after coloring. Really great stuff.  \n",
      "         summary  \\\n",
      "23630  It works!   \n",
      "\n",
      "                                                                                                                                                                                                                                                                                                                                                                                                                                                                                                         reviewText  \n",
      "23630  Excellent product and works as described.  I used it once a day, and had my normal medium brown in about 5 days!  I highly recommend it...in fact, I just ordered the liquid.  It's not fake looking like the dye products I've tried and you don't have to worry about how long to leave it on and what shade you'll end up with...and it's gradual.  Like others mentioned, it does have an odor (smells like women getting a perm), so I put it on at night and wash it out when I shower in the morning.  \n",
      "            summary  \\\n",
      "71530  Works for Me   \n",
      "\n",
      "                                                                                                                                                                                                                                                                                                                                                                                                                                                                                                                                                                                     reviewText  \n",
      "71530  I live in Houston, it's extremely humid here. Beyond Straight keeps my hair straight for 3-4 days, depending on how much time I spend outdoors. Of course in other climates (specifically Vegas) it lasts all week. The shine is great - people notice it. I have shoulder length hair, I use a quarter sized amount all over, starting w/back, then I section hair and distribute another quarter sized amount throughout followed by blow dryer on medium, let it rest then flat iron.  It's more economical purchasing through Amazon than through the manufacturer. It works for me.  \n",
      "          summary  \\\n",
      "228169  It works!   \n",
      "\n",
      "                                                                reviewText  \n",
      "228169  Seems to work. Noticed tightness in the chin area after first use.  \n",
      "                                 summary  \\\n",
      "47581  Shockingly... this actually works   \n",
      "\n",
      "                                                                                                                                                                                                                                                                                                                                                                                                                                                                                                                                                                             reviewText  \n",
      "47581  I developed chest wrinkles a few years ago when I was in my late 20s.  I assumed they were irreversible and the only way to get rid of them would be some sort of injection.  I thought I'd give this a shot, but was highly skeptical... but it actually worked.  I have a couple wrinkles that are probably permanent, but for the most part I can't believe the change.  However, like many customers, I agree that these do not last as long as advertised.  I think you can make it work for about 3 weeks, then it's time for a new one.  But it's worth it in my opinion.  \n",
      "          summary  \\\n",
      "15568  It works !   \n",
      "\n",
      "                                                                                                                                                                                                                                                                            reviewText  \n",
      "15568  I've had yellowed teeth for years, probably due to coffee and tea comsumption.  I decided to try an inexpensive fix and this seemed the ticket.  I tried the Crest Whitestrips and they did just that, whitened my teeth.  I am very happy with the results and recommend them.  \n",
      "                  summary  \\\n",
      "113190  Toner that works!   \n",
      "\n",
      "                                                                      reviewText  \n",
      "113190  Love this toner, have used it for a while. It feels great and worrrkkks!  \n",
      "                 summary  \\\n",
      "338411  It works for me!   \n",
      "\n",
      "                                                                                                   reviewText  \n",
      "338411  This powder is great. Finely milled and more banana colored than Ben Nye. This is a good alternative.  \n",
      "                     summary  \\\n",
      "127879  This works for me...   \n",
      "\n",
      "                                                                                                                                                                                                                                                                                                                                                                                                                                                           reviewText  \n",
      "127879  This is the best product for the price to cover my gray roots. There may be more expensive options that work as well or better, but this does everything I need it to do. I use it for about a week before I have to get into the salon to have my roots colored. I spray when my hair i about halfway dry at my part where the gray is visible. I do have curly hair so my roots are more forgiving - you can't see as much as you would with straight hair.  \n",
      "                                             summary  \\\n",
      "129118  It works great to cover up my gray outgrowth   \n",
      "\n",
      "                                                                                                                                                                                                                                                                                reviewText  \n",
      "129118  My hairdresser introduced me to this product. It works great to cover up my gray outgrowth. I personally spray it mostly in my part and bang area starting three weeks before my next hair coloring appointment. I recommend being careful to not drip it on surfaces or clothing.  \n",
      "          summary                                           reviewText\n",
      "225912  It works!  I have been using this product and it really works.\n",
      "                                         summary  \\\n",
      "217639  It works, Eczema almost gone in 3 weeks!   \n",
      "\n",
      "                                       reviewText  \n",
      "217639  It works ,Eczema almost gone in 3 weeks !  \n",
      "                                                       summary  \\\n",
      "158105  These are great. It does require some prep work though   \n",
      "\n",
      "                                                                                                                                                                                                                                                                                                                                                                                                                                  reviewText  \n",
      "158105  These are great. It does require some prep work though. You need to measure and cut the elastic and trim some of the flowers so don't wait until the last minute. I set up the headbands so the guests only need to add the flowers and embellishments. Additional items needed are a glue gun, plenty of glue sticks, scissors and a ruler (to measure and cut the elastic) and a sign with instructions for the day of the shower.  \n",
      "                 summary  \\\n",
      "275988  It works for me!   \n",
      "\n",
      "                                                                                                                                                                                                                                                                                                                                                                                                                                                                                                                                                                                                                                                                            reviewText  \n",
      "275988  This is a great solution to an ugly habit that I just could not seem to break.  I've only been using it for 1 full week, but I have not bitten my nails at all this week.  I even forgot to put it on yesterday, but every time I started to put my fingers to my mouth I would think about that bitter taste and just stopped.  I hope I can continue with this and eventually break the habit.  My fingers are all nice and healed up and not red-looking anymore.  I apply it to my nails with a Q-tip so I can use it sparingly.  It seems that even though the jars are very small, one jar might actually take me through an entire month!  I'm happy with this product.  \n",
      "          summary  \\\n",
      "272897  It works!   \n",
      "\n",
      "                                                                                                                                                                                                                        reviewText  \n",
      "272897  It really works - you see the smoothing + plumping effect in an hour (but longer is better). No chemicals + dramatic improvement - I'm a fan. This one has been very sticky for me, about 40 uses so far and still working  \n",
      "       summary  \\\n",
      "96563  Works!!   \n",
      "\n",
      "                                                                                                      reviewText  \n",
      "96563  I'm glad to find this cleaner on Amazon! I use this to wash my beauty blender sponge and works very well.  \n",
      "                                      summary  \\\n",
      "19314  Works for Me - Optimizes my Complexion   \n",
      "\n",
      "                                                                                                                                                                                                                                                                                                   reviewText  \n",
      "19314  I have used eb5 Face Formula for Men for over 5 years, after my Mother bought me a tube - she had been using the Women's version for years with great success.  I think the Men's version works, and optimizes my complexion.  People say I look more than 10 years younger than my mid-50's true age.  \n"
     ]
    },
    {
     "name": "stdout",
     "output_type": "stream",
     "text": [
      "              summary  \\\n",
      "43702  DOES IT WORK?!   \n",
      "\n",
      "                                                                                                                                                          reviewText  \n",
      "43702  Upon applying this, I was able to attract over 100 women in a span of 2 hours. Maybe it was because of this stuff, or maybe it was because I am good looking.  \n",
      "                   summary  \\\n",
      "190658  it does work! wow!   \n",
      "\n",
      "                                                    reviewText  \n",
      "190658  it does work! wow! will buy more for my entire family!  \n",
      "      summary  \\\n",
      "69475   Works   \n",
      "\n",
      "                                                                                                                                                                                                                                                                                                                                                  reviewText  \n",
      "69475  Don't ask me why this works...but it does - at least for me. Be forewarned, it has a spicy smell that will definitely clear a stuffy nose...anywhere in the room! Yet, it works... I've already recommended this to a few friends who suffer arthritis in their hands (like I have). They laugh and then they order it and they've have good results.  \n",
      "              summary  \\\n",
      "227268  It does work.   \n",
      "\n",
      "                                                          reviewText  \n",
      "227268  You must bathe. You can't lather up your back in the shower.  \n",
      "                 summary  \\\n",
      "268065  Works great! : )   \n",
      "\n",
      "                                                                                                                                                                       reviewText  \n",
      "268065  Works extremely well and was recommended by my dental hygienist!  I can already feel an improvement in my gums & have already orded two additional Thorntons Peril Floss.  \n",
      "                summary  \\\n",
      "147786  They reall work   \n",
      "\n",
      "                                                                                                             reviewText  \n",
      "147786  I like using my Micro Pedi in between professional pedicures, especially in the winter when my feet are so dry.  \n",
      "                                  summary  \\\n",
      "100126  It works wonder for fake lashes .   \n",
      "\n",
      "                                                                                                                                                                                                             reviewText  \n",
      "100126  I use this glue for my fake  lashes and it works wonders . My lashes stay on the whole day ...ladies if you are looking for a glue that keep your lashes put the whole day or for several hours buy this glue .  \n"
     ]
    }
   ],
   "source": [
    "pd.set_option('display.max_colwidth',None)\n",
    "for index in index_selected:\n",
    "    print(df_raw.loc[[index],[\"summary\",\"reviewText\"]])"
   ]
  }
 ],
 "metadata": {
  "kernelspec": {
   "display_name": "Python 3 (ipykernel)",
   "language": "python",
   "name": "python3"
  },
  "language_info": {
   "codemirror_mode": {
    "name": "ipython",
    "version": 3
   },
   "file_extension": ".py",
   "mimetype": "text/x-python",
   "name": "python",
   "nbconvert_exporter": "python",
   "pygments_lexer": "ipython3",
   "version": "3.9.7"
  }
 },
 "nbformat": 4,
 "nbformat_minor": 4
}
