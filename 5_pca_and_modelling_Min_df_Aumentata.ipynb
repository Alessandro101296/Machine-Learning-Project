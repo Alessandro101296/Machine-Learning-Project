{
 "cells": [
  {
   "cell_type": "markdown",
   "metadata": {},
   "source": [
    "# Part 5: PCA and Modelling\n",
    "\n",
    "In this notebook, I will bring in the data and performing modelling. Specifically, I will perform dimensionality reduction via PCA and subsequently, KMeans Clustering.\n",
    "\n",
    "Here are the steps to be undertaken:\n",
    "1. Perform Tokenization\n",
    "2. Scale numeric features\n",
    "3. Perform PCA\n",
    "4. Run several models and optimize hyperparameters\n",
    "5. Choose optimal model for KMeans"
   ]
  },
  {
   "cell_type": "code",
   "execution_count": 1,
   "metadata": {},
   "outputs": [],
   "source": [
    "#importing libraries\n",
    "import numpy as np\n",
    "import pandas as pd\n",
    "import matplotlib.pyplot as plt"
   ]
  },
  {
   "cell_type": "code",
   "execution_count": 2,
   "metadata": {},
   "outputs": [],
   "source": [
    "#import custom functions\n",
    "import functions_library as fl"
   ]
  },
  {
   "cell_type": "code",
   "execution_count": 3,
   "metadata": {},
   "outputs": [],
   "source": [
    "#let's bring in the beauty review dataset with the cleaning and feature engineering steps applied\n",
    "df = fl.pipedf('All_Beauty.json.gz')"
   ]
  },
  {
   "cell_type": "markdown",
   "metadata": {},
   "source": [
    "### 1. Perform Tokenization\n",
    "\n",
    "- For reviewText, will use: lemmatizer, ngrams 1-2, **min_df = 1000**\n",
    "- For summary, will use: lemmatizer, ngrams 1-2, **min_df = 800**"
   ]
  },
  {
   "cell_type": "code",
   "execution_count": null,
   "metadata": {},
   "outputs": [
    {
     "name": "stderr",
     "output_type": "stream",
     "text": [
      "C:\\Users\\bucco\\anaconda3\\lib\\site-packages\\sklearn\\feature_extraction\\text.py:489: UserWarning: The parameter 'token_pattern' will not be used since 'tokenizer' is not None'\n",
      "  warnings.warn(\"The parameter 'token_pattern' will not be used\"\n"
     ]
    }
   ],
   "source": [
    "#getting review tokens which will be prepended with 'r_'\n",
    "review_tokens = fl.tfidf(df['reviewText'], tokenizer=fl.spl_tokenizer, ngram_range=(1,2), min_df=1750)"
   ]
  },
  {
   "cell_type": "code",
   "execution_count": 5,
   "metadata": {},
   "outputs": [],
   "source": [
    "#getting summary tokens which will be prepended with 's_'\n",
    "summary_tokens = fl.tfidf(df['summary'], tokenizer=fl.spl_tokenizer, ngram_range=(1,2), min_df=1000)"
   ]
  },
  {
   "cell_type": "markdown",
   "metadata": {},
   "source": [
    "### 2. Scale numeric features\n",
    "Will be using the MinMaxScaler to scale the non-token features."
   ]
  },
  {
   "cell_type": "code",
   "execution_count": 4,
   "metadata": {},
   "outputs": [],
   "source": [
    "#getting the numeric features (no tokens)\n",
    "df2=df.select_dtypes(include=['int32','int64'])"
   ]
  },
  {
   "cell_type": "code",
   "execution_count": 5,
   "metadata": {},
   "outputs": [],
   "source": [
    "from sklearn.preprocessing import MinMaxScaler"
   ]
  },
  {
   "cell_type": "code",
   "execution_count": 6,
   "metadata": {},
   "outputs": [],
   "source": [
    "#instantiate minmaxscaler\n",
    "mm = MinMaxScaler()"
   ]
  },
  {
   "cell_type": "code",
   "execution_count": 7,
   "metadata": {},
   "outputs": [],
   "source": [
    "#fit transform data using minmaxscaler\n",
    "df3 = mm.fit_transform(df2)"
   ]
  },
  {
   "cell_type": "code",
   "execution_count": 8,
   "metadata": {},
   "outputs": [],
   "source": [
    "#put the scaled into a dataframe\n",
    "df_scaled = pd.DataFrame(df3, columns = df2.columns)"
   ]
  },
  {
   "cell_type": "code",
   "execution_count": 9,
   "metadata": {},
   "outputs": [
    {
     "data": {
      "text/plain": [
       "(362252, 12)"
      ]
     },
     "execution_count": 9,
     "metadata": {},
     "output_type": "execute_result"
    }
   ],
   "source": [
    "df_scaled.shape"
   ]
  },
  {
   "cell_type": "code",
   "execution_count": 10,
   "metadata": {},
   "outputs": [],
   "source": [
    "#saving memory\n",
    "del df3, df2"
   ]
  },
  {
   "cell_type": "markdown",
   "metadata": {},
   "source": [
    "#### Now let's bring in the tokens to get the final dataframe."
   ]
  },
  {
   "cell_type": "code",
   "execution_count": 11,
   "metadata": {},
   "outputs": [
    {
     "ename": "NameError",
     "evalue": "name 'review_tokens' is not defined",
     "output_type": "error",
     "traceback": [
      "\u001b[1;31m---------------------------------------------------------------------------\u001b[0m",
      "\u001b[1;31mNameError\u001b[0m                                 Traceback (most recent call last)",
      "\u001b[1;32m~\\AppData\\Local\\Temp/ipykernel_19612/441262939.py\u001b[0m in \u001b[0;36m<module>\u001b[1;34m\u001b[0m\n\u001b[0;32m      1\u001b[0m \u001b[1;31m#concatenating the scaled non-token features and the review & summary tokens\u001b[0m\u001b[1;33m\u001b[0m\u001b[1;33m\u001b[0m\u001b[0m\n\u001b[1;32m----> 2\u001b[1;33m \u001b[0mdf_final\u001b[0m \u001b[1;33m=\u001b[0m \u001b[0mpd\u001b[0m\u001b[1;33m.\u001b[0m\u001b[0mconcat\u001b[0m\u001b[1;33m(\u001b[0m\u001b[1;33m[\u001b[0m\u001b[0mdf_scaled\u001b[0m\u001b[1;33m,\u001b[0m \u001b[0mreview_tokens\u001b[0m\u001b[1;33m,\u001b[0m \u001b[0msummary_tokens\u001b[0m\u001b[1;33m]\u001b[0m\u001b[1;33m,\u001b[0m \u001b[0maxis\u001b[0m \u001b[1;33m=\u001b[0m \u001b[1;36m1\u001b[0m\u001b[1;33m)\u001b[0m\u001b[1;33m\u001b[0m\u001b[1;33m\u001b[0m\u001b[0m\n\u001b[0m",
      "\u001b[1;31mNameError\u001b[0m: name 'review_tokens' is not defined"
     ]
    }
   ],
   "source": [
    "#concatenating the scaled non-token features and the review & summary tokens\n",
    "df_final = pd.concat([df_scaled, review_tokens, summary_tokens], axis = 1)"
   ]
  },
  {
   "cell_type": "code",
   "execution_count": 14,
   "metadata": {},
   "outputs": [],
   "source": [
    "#save data\n",
    "df_final.to_csv('all_tokens_scaled.zip', compression='zip')"
   ]
  },
  {
   "cell_type": "code",
   "execution_count": 14,
   "metadata": {},
   "outputs": [
    {
     "data": {
      "text/html": [
       "<div>\n",
       "<style scoped>\n",
       "    .dataframe tbody tr th:only-of-type {\n",
       "        vertical-align: middle;\n",
       "    }\n",
       "\n",
       "    .dataframe tbody tr th {\n",
       "        vertical-align: top;\n",
       "    }\n",
       "\n",
       "    .dataframe thead th {\n",
       "        text-align: right;\n",
       "    }\n",
       "</style>\n",
       "<table border=\"1\" class=\"dataframe\">\n",
       "  <thead>\n",
       "    <tr style=\"text-align: right;\">\n",
       "      <th></th>\n",
       "      <th>overall</th>\n",
       "      <th>verified</th>\n",
       "      <th>vote</th>\n",
       "      <th>review_word_count</th>\n",
       "      <th>summary_word_count</th>\n",
       "      <th>month</th>\n",
       "      <th>dayofweek</th>\n",
       "      <th>multipleReviews_reviewer</th>\n",
       "      <th>reviewer_five_star_only</th>\n",
       "      <th>reviewer_one_star_only</th>\n",
       "      <th>...</th>\n",
       "      <th>s_way</th>\n",
       "      <th>s_well</th>\n",
       "      <th>s_wonderful</th>\n",
       "      <th>s_work</th>\n",
       "      <th>s_work s_great</th>\n",
       "      <th>s_work s_well</th>\n",
       "      <th>s_worked</th>\n",
       "      <th>s_worth</th>\n",
       "      <th>s_would</th>\n",
       "      <th>s_year</th>\n",
       "    </tr>\n",
       "  </thead>\n",
       "  <tbody>\n",
       "    <tr>\n",
       "      <th>362247</th>\n",
       "      <td>0.00</td>\n",
       "      <td>1.0</td>\n",
       "      <td>0.000000</td>\n",
       "      <td>0.011057</td>\n",
       "      <td>0.087248</td>\n",
       "      <td>0.545455</td>\n",
       "      <td>0.500000</td>\n",
       "      <td>0.0</td>\n",
       "      <td>0.0</td>\n",
       "      <td>1.0</td>\n",
       "      <td>...</td>\n",
       "      <td>0.000000</td>\n",
       "      <td>0.000000</td>\n",
       "      <td>0.0</td>\n",
       "      <td>0.0</td>\n",
       "      <td>0.0</td>\n",
       "      <td>0.0</td>\n",
       "      <td>0.0</td>\n",
       "      <td>0.0</td>\n",
       "      <td>0.0</td>\n",
       "      <td>0.0</td>\n",
       "    </tr>\n",
       "    <tr>\n",
       "      <th>362248</th>\n",
       "      <td>1.00</td>\n",
       "      <td>1.0</td>\n",
       "      <td>0.012495</td>\n",
       "      <td>0.017199</td>\n",
       "      <td>0.006711</td>\n",
       "      <td>0.181818</td>\n",
       "      <td>0.500000</td>\n",
       "      <td>0.0</td>\n",
       "      <td>1.0</td>\n",
       "      <td>0.0</td>\n",
       "      <td>...</td>\n",
       "      <td>0.000000</td>\n",
       "      <td>0.000000</td>\n",
       "      <td>0.0</td>\n",
       "      <td>0.0</td>\n",
       "      <td>0.0</td>\n",
       "      <td>0.0</td>\n",
       "      <td>0.0</td>\n",
       "      <td>0.0</td>\n",
       "      <td>0.0</td>\n",
       "      <td>0.0</td>\n",
       "    </tr>\n",
       "    <tr>\n",
       "      <th>362249</th>\n",
       "      <td>1.00</td>\n",
       "      <td>1.0</td>\n",
       "      <td>0.016906</td>\n",
       "      <td>0.001638</td>\n",
       "      <td>0.013423</td>\n",
       "      <td>0.181818</td>\n",
       "      <td>0.333333</td>\n",
       "      <td>0.0</td>\n",
       "      <td>1.0</td>\n",
       "      <td>0.0</td>\n",
       "      <td>...</td>\n",
       "      <td>0.000000</td>\n",
       "      <td>0.000000</td>\n",
       "      <td>0.0</td>\n",
       "      <td>0.0</td>\n",
       "      <td>0.0</td>\n",
       "      <td>0.0</td>\n",
       "      <td>0.0</td>\n",
       "      <td>0.0</td>\n",
       "      <td>0.0</td>\n",
       "      <td>0.0</td>\n",
       "    </tr>\n",
       "    <tr>\n",
       "      <th>362250</th>\n",
       "      <td>0.25</td>\n",
       "      <td>1.0</td>\n",
       "      <td>0.000000</td>\n",
       "      <td>0.011057</td>\n",
       "      <td>0.060403</td>\n",
       "      <td>0.090909</td>\n",
       "      <td>0.166667</td>\n",
       "      <td>0.0</td>\n",
       "      <td>0.0</td>\n",
       "      <td>0.0</td>\n",
       "      <td>...</td>\n",
       "      <td>0.545842</td>\n",
       "      <td>0.457313</td>\n",
       "      <td>0.0</td>\n",
       "      <td>0.0</td>\n",
       "      <td>0.0</td>\n",
       "      <td>0.0</td>\n",
       "      <td>0.0</td>\n",
       "      <td>0.0</td>\n",
       "      <td>0.0</td>\n",
       "      <td>0.0</td>\n",
       "    </tr>\n",
       "    <tr>\n",
       "      <th>362251</th>\n",
       "      <td>0.25</td>\n",
       "      <td>1.0</td>\n",
       "      <td>0.000000</td>\n",
       "      <td>0.012695</td>\n",
       "      <td>0.053691</td>\n",
       "      <td>1.000000</td>\n",
       "      <td>0.500000</td>\n",
       "      <td>1.0</td>\n",
       "      <td>0.0</td>\n",
       "      <td>0.0</td>\n",
       "      <td>...</td>\n",
       "      <td>0.000000</td>\n",
       "      <td>0.000000</td>\n",
       "      <td>0.0</td>\n",
       "      <td>0.0</td>\n",
       "      <td>0.0</td>\n",
       "      <td>0.0</td>\n",
       "      <td>0.0</td>\n",
       "      <td>0.0</td>\n",
       "      <td>0.0</td>\n",
       "      <td>0.0</td>\n",
       "    </tr>\n",
       "  </tbody>\n",
       "</table>\n",
       "<p>5 rows × 864 columns</p>\n",
       "</div>"
      ],
      "text/plain": [
       "        overall  verified      vote  review_word_count  summary_word_count  \\\n",
       "362247     0.00       1.0  0.000000           0.011057            0.087248   \n",
       "362248     1.00       1.0  0.012495           0.017199            0.006711   \n",
       "362249     1.00       1.0  0.016906           0.001638            0.013423   \n",
       "362250     0.25       1.0  0.000000           0.011057            0.060403   \n",
       "362251     0.25       1.0  0.000000           0.012695            0.053691   \n",
       "\n",
       "           month  dayofweek  multipleReviews_reviewer  \\\n",
       "362247  0.545455   0.500000                       0.0   \n",
       "362248  0.181818   0.500000                       0.0   \n",
       "362249  0.181818   0.333333                       0.0   \n",
       "362250  0.090909   0.166667                       0.0   \n",
       "362251  1.000000   0.500000                       1.0   \n",
       "\n",
       "        reviewer_five_star_only  reviewer_one_star_only  ...     s_way  \\\n",
       "362247                      0.0                     1.0  ...  0.000000   \n",
       "362248                      1.0                     0.0  ...  0.000000   \n",
       "362249                      1.0                     0.0  ...  0.000000   \n",
       "362250                      0.0                     0.0  ...  0.545842   \n",
       "362251                      0.0                     0.0  ...  0.000000   \n",
       "\n",
       "          s_well  s_wonderful  s_work  s_work s_great  s_work s_well  \\\n",
       "362247  0.000000          0.0     0.0             0.0            0.0   \n",
       "362248  0.000000          0.0     0.0             0.0            0.0   \n",
       "362249  0.000000          0.0     0.0             0.0            0.0   \n",
       "362250  0.457313          0.0     0.0             0.0            0.0   \n",
       "362251  0.000000          0.0     0.0             0.0            0.0   \n",
       "\n",
       "        s_worked  s_worth  s_would  s_year  \n",
       "362247       0.0      0.0      0.0     0.0  \n",
       "362248       0.0      0.0      0.0     0.0  \n",
       "362249       0.0      0.0      0.0     0.0  \n",
       "362250       0.0      0.0      0.0     0.0  \n",
       "362251       0.0      0.0      0.0     0.0  \n",
       "\n",
       "[5 rows x 864 columns]"
      ]
     },
     "execution_count": 14,
     "metadata": {},
     "output_type": "execute_result"
    }
   ],
   "source": [
    "df_final.tail()"
   ]
  },
  {
   "cell_type": "code",
   "execution_count": 15,
   "metadata": {},
   "outputs": [],
   "source": [
    "#saving memory\n",
    "del review_tokens, summary_tokens, df_scaled, df"
   ]
  },
  {
   "cell_type": "markdown",
   "metadata": {},
   "source": [
    "### 3. Perform PCA\n",
    "As we have seen above, the final dataframe contains 1347 features so this dataset is a good candidate for dimensionality reduction. Will do so using PCA."
   ]
  },
  {
   "cell_type": "code",
   "execution_count": 16,
   "metadata": {},
   "outputs": [],
   "source": [
    "#import PCA\n",
    "from sklearn.decomposition import PCA"
   ]
  },
  {
   "cell_type": "code",
   "execution_count": 17,
   "metadata": {},
   "outputs": [],
   "source": [
    "# Create a PCA instance: pca\n",
    "pca = PCA(n_components=500)\n",
    "pcs = pca.fit_transform(df_final)"
   ]
  },
  {
   "cell_type": "code",
   "execution_count": 12,
   "metadata": {},
   "outputs": [
    {
     "ename": "NameError",
     "evalue": "name 'pca' is not defined",
     "output_type": "error",
     "traceback": [
      "\u001b[1;31m---------------------------------------------------------------------------\u001b[0m",
      "\u001b[1;31mNameError\u001b[0m                                 Traceback (most recent call last)",
      "\u001b[1;32m~\\AppData\\Local\\Temp/ipykernel_19612/3901047712.py\u001b[0m in \u001b[0;36m<module>\u001b[1;34m\u001b[0m\n\u001b[0;32m      1\u001b[0m \u001b[1;31m# Plot the explained variances\u001b[0m\u001b[1;33m\u001b[0m\u001b[1;33m\u001b[0m\u001b[0m\n\u001b[0;32m      2\u001b[0m \u001b[0mplt\u001b[0m\u001b[1;33m.\u001b[0m\u001b[0mfigure\u001b[0m\u001b[1;33m(\u001b[0m\u001b[0mfigsize\u001b[0m\u001b[1;33m=\u001b[0m\u001b[1;33m(\u001b[0m\u001b[1;36m10\u001b[0m\u001b[1;33m,\u001b[0m\u001b[1;36m4\u001b[0m\u001b[1;33m)\u001b[0m\u001b[1;33m)\u001b[0m\u001b[1;33m\u001b[0m\u001b[1;33m\u001b[0m\u001b[0m\n\u001b[1;32m----> 3\u001b[1;33m \u001b[0mplt\u001b[0m\u001b[1;33m.\u001b[0m\u001b[0mplot\u001b[0m\u001b[1;33m(\u001b[0m\u001b[0mrange\u001b[0m\u001b[1;33m(\u001b[0m\u001b[1;36m500\u001b[0m\u001b[1;33m)\u001b[0m\u001b[1;33m,\u001b[0m \u001b[0mpca\u001b[0m\u001b[1;33m.\u001b[0m\u001b[0mexplained_variance_ratio_\u001b[0m\u001b[1;33m[\u001b[0m\u001b[1;36m0\u001b[0m\u001b[1;33m:\u001b[0m\u001b[1;36m500\u001b[0m\u001b[1;33m]\u001b[0m\u001b[1;33m)\u001b[0m\u001b[1;33m\u001b[0m\u001b[1;33m\u001b[0m\u001b[0m\n\u001b[0m\u001b[0;32m      4\u001b[0m \u001b[0mplt\u001b[0m\u001b[1;33m.\u001b[0m\u001b[0mxlabel\u001b[0m\u001b[1;33m(\u001b[0m\u001b[1;34m'PCA features'\u001b[0m\u001b[1;33m)\u001b[0m\u001b[1;33m\u001b[0m\u001b[1;33m\u001b[0m\u001b[0m\n\u001b[0;32m      5\u001b[0m \u001b[0mplt\u001b[0m\u001b[1;33m.\u001b[0m\u001b[0mylabel\u001b[0m\u001b[1;33m(\u001b[0m\u001b[1;34m'explained variance %'\u001b[0m\u001b[1;33m)\u001b[0m\u001b[1;33m\u001b[0m\u001b[1;33m\u001b[0m\u001b[0m\n",
      "\u001b[1;31mNameError\u001b[0m: name 'pca' is not defined"
     ]
    },
    {
     "data": {
      "text/plain": [
       "<Figure size 720x288 with 0 Axes>"
      ]
     },
     "metadata": {},
     "output_type": "display_data"
    }
   ],
   "source": [
    "# Plot the explained variances\n",
    "plt.figure(figsize=(10,4))\n",
    "plt.plot(range(500), pca.explained_variance_ratio_[0:500])\n",
    "plt.xlabel('PCA features')\n",
    "plt.ylabel('explained variance %')\n",
    "plt.xticks(range(0,501,25))\n",
    "plt.title('Explained variance % of Principal Components')\n",
    "plt.show()"
   ]
  },
  {
   "cell_type": "code",
   "execution_count": 19,
   "metadata": {},
   "outputs": [
    {
     "data": {
      "image/png": "[encoded data removed]",
      "text/plain": [
       "<Figure size 720x288 with 1 Axes>"
      ]
     },
     "metadata": {
      "needs_background": "light"
     },
     "output_type": "display_data"
    }
   ],
   "source": [
    "# Plot the cumulative sum of explained variances\n",
    "plt.figure(figsize=(10,4))\n",
    "plt.plot(range(500), pca.explained_variance_ratio_.cumsum()[0:500])\n",
    "plt.xlabel('PCA features')\n",
    "plt.ylabel('cumulative sum of explained variance %')\n",
    "plt.xticks(range(0,501,25))\n",
    "plt.title('Cumulative Sum of Explained variance % of Principal Components')\n",
    "plt.show()"
   ]
  },
  {
   "cell_type": "markdown",
   "metadata": {},
   "source": [
    "From the above, we want to have as much explained variance as possible from the least number of principal components. As a rough guide, I want to be able to have at least 80% explained variance."
   ]
  },
  {
   "cell_type": "code",
   "execution_count": 25,
   "metadata": {},
   "outputs": [
    {
     "data": {
      "text/plain": [
       "0.8075446936896741"
      ]
     },
     "execution_count": 25,
     "metadata": {},
     "output_type": "execute_result"
    }
   ],
   "source": [
    "#explained variance for 300 PCs\n",
    "pca.explained_variance_ratio_.cumsum()[230]"
   ]
  },
  {
   "cell_type": "code",
   "execution_count": 26,
   "metadata": {},
   "outputs": [
    {
     "data": {
      "text/plain": [
       "0.8140070367905118"
      ]
     },
     "execution_count": 26,
     "metadata": {},
     "output_type": "execute_result"
    }
   ],
   "source": [
    "#explained variance for 350 PCs\n",
    "pca.explained_variance_ratio_.cumsum()[240]"
   ]
  },
  {
   "cell_type": "code",
   "execution_count": 27,
   "metadata": {},
   "outputs": [
    {
     "data": {
      "text/plain": [
       "0.820255825732062"
      ]
     },
     "execution_count": 27,
     "metadata": {},
     "output_type": "execute_result"
    }
   ],
   "source": [
    "#explained variance for 300 PCs\n",
    "pca.explained_variance_ratio_.cumsum()[250]"
   ]
  },
  {
   "cell_type": "markdown",
   "metadata": {},
   "source": [
    "300 PCs provides 80% explained variance. 400 PCs gets close to 85%. For later modelling, let's try using **350 PCs** as we get a decent tradeoff: 50 more features for 2.2% increase in explained variance compared to 300 PCs. I note that this may not provide the optimal settings to build a model but the model can always be improved in later iterations of this project."
   ]
  },
  {
   "cell_type": "code",
   "execution_count": 28,
   "metadata": {},
   "outputs": [],
   "source": [
    "# Save components to a DataFrame\n",
    "PCA_components = pd.DataFrame(pcs)"
   ]
  },
  {
   "cell_type": "code",
   "execution_count": 29,
   "metadata": {},
   "outputs": [
    {
     "data": {
      "image/png": "[encoded data removed]",
      "text/plain": [
       "<Figure size 432x288 with 1 Axes>"
      ]
     },
     "metadata": {
      "needs_background": "light"
     },
     "output_type": "display_data"
    }
   ],
   "source": [
    "#this is what the first two features look like (plot)\n",
    "plt.figure()\n",
    "plt.scatter(PCA_components[0],PCA_components[1], alpha=.05, color='blue')\n",
    "plt.xlabel('PCA 0')\n",
    "plt.ylabel('PCA 1')\n",
    "plt.show()"
   ]
  },
  {
   "cell_type": "markdown",
   "metadata": {},
   "source": [
    "## KMeans Clustering\n",
    "The moment we have been waiting for. We can now begin building our model. For this project I would like to try using Kmeans clustering. Additionally, I will try using LDA topic modelling, which will be performed in a separate notebook."
   ]
  },
  {
   "cell_type": "code",
   "execution_count": 30,
   "metadata": {},
   "outputs": [],
   "source": [
    "from sklearn.cluster import KMeans"
   ]
  },
  {
   "cell_type": "code",
   "execution_count": 31,
   "metadata": {},
   "outputs": [
    {
     "name": "stdout",
     "output_type": "stream",
     "text": [
      "Initialization complete\n",
      "Iteration 0, inertia 878577.9555449251\n",
      "Iteration 1, inertia 594296.7177531639\n",
      "Iteration 2, inertia 565290.9652329603\n",
      "Iteration 3, inertia 552022.9942541465\n",
      "Iteration 4, inertia 550908.7076732523\n",
      "Iteration 5, inertia 550859.2874702403\n",
      "Iteration 6, inertia 550823.6895615499\n",
      "Iteration 7, inertia 550731.1852494371\n",
      "Iteration 8, inertia 550519.3357477989\n",
      "Iteration 9, inertia 550049.5175478916\n",
      "Iteration 10, inertia 549424.9669748793\n",
      "Iteration 11, inertia 548971.6983195733\n",
      "Iteration 12, inertia 548899.1808334637\n",
      "Iteration 13, inertia 548894.5559723608\n",
      "Iteration 14, inertia 548892.3063809769\n",
      "Iteration 15, inertia 548891.4419424244\n",
      "Iteration 16, inertia 548890.9103580725\n",
      "Iteration 17, inertia 548890.3989904631\n",
      "Iteration 18, inertia 548890.1847830542\n",
      "Iteration 19, inertia 548890.1003226946\n",
      "Converged at iteration 19: center shift 2.4320726468027216e-07 within tolerance 9.931390534396236e-07.\n",
      "Initialization complete\n",
      "Iteration 0, inertia 1000027.082771377\n",
      "Iteration 1, inertia 558089.9185868223\n",
      "Iteration 2, inertia 543667.4130102339\n",
      "Iteration 3, inertia 542392.386447563\n",
      "Iteration 4, inertia 541827.4747303663\n",
      "Iteration 5, inertia 541561.7073887583\n",
      "Iteration 6, inertia 541511.954749775\n",
      "Iteration 7, inertia 541497.3064876411\n",
      "Iteration 8, inertia 541476.1056691656\n",
      "Iteration 9, inertia 541457.7837836227\n",
      "Iteration 10, inertia 541425.8781579412\n",
      "Iteration 11, inertia 541382.3510861512\n",
      "Iteration 12, inertia 541339.1940074465\n",
      "Iteration 13, inertia 541313.097290359\n",
      "Iteration 14, inertia 541303.5057926836\n",
      "Iteration 15, inertia 541300.6156947551\n",
      "Iteration 16, inertia 541299.1373517265\n",
      "Iteration 17, inertia 541298.734600818\n",
      "Iteration 18, inertia 541298.6746649833\n",
      "Converged at iteration 18: center shift 1.3589682648914514e-07 within tolerance 9.931390534396236e-07.\n",
      "Initialization complete\n",
      "Iteration 0, inertia 770525.2560467134\n",
      "Iteration 1, inertia 572170.7385385142\n",
      "Iteration 2, inertia 559981.8894646482\n",
      "Iteration 3, inertia 551878.020768974\n",
      "Iteration 4, inertia 550801.5608578314\n",
      "Iteration 5, inertia 550697.1347310006\n",
      "Iteration 6, inertia 550656.9754940384\n",
      "Iteration 7, inertia 550653.7292880442\n",
      "Iteration 8, inertia 550652.8759544839\n",
      "Iteration 9, inertia 550652.0356839881\n",
      "Iteration 10, inertia 550650.8132348786\n",
      "Iteration 11, inertia 550648.7765199429\n",
      "Iteration 12, inertia 550648.1652109842\n",
      "Iteration 13, inertia 550648.0257070513\n",
      "Iteration 14, inertia 550647.900193157\n",
      "Iteration 15, inertia 550647.7133316748\n",
      "Iteration 16, inertia 550647.5968247249\n",
      "Iteration 17, inertia 550647.5307855632\n",
      "Converged at iteration 17: center shift 3.696133134466571e-07 within tolerance 9.931390534396236e-07.\n",
      "Initialization complete\n",
      "Iteration 0, inertia 790353.8916584647\n",
      "Iteration 1, inertia 539861.7155988534\n",
      "Iteration 2, inertia 536250.5533456802\n",
      "Iteration 3, inertia 535344.4530780643\n",
      "Iteration 4, inertia 534998.1830952483\n",
      "Iteration 5, inertia 534825.4346786137\n",
      "Iteration 6, inertia 534677.9982463791\n",
      "Iteration 7, inertia 534538.0064831524\n",
      "Iteration 8, inertia 534434.2692115725\n",
      "Iteration 9, inertia 534340.6769886767\n",
      "Iteration 10, inertia 534164.7947812887\n",
      "Iteration 11, inertia 533386.5891401768\n",
      "Iteration 12, inertia 532571.2603300548\n",
      "Iteration 13, inertia 532565.7464384143\n",
      "Iteration 14, inertia 532545.6596651932\n",
      "Iteration 15, inertia 532523.6664296942\n",
      "Iteration 16, inertia 532517.1320699727\n",
      "Converged at iteration 16: center shift 1.5580160988613054e-08 within tolerance 9.931390534396236e-07.\n",
      "Initialization complete\n",
      "Iteration 0, inertia 827124.1593738105\n",
      "Iteration 1, inertia 515864.50191541587\n",
      "Iteration 2, inertia 510534.0487133978\n",
      "Iteration 3, inertia 510352.39335557155\n",
      "Iteration 4, inertia 510318.98770625034\n",
      "Iteration 5, inertia 510313.18286197196\n",
      "Iteration 6, inertia 510310.03478504985\n",
      "Iteration 7, inertia 510309.25228991266\n",
      "Iteration 8, inertia 510309.07527692\n",
      "Iteration 9, inertia 510308.66781580745\n",
      "Iteration 10, inertia 510308.13500600343\n",
      "Iteration 11, inertia 510307.9151215818\n",
      "Iteration 12, inertia 510307.81067691604\n",
      "Converged at iteration 12: center shift 7.529323076097154e-07 within tolerance 9.931390534396236e-07.\n",
      "Initialization complete\n",
      "Iteration 0, inertia 717911.7560402687\n",
      "Iteration 1, inertia 524039.06751460856\n",
      "Iteration 2, inertia 520186.71693139104\n",
      "Iteration 3, inertia 519185.54590039107\n",
      "Iteration 4, inertia 518645.1891469474\n",
      "Iteration 5, inertia 518231.2991609932\n",
      "Iteration 6, inertia 517602.51153812517\n",
      "Iteration 7, inertia 516790.9084944856\n",
      "Iteration 8, inertia 515119.80156286294\n",
      "Iteration 9, inertia 510608.7653683199\n",
      "Iteration 10, inertia 509675.267328903\n",
      "Iteration 11, inertia 509214.5642454707\n",
      "Iteration 12, inertia 509212.0025958591\n",
      "Iteration 13, inertia 509211.8805780217\n",
      "Converged at iteration 13: center shift 1.8918646174383515e-07 within tolerance 9.931390534396236e-07.\n",
      "Initialization complete\n",
      "Iteration 0, inertia 815032.2800935489\n",
      "Iteration 1, inertia 526723.5462382722\n",
      "Iteration 2, inertia 514546.41826773545\n",
      "Iteration 3, inertia 508958.0836984301\n",
      "Iteration 4, inertia 507206.39160471346\n",
      "Iteration 5, inertia 506856.9125471476\n",
      "Iteration 6, inertia 506344.7159373585\n",
      "Iteration 7, inertia 505600.1962947511\n",
      "Iteration 8, inertia 503825.64448665583\n",
      "Iteration 9, inertia 499380.1998885088\n",
      "Iteration 10, inertia 498016.4070825585\n",
      "Iteration 11, inertia 498003.8601209711\n",
      "Iteration 12, inertia 498001.16301563225\n",
      "Iteration 13, inertia 498000.3867214335\n",
      "Iteration 14, inertia 497999.96836193406\n",
      "Iteration 15, inertia 497999.8505228651\n",
      "Iteration 16, inertia 497999.8139802818\n",
      "Converged at iteration 16: center shift 8.166368351345582e-07 within tolerance 9.931390534396236e-07.\n",
      "Initialization complete\n",
      "Iteration 0, inertia 725711.1591823301\n",
      "Iteration 1, inertia 510786.18032049126\n",
      "Iteration 2, inertia 502771.09056117653\n",
      "Iteration 3, inertia 501727.3259939155\n",
      "Iteration 4, inertia 501157.66585908615\n",
      "Iteration 5, inertia 500436.97839564283\n",
      "Iteration 6, inertia 499292.54264803673\n",
      "Iteration 7, inertia 497414.65502760303\n",
      "Iteration 8, inertia 497253.85436142725\n",
      "Iteration 9, inertia 497151.015332997\n",
      "Iteration 10, inertia 497108.89153432025\n",
      "Iteration 11, inertia 497100.65410859167\n",
      "Iteration 12, inertia 497077.68660782377\n",
      "Iteration 13, inertia 496919.36985130014\n",
      "Iteration 14, inertia 495356.7954155955\n",
      "Iteration 15, inertia 492444.18951848225\n",
      "Iteration 16, inertia 491469.83998036233\n",
      "Iteration 17, inertia 491458.20021996903\n",
      "Iteration 18, inertia 491453.72081146773\n",
      "Iteration 19, inertia 491453.527521147\n",
      "Converged at iteration 19: center shift 4.3540768217349724e-07 within tolerance 9.931390534396236e-07.\n",
      "Initialization complete\n",
      "Iteration 0, inertia 784563.159776474\n",
      "Iteration 1, inertia 527367.0595283651\n",
      "Iteration 2, inertia 503467.87303917896\n",
      "Iteration 3, inertia 499404.43390429526\n",
      "Iteration 4, inertia 497789.765145407\n",
      "Iteration 5, inertia 496725.4381092912\n",
      "Iteration 6, inertia 496418.05821928347\n",
      "Iteration 7, inertia 496212.1036208806\n",
      "Iteration 8, inertia 496085.21334332647\n",
      "Iteration 9, inertia 495817.8211169211\n",
      "Iteration 10, inertia 495480.5021924108\n",
      "Iteration 11, inertia 494834.3190925556\n",
      "Iteration 12, inertia 493808.7193105136\n",
      "Iteration 13, inertia 493780.66820430406\n",
      "Iteration 14, inertia 493775.96336717746\n",
      "Iteration 15, inertia 493769.39867955097\n",
      "Iteration 16, inertia 493761.3265555431\n",
      "Iteration 17, inertia 493761.3020557954\n",
      "Converged at iteration 17: strict convergence.\n",
      "Initialization complete\n",
      "Iteration 0, inertia 803952.3049651593\n",
      "Iteration 1, inertia 517990.6362106594\n",
      "Iteration 2, inertia 494836.431948392\n",
      "Iteration 3, inertia 491508.30184592976\n",
      "Iteration 4, inertia 490322.42979854264\n",
      "Iteration 5, inertia 489833.1461634593\n",
      "Iteration 6, inertia 489628.5452474793\n",
      "Iteration 7, inertia 489484.4193637211\n",
      "Iteration 8, inertia 489305.0225121252\n",
      "Iteration 9, inertia 488987.994964683\n",
      "Iteration 10, inertia 488439.75245981023\n",
      "Iteration 11, inertia 487709.56863793265\n",
      "Iteration 12, inertia 487660.58733127173\n",
      "Iteration 13, inertia 487658.970829046\n",
      "Iteration 14, inertia 487658.7227200093\n",
      "Iteration 15, inertia 487658.58217580937\n",
      "Iteration 16, inertia 487658.4434612229\n",
      "Iteration 17, inertia 487658.22325151996\n",
      "Iteration 18, inertia 487657.7778970002\n",
      "Iteration 19, inertia 487657.4504147127\n",
      "Iteration 20, inertia 487657.2966892494\n",
      "Converged at iteration 20: center shift 2.123317082046168e-07 within tolerance 9.931390534396236e-07.\n"
     ]
    },
    {
     "name": "stdout",
     "output_type": "stream",
     "text": [
      "Initialization complete\n",
      "Iteration 0, inertia 806176.3346447549\n",
      "Iteration 1, inertia 525973.0609705165\n",
      "Iteration 2, inertia 506227.57103980414\n",
      "Iteration 3, inertia 497349.6934123429\n",
      "Iteration 4, inertia 493261.8458132556\n",
      "Iteration 5, inertia 490914.5474677672\n",
      "Iteration 6, inertia 488748.7191851354\n",
      "Iteration 7, inertia 486919.29283015296\n",
      "Iteration 8, inertia 486874.7630034231\n",
      "Iteration 9, inertia 486839.7279298192\n",
      "Iteration 10, inertia 486821.18745264085\n",
      "Iteration 11, inertia 486802.6112389264\n",
      "Iteration 12, inertia 486789.28553768643\n",
      "Iteration 13, inertia 486778.57355853036\n",
      "Iteration 14, inertia 486770.45652100304\n",
      "Iteration 15, inertia 486765.32801230747\n",
      "Iteration 16, inertia 486760.63179662474\n",
      "Iteration 17, inertia 486757.7767865297\n",
      "Iteration 18, inertia 486751.2819128172\n",
      "Iteration 19, inertia 486742.48332483706\n",
      "Iteration 20, inertia 486724.9236025057\n",
      "Iteration 21, inertia 486705.7051269374\n",
      "Iteration 22, inertia 486705.68807519664\n",
      "Iteration 23, inertia 486705.6647507915\n",
      "Iteration 24, inertia 486705.5419503439\n",
      "Iteration 25, inertia 486704.44362992386\n",
      "Iteration 26, inertia 486681.4436173156\n",
      "Iteration 27, inertia 486649.1514905315\n",
      "Iteration 28, inertia 486648.7270646897\n",
      "Iteration 29, inertia 486648.7112381615\n",
      "Converged at iteration 29: center shift 8.068883690164798e-07 within tolerance 9.931390534396236e-07.\n",
      "Initialization complete\n",
      "Iteration 0, inertia 750621.638014293\n",
      "Iteration 1, inertia 510846.1155942933\n",
      "Iteration 2, inertia 500679.8113848311\n",
      "Iteration 3, inertia 491712.65770515497\n",
      "Iteration 4, inertia 488653.9918147208\n",
      "Iteration 5, inertia 488383.7874766692\n",
      "Iteration 6, inertia 488201.6774500362\n",
      "Iteration 7, inertia 487994.86213311786\n",
      "Iteration 8, inertia 487856.21541694243\n",
      "Iteration 9, inertia 487796.46099907224\n",
      "Iteration 10, inertia 487786.5366505675\n",
      "Iteration 11, inertia 487734.4940651141\n",
      "Iteration 12, inertia 487588.8837453024\n",
      "Iteration 13, inertia 487537.38647752104\n",
      "Iteration 14, inertia 487493.1336060861\n",
      "Iteration 15, inertia 487153.0403369954\n",
      "Iteration 16, inertia 486275.78849441954\n",
      "Iteration 17, inertia 484114.10471309896\n",
      "Iteration 18, inertia 483627.66855244426\n",
      "Iteration 19, inertia 483625.39192583156\n",
      "Iteration 20, inertia 483624.37121864\n",
      "Iteration 21, inertia 483624.10507001483\n",
      "Converged at iteration 21: center shift 5.793945142566739e-07 within tolerance 9.931390534396236e-07.\n",
      "Initialization complete\n",
      "Iteration 0, inertia 747723.4911922686\n",
      "Iteration 1, inertia 492122.7092838563\n",
      "Iteration 2, inertia 477495.617919652\n",
      "Iteration 3, inertia 475263.7308382765\n",
      "Iteration 4, inertia 474926.8526611304\n",
      "Iteration 5, inertia 474902.84239344863\n",
      "Iteration 6, inertia 474884.5354459628\n",
      "Iteration 7, inertia 474868.75672458526\n",
      "Iteration 8, inertia 474864.8596121834\n",
      "Iteration 9, inertia 474860.1218649901\n",
      "Iteration 10, inertia 474851.9501642452\n",
      "Iteration 11, inertia 474837.9494014184\n",
      "Iteration 12, inertia 474810.66776415036\n",
      "Iteration 13, inertia 474719.20498943416\n",
      "Iteration 14, inertia 474304.4292686594\n",
      "Iteration 15, inertia 472949.0367916524\n",
      "Iteration 16, inertia 471094.085559591\n",
      "Iteration 17, inertia 470040.8136937374\n",
      "Iteration 18, inertia 469638.9549947671\n",
      "Iteration 19, inertia 469621.9169483661\n",
      "Iteration 20, inertia 469621.54749014886\n",
      "Iteration 21, inertia 469621.45731115685\n",
      "Iteration 22, inertia 469621.3657053881\n",
      "Iteration 23, inertia 469621.300635535\n",
      "Iteration 24, inertia 469621.2106899576\n",
      "Iteration 25, inertia 469621.0509090764\n",
      "Iteration 26, inertia 469620.8671208427\n",
      "Iteration 27, inertia 469620.78848800075\n",
      "Iteration 28, inertia 469620.7636956029\n",
      "Converged at iteration 28: center shift 3.769535581952225e-07 within tolerance 9.931390534396236e-07.\n",
      "Initialization complete\n",
      "Iteration 0, inertia 717387.601431609\n",
      "Iteration 1, inertia 486349.621205489\n",
      "Iteration 2, inertia 478292.7271748856\n",
      "Iteration 3, inertia 476751.56530802045\n",
      "Iteration 4, inertia 475120.0361449407\n",
      "Iteration 5, inertia 474532.48715542007\n",
      "Iteration 6, inertia 473823.2093249112\n",
      "Iteration 7, inertia 472188.96603003755\n",
      "Iteration 8, inertia 471150.8698679053\n",
      "Iteration 9, inertia 470938.1199689046\n",
      "Iteration 10, inertia 470926.80381342967\n",
      "Iteration 11, inertia 470917.02334864635\n",
      "Iteration 12, inertia 470911.36946861504\n",
      "Iteration 13, inertia 470910.49504628615\n",
      "Iteration 14, inertia 470910.46323900024\n",
      "Converged at iteration 14: center shift 6.926807422270406e-07 within tolerance 9.931390534396236e-07.\n",
      "Initialization complete\n",
      "Iteration 0, inertia 703482.1967869912\n",
      "Iteration 1, inertia 487100.2328413626\n",
      "Iteration 2, inertia 476895.5743928088\n",
      "Iteration 3, inertia 475370.7653619768\n",
      "Iteration 4, inertia 474671.5735634634\n",
      "Iteration 5, inertia 474238.1276302503\n",
      "Iteration 6, inertia 473820.4468431844\n",
      "Iteration 7, inertia 473112.1609089819\n",
      "Iteration 8, inertia 472607.73454848747\n",
      "Iteration 9, inertia 472328.01198309805\n",
      "Iteration 10, inertia 472099.6039759543\n",
      "Iteration 11, inertia 471902.4504938452\n",
      "Iteration 12, inertia 471776.8549409005\n",
      "Iteration 13, inertia 471666.16443744744\n",
      "Iteration 14, inertia 471553.70856925385\n",
      "Iteration 15, inertia 471360.97678839474\n",
      "Iteration 16, inertia 471071.00303569756\n",
      "Iteration 17, inertia 471065.4873922771\n",
      "Iteration 18, inertia 471065.3893387036\n",
      "Converged at iteration 18: center shift 7.368434628040958e-07 within tolerance 9.931390534396236e-07.\n",
      "Initialization complete\n",
      "Iteration 0, inertia 681540.2824922563\n",
      "Iteration 1, inertia 484580.9367286854\n",
      "Iteration 2, inertia 473640.2908364138\n",
      "Iteration 3, inertia 470163.7194497713\n",
      "Iteration 4, inertia 469944.24884168984\n",
      "Iteration 5, inertia 469909.20252927224\n",
      "Iteration 6, inertia 469892.43903713167\n",
      "Iteration 7, inertia 469878.11394940224\n",
      "Iteration 8, inertia 469876.7987628358\n",
      "Iteration 9, inertia 469876.17941597156\n",
      "Iteration 10, inertia 469874.94375359884\n",
      "Iteration 11, inertia 469864.18970240327\n",
      "Iteration 12, inertia 469846.5583451869\n",
      "Iteration 13, inertia 469837.86948463647\n",
      "Iteration 14, inertia 469828.94329898764\n",
      "Iteration 15, inertia 469813.3463356147\n",
      "Iteration 16, inertia 469808.47540283785\n",
      "Iteration 17, inertia 469804.70456665946\n",
      "Iteration 18, inertia 469801.51594394614\n",
      "Iteration 19, inertia 469794.540377028\n",
      "Iteration 20, inertia 469790.23592675343\n",
      "Iteration 21, inertia 469782.4416844777\n",
      "Iteration 22, inertia 469781.04168033\n",
      "Iteration 23, inertia 469781.02218972467\n",
      "Converged at iteration 23: strict convergence.\n",
      "Initialization complete\n",
      "Iteration 0, inertia 754976.1851343985\n",
      "Iteration 1, inertia 482540.7397942656\n",
      "Iteration 2, inertia 469238.1449610573\n",
      "Iteration 3, inertia 467790.15973262134\n",
      "Iteration 4, inertia 467271.0472106658\n",
      "Iteration 5, inertia 467055.2350507342\n",
      "Iteration 6, inertia 466973.8646741556\n",
      "Iteration 7, inertia 466911.77183626476\n",
      "Iteration 8, inertia 466815.78105523187\n",
      "Iteration 9, inertia 466796.3788667895\n",
      "Iteration 10, inertia 466749.9135026154\n",
      "Iteration 11, inertia 466674.0712817357\n",
      "Iteration 12, inertia 466639.7812963867\n",
      "Iteration 13, inertia 466567.5156665071\n",
      "Iteration 14, inertia 466495.63803070434\n",
      "Iteration 15, inertia 466463.2076879317\n",
      "Iteration 16, inertia 466444.79696970765\n",
      "Iteration 17, inertia 466413.6100629661\n",
      "Iteration 18, inertia 466393.429913703\n",
      "Iteration 19, inertia 466393.08126908477\n",
      "Iteration 20, inertia 466393.036017838\n",
      "Converged at iteration 20: center shift 8.369320189837653e-07 within tolerance 9.931390534396236e-07.\n",
      "Initialization complete\n",
      "Iteration 0, inertia 661464.2721713736\n",
      "Iteration 1, inertia 473957.36038589315\n",
      "Iteration 2, inertia 462833.89577124943\n",
      "Iteration 3, inertia 457668.8988168805\n",
      "Iteration 4, inertia 456832.2419746751\n",
      "Iteration 5, inertia 456249.3767296812\n",
      "Iteration 6, inertia 455935.95574589487\n",
      "Iteration 7, inertia 455565.57487918076\n",
      "Iteration 8, inertia 455398.91702127544\n",
      "Iteration 9, inertia 455380.011804669\n",
      "Iteration 10, inertia 455372.1084395509\n",
      "Iteration 11, inertia 455363.76331118454\n",
      "Iteration 12, inertia 455362.851890513\n",
      "Iteration 13, inertia 455362.8070293304\n",
      "Iteration 14, inertia 455362.7739903483\n",
      "Converged at iteration 14: center shift 8.134916470372661e-07 within tolerance 9.931390534396236e-07.\n",
      "Initialization complete\n",
      "Iteration 0, inertia 696818.6290139114\n",
      "Iteration 1, inertia 476817.6353445124\n",
      "Iteration 2, inertia 466595.8024959012\n",
      "Iteration 3, inertia 464859.62481000356\n",
      "Iteration 4, inertia 464126.70857199\n",
      "Iteration 5, inertia 463719.8470276316\n",
      "Iteration 6, inertia 463541.1425241739\n",
      "Iteration 7, inertia 463437.34325737867\n",
      "Iteration 8, inertia 463352.3148590844\n"
     ]
    },
    {
     "name": "stdout",
     "output_type": "stream",
     "text": [
      "Iteration 9, inertia 463249.6986973846\n",
      "Iteration 10, inertia 463159.34488735726\n",
      "Iteration 11, inertia 463075.896533078\n",
      "Iteration 12, inertia 463032.9412596585\n",
      "Iteration 13, inertia 462998.27283294185\n",
      "Iteration 14, inertia 462945.616022012\n",
      "Iteration 15, inertia 462932.44462716015\n",
      "Iteration 16, inertia 462929.22303763306\n",
      "Iteration 17, inertia 462928.36418782873\n",
      "Iteration 18, inertia 462927.8153357541\n",
      "Iteration 19, inertia 462927.62021391484\n",
      "Iteration 20, inertia 462925.79098917637\n",
      "Iteration 21, inertia 462925.14761580515\n",
      "Iteration 22, inertia 462924.8612330931\n",
      "Iteration 23, inertia 462924.5316772269\n",
      "Iteration 24, inertia 462924.4716583688\n",
      "Iteration 25, inertia 462924.38515109906\n",
      "Iteration 26, inertia 462924.3679215904\n",
      "Converged at iteration 26: center shift 5.790777310773897e-07 within tolerance 9.931390534396236e-07.\n",
      "Initialization complete\n",
      "Iteration 0, inertia 662151.7205099465\n",
      "Iteration 1, inertia 469569.06817594054\n",
      "Iteration 2, inertia 460728.62979984866\n",
      "Iteration 3, inertia 459212.7922342502\n",
      "Iteration 4, inertia 458785.9777807849\n",
      "Iteration 5, inertia 458557.9717338612\n",
      "Iteration 6, inertia 458537.84110806574\n",
      "Iteration 7, inertia 458531.4769649768\n",
      "Iteration 8, inertia 458527.11122537433\n",
      "Iteration 9, inertia 458525.8702066019\n",
      "Iteration 10, inertia 458520.9378436248\n",
      "Iteration 11, inertia 458519.7251846942\n",
      "Iteration 12, inertia 458516.823276605\n",
      "Iteration 13, inertia 458511.7391271605\n",
      "Iteration 14, inertia 458501.1509343275\n",
      "Iteration 15, inertia 458498.8357734661\n",
      "Iteration 16, inertia 458497.2744999745\n",
      "Iteration 17, inertia 458485.2158076302\n",
      "Iteration 18, inertia 458478.2083740721\n",
      "Iteration 19, inertia 458477.0563406957\n",
      "Iteration 20, inertia 458465.0429903993\n",
      "Iteration 21, inertia 458443.8633401343\n",
      "Iteration 22, inertia 458332.96459274564\n",
      "Iteration 23, inertia 457807.1360632682\n",
      "Iteration 24, inertia 457754.22952557646\n",
      "Iteration 25, inertia 457754.20741186675\n",
      "Iteration 26, inertia 457754.20439553715\n",
      "Converged at iteration 26: strict convergence.\n",
      "Initialization complete\n",
      "Iteration 0, inertia 679207.692640976\n",
      "Iteration 1, inertia 471167.46055956575\n",
      "Iteration 2, inertia 457465.99443414976\n",
      "Iteration 3, inertia 453848.5005972979\n",
      "Iteration 4, inertia 452792.4737698155\n",
      "Iteration 5, inertia 452501.6801862802\n",
      "Iteration 6, inertia 452251.5527534503\n",
      "Iteration 7, inertia 451935.6465367497\n",
      "Iteration 8, inertia 451886.3253268351\n",
      "Iteration 9, inertia 451871.0215011703\n",
      "Iteration 10, inertia 451848.0368144581\n",
      "Iteration 11, inertia 451841.5759931124\n",
      "Iteration 12, inertia 451832.1756928704\n",
      "Iteration 13, inertia 451819.00432656205\n",
      "Iteration 14, inertia 451804.97324641905\n",
      "Iteration 15, inertia 451397.769685497\n",
      "Iteration 16, inertia 448955.11509045365\n",
      "Iteration 17, inertia 448753.1503048855\n",
      "Iteration 18, inertia 448748.8483257305\n",
      "Iteration 19, inertia 448741.454006157\n",
      "Iteration 20, inertia 448737.85133073473\n",
      "Iteration 21, inertia 448733.2756002708\n",
      "Iteration 22, inertia 448726.34669934213\n",
      "Iteration 23, inertia 448725.6112252074\n",
      "Iteration 24, inertia 448725.5751542828\n",
      "Iteration 25, inertia 448725.56426903245\n",
      "Converged at iteration 25: center shift 2.8373357007440766e-07 within tolerance 9.931390534396236e-07.\n",
      "Initialization complete\n",
      "Iteration 0, inertia 641583.6879475762\n",
      "Iteration 1, inertia 476741.22488923103\n",
      "Iteration 2, inertia 469908.97294566344\n",
      "Iteration 3, inertia 465634.71435266285\n",
      "Iteration 4, inertia 463598.00609319855\n",
      "Iteration 5, inertia 463095.425534252\n",
      "Iteration 6, inertia 462845.40935508115\n",
      "Iteration 7, inertia 462679.08598548133\n",
      "Iteration 8, inertia 462640.33522794256\n",
      "Iteration 9, inertia 462598.9371963308\n",
      "Iteration 10, inertia 462460.79596633057\n",
      "Iteration 11, inertia 462350.18556350924\n",
      "Iteration 12, inertia 462238.5248963058\n",
      "Iteration 13, inertia 462130.4777902121\n",
      "Iteration 14, inertia 462078.09157257964\n",
      "Iteration 15, inertia 462073.02498114196\n",
      "Iteration 16, inertia 462071.13676006574\n",
      "Iteration 17, inertia 462069.81131281954\n",
      "Iteration 18, inertia 462068.8434417612\n",
      "Iteration 19, inertia 462068.2459184984\n",
      "Iteration 20, inertia 462067.76058859495\n",
      "Iteration 21, inertia 462067.0968385017\n",
      "Iteration 22, inertia 462066.5070630053\n",
      "Iteration 23, inertia 462065.8008878496\n",
      "Iteration 24, inertia 462064.72992598655\n",
      "Iteration 25, inertia 462063.357007758\n",
      "Iteration 26, inertia 462062.1458968102\n",
      "Iteration 27, inertia 462061.0214679059\n",
      "Iteration 28, inertia 462059.8560027925\n",
      "Iteration 29, inertia 462059.06946355075\n",
      "Iteration 30, inertia 462058.238740844\n",
      "Iteration 31, inertia 462057.42710838455\n",
      "Iteration 32, inertia 462055.9508931054\n",
      "Iteration 33, inertia 462052.32383124507\n",
      "Iteration 34, inertia 462045.9038608171\n",
      "Iteration 35, inertia 462036.2080114839\n",
      "Iteration 36, inertia 462020.4931809376\n",
      "Iteration 37, inertia 462009.05465966597\n",
      "Iteration 38, inertia 462003.23896409356\n",
      "Iteration 39, inertia 461999.01428232086\n",
      "Iteration 40, inertia 461995.0723342976\n",
      "Iteration 41, inertia 461989.0053532947\n",
      "Iteration 42, inertia 461982.43124629656\n",
      "Iteration 43, inertia 461971.1471613561\n",
      "Iteration 44, inertia 461956.52933077794\n",
      "Iteration 45, inertia 461938.25662874087\n",
      "Iteration 46, inertia 461910.4404631709\n",
      "Iteration 47, inertia 461852.09257720766\n",
      "Iteration 48, inertia 461688.539115917\n",
      "Iteration 49, inertia 460879.3169717223\n",
      "Iteration 50, inertia 458883.8414273411\n",
      "Iteration 51, inertia 458864.5306111357\n",
      "Iteration 52, inertia 458864.3305626953\n",
      "Iteration 53, inertia 458864.2645757553\n",
      "Iteration 54, inertia 458864.0572774863\n",
      "Iteration 55, inertia 458863.5861550481\n",
      "Iteration 56, inertia 458861.55105888174\n",
      "Iteration 57, inertia 458851.0273560361\n",
      "Iteration 58, inertia 458841.8981653232\n",
      "Iteration 59, inertia 458841.89010213705\n",
      "Converged at iteration 59: strict convergence.\n",
      "Initialization complete\n",
      "Iteration 0, inertia 626647.6649521005\n",
      "Iteration 1, inertia 463858.53813946183\n",
      "Iteration 2, inertia 453856.8383321163\n",
      "Iteration 3, inertia 451534.27630802174\n",
      "Iteration 4, inertia 450589.5272990906\n",
      "Iteration 5, inertia 450098.6239050642\n",
      "Iteration 6, inertia 449768.02665759507\n",
      "Iteration 7, inertia 449605.8917923058\n",
      "Iteration 8, inertia 449548.1708141521\n",
      "Iteration 9, inertia 449528.64346321934\n",
      "Iteration 10, inertia 449520.2137606256\n",
      "Iteration 11, inertia 449512.9534848228\n",
      "Iteration 12, inertia 449505.9613729815\n",
      "Iteration 13, inertia 449497.9275715777\n",
      "Iteration 14, inertia 449485.9823692526\n",
      "Iteration 15, inertia 449466.1829618114\n",
      "Iteration 16, inertia 449449.64131940174\n",
      "Iteration 17, inertia 449433.60055302613\n",
      "Iteration 18, inertia 449417.8663482461\n",
      "Iteration 19, inertia 449388.7691161011\n",
      "Iteration 20, inertia 449323.3784221658\n",
      "Iteration 21, inertia 449304.6444961194\n",
      "Iteration 22, inertia 449297.6119474223\n",
      "Iteration 23, inertia 449291.4212164825\n",
      "Iteration 24, inertia 449286.1235455469\n",
      "Iteration 25, inertia 449283.02069913544\n",
      "Iteration 26, inertia 449278.6790042433\n",
      "Iteration 27, inertia 449267.466004743\n",
      "Iteration 28, inertia 449232.8453021903\n",
      "Iteration 29, inertia 449024.0230807836\n",
      "Iteration 30, inertia 448648.6912979229\n",
      "Iteration 31, inertia 448633.75104492967\n",
      "Iteration 32, inertia 448633.7235417493\n",
      "Converged at iteration 32: center shift 5.386948546308877e-07 within tolerance 9.931390534396236e-07.\n",
      "Initialization complete\n",
      "Iteration 0, inertia 653300.5370274463\n",
      "Iteration 1, inertia 462718.1418615665\n",
      "Iteration 2, inertia 454927.39873854024\n",
      "Iteration 3, inertia 452886.4149842156\n",
      "Iteration 4, inertia 451194.3879178807\n",
      "Iteration 5, inertia 450319.9815249698\n",
      "Iteration 6, inertia 449555.418690533\n",
      "Iteration 7, inertia 448406.1633362439\n",
      "Iteration 8, inertia 445503.42496017343\n",
      "Iteration 9, inertia 442925.07968911284\n",
      "Iteration 10, inertia 441970.536123498\n",
      "Iteration 11, inertia 441219.6764934041\n",
      "Iteration 12, inertia 440693.91474315774\n",
      "Iteration 13, inertia 440415.99961382686\n",
      "Iteration 14, inertia 440305.9585851752\n",
      "Iteration 15, inertia 440299.45436524047\n",
      "Iteration 16, inertia 440294.77778647817\n",
      "Iteration 17, inertia 440290.49271656043\n",
      "Iteration 18, inertia 440288.198212211\n",
      "Iteration 19, inertia 440285.61709595134\n",
      "Iteration 20, inertia 440281.99301949615\n",
      "Iteration 21, inertia 440278.93180835654\n",
      "Iteration 22, inertia 440277.351510706\n",
      "Iteration 23, inertia 440276.8963236482\n",
      "Iteration 24, inertia 440276.7614869053\n",
      "Iteration 25, inertia 440276.64302369\n",
      "Iteration 26, inertia 440276.50633272366\n",
      "Iteration 27, inertia 440276.3788851193\n"
     ]
    },
    {
     "name": "stdout",
     "output_type": "stream",
     "text": [
      "Iteration 28, inertia 440276.2397169037\n",
      "Iteration 29, inertia 440275.99848613737\n",
      "Iteration 30, inertia 440275.77505289513\n",
      "Iteration 31, inertia 440275.612952457\n",
      "Iteration 32, inertia 440275.4624108339\n",
      "Iteration 33, inertia 440275.3838817289\n",
      "Iteration 34, inertia 440275.34150999534\n",
      "Iteration 35, inertia 440275.31974637293\n",
      "Iteration 36, inertia 440275.30358500715\n",
      "Iteration 37, inertia 440275.28103178705\n",
      "Iteration 38, inertia 440275.26670104143\n",
      "Iteration 39, inertia 440275.2575200382\n",
      "Iteration 40, inertia 440275.24753753835\n",
      "Iteration 41, inertia 440275.23850346147\n",
      "Iteration 42, inertia 440275.2298566889\n",
      "Iteration 43, inertia 440275.21752021846\n",
      "Iteration 44, inertia 440275.20712763566\n",
      "Iteration 45, inertia 440275.19410671986\n",
      "Iteration 46, inertia 440275.1874987039\n",
      "Iteration 47, inertia 440275.18046018697\n",
      "Converged at iteration 47: center shift 6.250445461744766e-07 within tolerance 9.931390534396236e-07.\n"
     ]
    }
   ],
   "source": [
    "#we begin by trying to determine the optimal number of clusters by looking at inertia scores\n",
    "#cycle through different K values and append inertia score to list\n",
    "k_values = range(8,32)\n",
    "inertia_scores = []\n",
    "\n",
    "for k in k_values:\n",
    "    #instantiate\n",
    "    kmeans_model = KMeans(n_clusters=k, init=\"k-means++\",n_init=1, verbose=1)\n",
    "    #fitting on first 350 PCs\n",
    "    kmeans_model.fit(PCA_components.iloc[:,0:230])\n",
    "    #get scores and append them\n",
    "    inertia = kmeans_model.inertia_\n",
    "    #append score\n",
    "    inertia_scores.append(inertia)"
   ]
  },
  {
   "cell_type": "code",
   "execution_count": 32,
   "metadata": {},
   "outputs": [
    {
     "data": {
      "image/png": "[encoded data removed]",
      "text/plain": [
       "<Figure size 432x288 with 1 Axes>"
      ]
     },
     "metadata": {
      "needs_background": "light"
     },
     "output_type": "display_data"
    }
   ],
   "source": [
    "plt.figure()\n",
    "plt.plot(k_values, inertia_scores)\n",
    "plt.xlabel('num of clusters')\n",
    "plt.ylabel('score')\n",
    "plt.title('inertia')\n",
    "plt.xticks(k_values)\n",
    "plt.grid()\n",
    "#plt.ylim(0,580000)\n",
    "plt.show()"
   ]
  },
  {
   "cell_type": "markdown",
   "metadata": {},
   "source": [
    "Based on the graph, there is a decrease in the slope at the following number of clusters: 20, 25, 27."
   ]
  },
  {
   "cell_type": "markdown",
   "metadata": {},
   "source": [
    "# View Cluster Features\n",
    "For Kmeans, the optimal number of clusters are **15, 17, and 25.** As 25 has the lowest inertia, let's try using 25 clusters."
   ]
  },
  {
   "cell_type": "markdown",
   "metadata": {},
   "source": [
    "### 25 clusters"
   ]
  },
  {
   "cell_type": "code",
   "execution_count": 34,
   "metadata": {},
   "outputs": [
    {
     "name": "stdout",
     "output_type": "stream",
     "text": [
      "Initialization complete\n",
      "Iteration 0, inertia 694455.4731142943\n",
      "Iteration 1, inertia 481919.67981071305\n",
      "Iteration 2, inertia 467815.1681664576\n",
      "Iteration 3, inertia 459132.39873677515\n",
      "Iteration 4, inertia 454437.7310648751\n",
      "Iteration 5, inertia 453356.00587492145\n",
      "Iteration 6, inertia 452965.5070717301\n",
      "Iteration 7, inertia 452705.86066626234\n",
      "Iteration 8, inertia 452626.73042858724\n",
      "Iteration 9, inertia 452560.1318376898\n",
      "Iteration 10, inertia 452510.58085393347\n",
      "Iteration 11, inertia 452502.8932756247\n",
      "Iteration 12, inertia 452497.339164819\n",
      "Iteration 13, inertia 452483.3696786129\n",
      "Iteration 14, inertia 452476.9594187161\n",
      "Iteration 15, inertia 452471.6330209836\n",
      "Iteration 16, inertia 452457.649434923\n",
      "Iteration 17, inertia 452456.5505468683\n",
      "Iteration 18, inertia 452456.5356721108\n",
      "Converged at iteration 18: center shift 4.004814458260188e-07 within tolerance 9.931390534396236e-07.\n"
     ]
    },
    {
     "data": {
      "text/plain": [
       "KMeans(n_clusters=27, n_init=1, verbose=1)"
      ]
     },
     "execution_count": 34,
     "metadata": {},
     "output_type": "execute_result"
    }
   ],
   "source": [
    "#instantiate KMeans with 25 clusters\n",
    "kmeans_model25 = KMeans(n_clusters=27,init=\"k-means++\",n_init=1, verbose=1)\n",
    "#fitting KMeans on first 350 PCs\n",
    "kmeans_model25.fit(PCA_components.iloc[:,0:230])"
   ]
  },
  {
   "cell_type": "code",
   "execution_count": 35,
   "metadata": {},
   "outputs": [
    {
     "data": {
      "image/png": "[encoded data removed]",
      "text/plain": [
       "<Figure size 432x288 with 1 Axes>"
      ]
     },
     "metadata": {
      "needs_background": "light"
     },
     "output_type": "display_data"
    }
   ],
   "source": [
    "#let's take a look at the first 2 PCs with the labels generated from KMeans\n",
    "plt.figure()\n",
    "plt.scatter(PCA_components[0],PCA_components[1], c=kmeans_model25.labels_)\n",
    "plt.show()"
   ]
  },
  {
   "cell_type": "markdown",
   "metadata": {},
   "source": [
    "The are some vague clusters that can be seen from the first 2 PC but quite evidently they are not interpretable at this point.\n",
    "\n",
    "Let's save the model in order to perform cluster analysis (in the next notebook). Note, I will also perform LDA topic modelling in parallel and compare the results of each model to try and find a cluster(s) of fake reviews."
   ]
  },
  {
   "cell_type": "code",
   "execution_count": 36,
   "metadata": {},
   "outputs": [],
   "source": [
    "import joblib"
   ]
  },
  {
   "cell_type": "code",
   "execution_count": 38,
   "metadata": {},
   "outputs": [
    {
     "data": {
      "text/plain": [
       "['kmeans_model25_Aumented_Df.pkl']"
      ]
     },
     "execution_count": 38,
     "metadata": {},
     "output_type": "execute_result"
    }
   ],
   "source": [
    "#saving model to computer to be used for later analysis\n",
    "joblib.dump(kmeans_model25, 'kmeans_model25_Aumented_Df.pkl')"
   ]
  },
  {
   "cell_type": "markdown",
   "metadata": {},
   "source": [
    "##### Saving data\n",
    "We can also save the dataframe with the cluster labels. We will need to perform matrix multiplication to convert the reviews from principal components back to the original features."
   ]
  },
  {
   "cell_type": "code",
   "execution_count": 39,
   "metadata": {},
   "outputs": [],
   "source": [
    "#getting 2 matrices\n",
    "# 1) data with principal components (PCs)\n",
    "# 2) PCs and features\n",
    "# only getting 350 PCs as those the model was fit only on those PCs\n",
    "data_pc_matrix = PCA_components.iloc[:,0:230].to_numpy()\n",
    "pc_feature_matrix = pca.components_[0:230,:]"
   ]
  },
  {
   "cell_type": "code",
   "execution_count": 40,
   "metadata": {},
   "outputs": [],
   "source": [
    "#performing matrix multiplication to get the reviews back in terms of the original features; will then save this reconstructed data to a dataframe\n",
    "df_recon = pd.DataFrame(np.matmul(data_pc_matrix,pc_feature_matrix), columns=df_final.columns)"
   ]
  },
  {
   "cell_type": "code",
   "execution_count": 41,
   "metadata": {},
   "outputs": [],
   "source": [
    "#adding cluster labels to the reconstructed dataframe\n",
    "df_recon['cluster'] = kmeans_model25.labels_"
   ]
  },
  {
   "cell_type": "code",
   "execution_count": 42,
   "metadata": {},
   "outputs": [],
   "source": [
    "#saving the df to the computer in a compressed h5 format (saves faster than other compression techniques)\n",
    "df_recon.to_hdf('df_recon_25_kmeans_Aumented_DF.h5', key='df', mode='w')"
   ]
  }
 ],
 "metadata": {
  "kernelspec": {
   "display_name": "Python 3 (ipykernel)",
   "language": "python",
   "name": "python3"
  },
  "language_info": {
   "codemirror_mode": {
    "name": "ipython",
    "version": 3
   },
   "file_extension": ".py",
   "mimetype": "text/x-python",
   "name": "python",
   "nbconvert_exporter": "python",
   "pygments_lexer": "ipython3",
   "version": "3.9.7"
  }
 },
 "nbformat": 4,
 "nbformat_minor": 4
}
