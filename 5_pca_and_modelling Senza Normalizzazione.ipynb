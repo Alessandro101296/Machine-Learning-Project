{
 "cells": [
  {
   "cell_type": "markdown",
   "metadata": {},
   "source": [
    "# Part 5: PCA and Modelling\n",
    "\n",
    "In this notebook, I will bring in the data and performing modelling. Specifically, I will perform dimensionality reduction via PCA and subsequently, KMeans Clustering.\n",
    "\n",
    "Here are the steps to be undertaken:\n",
    "1. Perform Tokenization\n",
    "2. Scale numeric features\n",
    "3. Perform PCA\n",
    "4. Run several models and optimize hyperparameters\n",
    "5. Choose optimal model for KMeans"
   ]
  },
  {
   "cell_type": "code",
   "execution_count": 3,
   "metadata": {},
   "outputs": [],
   "source": [
    "#importing libraries\n",
    "import numpy as np\n",
    "import pandas as pd\n",
    "import matplotlib.pyplot as plt"
   ]
  },
  {
   "cell_type": "code",
   "execution_count": 2,
   "metadata": {},
   "outputs": [],
   "source": [
    "#import custom functions\n",
    "import functions_library as fl"
   ]
  },
  {
   "cell_type": "code",
   "execution_count": 4,
   "metadata": {},
   "outputs": [],
   "source": [
    "#let's bring in the beauty review dataset with the cleaning and feature engineering steps applied\n",
    "df = fl.pipedf('All_Beauty.json.gz')"
   ]
  },
  {
   "cell_type": "markdown",
   "metadata": {},
   "source": [
    "### 1. Perform Tokenization\n",
    "\n",
    "- For reviewText, will use: lemmatizer, ngrams 1-2, **min_df = 1000**\n",
    "- For summary, will use: lemmatizer, ngrams 1-2, **min_df = 800**"
   ]
  },
  {
   "cell_type": "code",
   "execution_count": 5,
   "metadata": {},
   "outputs": [
    {
     "name": "stderr",
     "output_type": "stream",
     "text": [
      "C:\\Users\\bucco\\anaconda3\\lib\\site-packages\\sklearn\\feature_extraction\\text.py:489: UserWarning: The parameter 'token_pattern' will not be used since 'tokenizer' is not None'\n",
      "  warnings.warn(\"The parameter 'token_pattern' will not be used\"\n"
     ]
    }
   ],
   "source": [
    "#getting review tokens which will be prepended with 'r_'\n",
    "review_tokens = fl.tfidf(df['reviewText'], tokenizer=fl.spl_tokenizer, ngram_range=(1,2), min_df=1000)"
   ]
  },
  {
   "cell_type": "code",
   "execution_count": 6,
   "metadata": {},
   "outputs": [],
   "source": [
    "#getting summary tokens which will be prepended with 's_'\n",
    "summary_tokens = fl.tfidf(df['summary'], tokenizer=fl.spl_tokenizer, ngram_range=(1,2), min_df=800)"
   ]
  },
  {
   "cell_type": "markdown",
   "metadata": {},
   "source": [
    "### 2. Scale numeric features\n",
    "Will be using the MinMaxScaler to scale the non-token features."
   ]
  },
  {
   "cell_type": "code",
   "execution_count": 7,
   "metadata": {},
   "outputs": [],
   "source": [
    "#getting the numeric features (no tokens)\n",
    "df2=df[[\"vote\",\"review_word_count\"]]\n",
    "df_n_t=df.drop(\"vote\", axis=1)\n",
    "df_n_t=df_n_t.drop(\"review_word_count\",axis=1)\n",
    "df_n_t=df_n_t.select_dtypes(include=['int32','int64'])"
   ]
  },
  {
   "cell_type": "code",
   "execution_count": 8,
   "metadata": {},
   "outputs": [],
   "source": [
    "from sklearn.preprocessing import MinMaxScaler"
   ]
  },
  {
   "cell_type": "code",
   "execution_count": 9,
   "metadata": {},
   "outputs": [],
   "source": [
    "#instantiate minmaxscaler\n",
    "mm = MinMaxScaler()"
   ]
  },
  {
   "cell_type": "code",
   "execution_count": 10,
   "metadata": {},
   "outputs": [],
   "source": [
    "#fit transform data using minmaxscaler\n",
    "df3 = mm.fit_transform(df2)"
   ]
  },
  {
   "cell_type": "code",
   "execution_count": 11,
   "metadata": {},
   "outputs": [],
   "source": [
    "#put the scaled into a dataframe\n",
    "df_scaled = pd.DataFrame(df3, columns = df2.columns)"
   ]
  },
  {
   "cell_type": "code",
   "execution_count": 12,
   "metadata": {},
   "outputs": [
    {
     "data": {
      "text/plain": [
       "(362252, 2)"
      ]
     },
     "execution_count": 12,
     "metadata": {},
     "output_type": "execute_result"
    }
   ],
   "source": [
    "df_scaled.shape"
   ]
  },
  {
   "cell_type": "code",
   "execution_count": 13,
   "metadata": {},
   "outputs": [],
   "source": [
    "#saving memory\n",
    "del df3, df2"
   ]
  },
  {
   "cell_type": "markdown",
   "metadata": {},
   "source": [
    "#### Now let's bring in the tokens to get the final dataframe."
   ]
  },
  {
   "cell_type": "code",
   "execution_count": 14,
   "metadata": {},
   "outputs": [],
   "source": [
    "#concatenating the scaled non-token features and the review & summary tokens\n",
    "df_final = pd.concat([df_n_t,df_scaled, review_tokens, summary_tokens], axis = 1)"
   ]
  },
  {
   "cell_type": "code",
   "execution_count": 15,
   "metadata": {},
   "outputs": [],
   "source": [
    "#save data\n",
    "df_final.to_csv('all_tokens_scaled.zip', compression='zip')"
   ]
  },
  {
   "cell_type": "code",
   "execution_count": 16,
   "metadata": {},
   "outputs": [
    {
     "data": {
      "text/html": [
       "<div>\n",
       "<style scoped>\n",
       "    .dataframe tbody tr th:only-of-type {\n",
       "        vertical-align: middle;\n",
       "    }\n",
       "\n",
       "    .dataframe tbody tr th {\n",
       "        vertical-align: top;\n",
       "    }\n",
       "\n",
       "    .dataframe thead th {\n",
       "        text-align: right;\n",
       "    }\n",
       "</style>\n",
       "<table border=\"1\" class=\"dataframe\">\n",
       "  <thead>\n",
       "    <tr style=\"text-align: right;\">\n",
       "      <th></th>\n",
       "      <th>overall</th>\n",
       "      <th>verified</th>\n",
       "      <th>summary_word_count</th>\n",
       "      <th>month</th>\n",
       "      <th>dayofweek</th>\n",
       "      <th>multipleReviews_reviewer</th>\n",
       "      <th>reviewer_five_star_only</th>\n",
       "      <th>reviewer_one_star_only</th>\n",
       "      <th>numReviews_product</th>\n",
       "      <th>nameProvided</th>\n",
       "      <th>...</th>\n",
       "      <th>s_well</th>\n",
       "      <th>s_without</th>\n",
       "      <th>s_wonderful</th>\n",
       "      <th>s_work</th>\n",
       "      <th>s_work s_great</th>\n",
       "      <th>s_work s_well</th>\n",
       "      <th>s_worked</th>\n",
       "      <th>s_worth</th>\n",
       "      <th>s_would</th>\n",
       "      <th>s_year</th>\n",
       "    </tr>\n",
       "  </thead>\n",
       "  <tbody>\n",
       "    <tr>\n",
       "      <th>362247</th>\n",
       "      <td>1</td>\n",
       "      <td>1</td>\n",
       "      <td>13</td>\n",
       "      <td>7</td>\n",
       "      <td>3</td>\n",
       "      <td>0</td>\n",
       "      <td>0</td>\n",
       "      <td>1</td>\n",
       "      <td>10</td>\n",
       "      <td>1</td>\n",
       "      <td>...</td>\n",
       "      <td>0.000000</td>\n",
       "      <td>0.0</td>\n",
       "      <td>0.0</td>\n",
       "      <td>0.0</td>\n",
       "      <td>0.0</td>\n",
       "      <td>0.0</td>\n",
       "      <td>0.0</td>\n",
       "      <td>0.0</td>\n",
       "      <td>0.0</td>\n",
       "      <td>0.0</td>\n",
       "    </tr>\n",
       "    <tr>\n",
       "      <th>362248</th>\n",
       "      <td>5</td>\n",
       "      <td>1</td>\n",
       "      <td>1</td>\n",
       "      <td>3</td>\n",
       "      <td>3</td>\n",
       "      <td>0</td>\n",
       "      <td>1</td>\n",
       "      <td>0</td>\n",
       "      <td>10</td>\n",
       "      <td>1</td>\n",
       "      <td>...</td>\n",
       "      <td>0.000000</td>\n",
       "      <td>0.0</td>\n",
       "      <td>0.0</td>\n",
       "      <td>0.0</td>\n",
       "      <td>0.0</td>\n",
       "      <td>0.0</td>\n",
       "      <td>0.0</td>\n",
       "      <td>0.0</td>\n",
       "      <td>0.0</td>\n",
       "      <td>0.0</td>\n",
       "    </tr>\n",
       "    <tr>\n",
       "      <th>362249</th>\n",
       "      <td>5</td>\n",
       "      <td>1</td>\n",
       "      <td>2</td>\n",
       "      <td>3</td>\n",
       "      <td>2</td>\n",
       "      <td>0</td>\n",
       "      <td>1</td>\n",
       "      <td>0</td>\n",
       "      <td>10</td>\n",
       "      <td>1</td>\n",
       "      <td>...</td>\n",
       "      <td>0.000000</td>\n",
       "      <td>0.0</td>\n",
       "      <td>0.0</td>\n",
       "      <td>0.0</td>\n",
       "      <td>0.0</td>\n",
       "      <td>0.0</td>\n",
       "      <td>0.0</td>\n",
       "      <td>0.0</td>\n",
       "      <td>0.0</td>\n",
       "      <td>0.0</td>\n",
       "    </tr>\n",
       "    <tr>\n",
       "      <th>362250</th>\n",
       "      <td>2</td>\n",
       "      <td>1</td>\n",
       "      <td>9</td>\n",
       "      <td>2</td>\n",
       "      <td>1</td>\n",
       "      <td>0</td>\n",
       "      <td>0</td>\n",
       "      <td>0</td>\n",
       "      <td>10</td>\n",
       "      <td>1</td>\n",
       "      <td>...</td>\n",
       "      <td>0.457313</td>\n",
       "      <td>0.0</td>\n",
       "      <td>0.0</td>\n",
       "      <td>0.0</td>\n",
       "      <td>0.0</td>\n",
       "      <td>0.0</td>\n",
       "      <td>0.0</td>\n",
       "      <td>0.0</td>\n",
       "      <td>0.0</td>\n",
       "      <td>0.0</td>\n",
       "    </tr>\n",
       "    <tr>\n",
       "      <th>362251</th>\n",
       "      <td>2</td>\n",
       "      <td>1</td>\n",
       "      <td>8</td>\n",
       "      <td>12</td>\n",
       "      <td>3</td>\n",
       "      <td>1</td>\n",
       "      <td>0</td>\n",
       "      <td>0</td>\n",
       "      <td>10</td>\n",
       "      <td>1</td>\n",
       "      <td>...</td>\n",
       "      <td>0.000000</td>\n",
       "      <td>0.0</td>\n",
       "      <td>0.0</td>\n",
       "      <td>0.0</td>\n",
       "      <td>0.0</td>\n",
       "      <td>0.0</td>\n",
       "      <td>0.0</td>\n",
       "      <td>0.0</td>\n",
       "      <td>0.0</td>\n",
       "      <td>0.0</td>\n",
       "    </tr>\n",
       "  </tbody>\n",
       "</table>\n",
       "<p>5 rows × 1347 columns</p>\n",
       "</div>"
      ],
      "text/plain": [
       "        overall  verified  summary_word_count  month  dayofweek  \\\n",
       "362247        1         1                  13      7          3   \n",
       "362248        5         1                   1      3          3   \n",
       "362249        5         1                   2      3          2   \n",
       "362250        2         1                   9      2          1   \n",
       "362251        2         1                   8     12          3   \n",
       "\n",
       "        multipleReviews_reviewer  reviewer_five_star_only  \\\n",
       "362247                         0                        0   \n",
       "362248                         0                        1   \n",
       "362249                         0                        1   \n",
       "362250                         0                        0   \n",
       "362251                         1                        0   \n",
       "\n",
       "        reviewer_one_star_only  numReviews_product  nameProvided  ...  \\\n",
       "362247                       1                  10             1  ...   \n",
       "362248                       0                  10             1  ...   \n",
       "362249                       0                  10             1  ...   \n",
       "362250                       0                  10             1  ...   \n",
       "362251                       0                  10             1  ...   \n",
       "\n",
       "          s_well  s_without  s_wonderful  s_work  s_work s_great  \\\n",
       "362247  0.000000        0.0          0.0     0.0             0.0   \n",
       "362248  0.000000        0.0          0.0     0.0             0.0   \n",
       "362249  0.000000        0.0          0.0     0.0             0.0   \n",
       "362250  0.457313        0.0          0.0     0.0             0.0   \n",
       "362251  0.000000        0.0          0.0     0.0             0.0   \n",
       "\n",
       "        s_work s_well  s_worked  s_worth  s_would  s_year  \n",
       "362247            0.0       0.0      0.0      0.0     0.0  \n",
       "362248            0.0       0.0      0.0      0.0     0.0  \n",
       "362249            0.0       0.0      0.0      0.0     0.0  \n",
       "362250            0.0       0.0      0.0      0.0     0.0  \n",
       "362251            0.0       0.0      0.0      0.0     0.0  \n",
       "\n",
       "[5 rows x 1347 columns]"
      ]
     },
     "execution_count": 16,
     "metadata": {},
     "output_type": "execute_result"
    }
   ],
   "source": [
    "df_final.tail()"
   ]
  },
  {
   "cell_type": "code",
   "execution_count": 17,
   "metadata": {},
   "outputs": [],
   "source": [
    "#saving memory\n",
    "del review_tokens, summary_tokens, df_scaled, df"
   ]
  },
  {
   "cell_type": "markdown",
   "metadata": {},
   "source": [
    "### 3. Perform PCA\n",
    "As we have seen above, the final dataframe contains 1347 features so this dataset is a good candidate for dimensionality reduction. Will do so using PCA."
   ]
  },
  {
   "cell_type": "code",
   "execution_count": 18,
   "metadata": {},
   "outputs": [],
   "source": [
    "#import PCA\n",
    "from sklearn.decomposition import PCA"
   ]
  },
  {
   "cell_type": "code",
   "execution_count": 19,
   "metadata": {},
   "outputs": [],
   "source": [
    "# Create a PCA instance: pca\n",
    "pca = PCA(n_components=500)\n",
    "pcs = pca.fit_transform(df_final)"
   ]
  },
  {
   "cell_type": "code",
   "execution_count": 20,
   "metadata": {},
   "outputs": [
    {
     "data": {
      "image/png": "[encoded data removed]",
      "text/plain": [
       "<Figure size 720x288 with 1 Axes>"
      ]
     },
     "metadata": {
      "needs_background": "light"
     },
     "output_type": "display_data"
    }
   ],
   "source": [
    "# Plot the explained variances\n",
    "plt.figure(figsize=(10,4))\n",
    "plt.plot(range(500), pca.explained_variance_ratio_[0:500])\n",
    "plt.xlabel('PCA features')\n",
    "plt.ylabel('explained variance %')\n",
    "plt.xticks(range(0,501,25))\n",
    "plt.title('Explained variance % of Principal Components')\n",
    "plt.show()"
   ]
  },
  {
   "cell_type": "code",
   "execution_count": 21,
   "metadata": {},
   "outputs": [
    {
     "data": {
      "image/png": "[encoded data removed]",
      "text/plain": [
       "<Figure size 720x288 with 1 Axes>"
      ]
     },
     "metadata": {
      "needs_background": "light"
     },
     "output_type": "display_data"
    }
   ],
   "source": [
    "# Plot the cumulative sum of explained variances\n",
    "plt.figure(figsize=(10,4))\n",
    "plt.plot(range(500), pca.explained_variance_ratio_.cumsum()[0:500])\n",
    "plt.xlabel('PCA features')\n",
    "plt.ylabel('cumulative sum of explained variance %')\n",
    "plt.xticks(range(0,501,25))\n",
    "plt.title('Cumulative Sum of Explained variance % of Principal Components')\n",
    "plt.show()"
   ]
  },
  {
   "cell_type": "markdown",
   "metadata": {},
   "source": [
    "From the above, we want to have as much explained variance as possible from the least number of principal components. As a rough guide, I want to be able to have at least 80% explained variance."
   ]
  },
  {
   "cell_type": "code",
   "execution_count": 23,
   "metadata": {},
   "outputs": [
    {
     "data": {
      "text/plain": [
       "0.9999988800720602"
      ]
     },
     "execution_count": 23,
     "metadata": {},
     "output_type": "execute_result"
    }
   ],
   "source": [
    "#explained variance for 300 PCs\n",
    "pca.explained_variance_ratio_.cumsum()[3]"
   ]
  },
  {
   "cell_type": "code",
   "execution_count": null,
   "metadata": {},
   "outputs": [],
   "source": [
    "#explained variance for 350 PCs\n",
    "pca.explained_variance_ratio_.cumsum()[350]"
   ]
  },
  {
   "cell_type": "code",
   "execution_count": null,
   "metadata": {},
   "outputs": [],
   "source": [
    "#explained variance for 300 PCs\n",
    "pca.explained_variance_ratio_.cumsum()[400]"
   ]
  },
  {
   "cell_type": "markdown",
   "metadata": {},
   "source": [
    "300 PCs provides 80% explained variance. 400 PCs gets close to 85%. For later modelling, let's try using **350 PCs** as we get a decent tradeoff: 50 more features for 2.2% increase in explained variance compared to 300 PCs. I note that this may not provide the optimal settings to build a model but the model can always be improved in later iterations of this project."
   ]
  },
  {
   "cell_type": "code",
   "execution_count": null,
   "metadata": {},
   "outputs": [],
   "source": [
    "# Save components to a DataFrame\n",
    "PCA_components = pd.DataFrame(pcs)"
   ]
  },
  {
   "cell_type": "code",
   "execution_count": null,
   "metadata": {},
   "outputs": [],
   "source": [
    "#this is what the first two features look like (plot)\n",
    "plt.figure()\n",
    "plt.scatter(PCA_components[0],PCA_components[1], alpha=.05, color='blue')\n",
    "plt.xlabel('PCA 0')\n",
    "plt.ylabel('PCA 1')\n",
    "plt.show()"
   ]
  },
  {
   "cell_type": "markdown",
   "metadata": {},
   "source": [
    "## KMeans Clustering\n",
    "The moment we have been waiting for. We can now begin building our model. For this project I would like to try using Kmeans clustering. Additionally, I will try using LDA topic modelling, which will be performed in a separate notebook."
   ]
  },
  {
   "cell_type": "code",
   "execution_count": null,
   "metadata": {},
   "outputs": [],
   "source": [
    "from sklearn.cluster import KMeans"
   ]
  },
  {
   "cell_type": "code",
   "execution_count": null,
   "metadata": {},
   "outputs": [],
   "source": [
    "#we begin by trying to determine the optimal number of clusters by looking at inertia scores\n",
    "#cycle through different K values and append inertia score to list\n",
    "k_values = range(8,32)\n",
    "inertia_scores = []\n",
    "\n",
    "for k in k_values:\n",
    "    #instantiate\n",
    "    kmeans_model = KMeans(n_clusters=k, init=\"k-means++\",n_init=1, verbose=1)\n",
    "    #fitting on first 350 PCs\n",
    "    kmeans_model.fit(PCA_components.iloc[:,0:350])\n",
    "    #get scores and append them\n",
    "    inertia = kmeans_model.inertia_\n",
    "    #append score\n",
    "    inertia_scores.append(inertia)"
   ]
  },
  {
   "cell_type": "code",
   "execution_count": null,
   "metadata": {},
   "outputs": [],
   "source": [
    "plt.figure()\n",
    "plt.plot(k_values, inertia_scores)\n",
    "plt.xlabel('num of clusters')\n",
    "plt.ylabel('score')\n",
    "plt.title('inertia')\n",
    "plt.xticks(k_values)\n",
    "plt.grid()\n",
    "#plt.ylim(0,580000)\n",
    "plt.show()"
   ]
  },
  {
   "cell_type": "markdown",
   "metadata": {},
   "source": [
    "Based on the graph, there is a decrease in the slope at the following number of clusters: 20, 25, 27."
   ]
  },
  {
   "cell_type": "markdown",
   "metadata": {},
   "source": [
    "# View Cluster Features\n",
    "For Kmeans, the optimal number of clusters are **15, 17, and 25.** As 25 has the lowest inertia, let's try using 25 clusters."
   ]
  },
  {
   "cell_type": "markdown",
   "metadata": {},
   "source": [
    "### 25 clusters"
   ]
  },
  {
   "cell_type": "code",
   "execution_count": null,
   "metadata": {},
   "outputs": [],
   "source": [
    "#instantiate KMeans with 25 clusters\n",
    "kmeans_model25 = KMeans(n_clusters=25,init=\"k-means++\",n_init=1, verbose=1)\n",
    "#fitting KMeans on first 350 PCs\n",
    "kmeans_model25.fit(PCA_components.iloc[:,0:350])"
   ]
  },
  {
   "cell_type": "code",
   "execution_count": null,
   "metadata": {},
   "outputs": [],
   "source": [
    "#let's take a look at the first 2 PCs with the labels generated from KMeans\n",
    "plt.figure()\n",
    "plt.scatter(PCA_components[0],PCA_components[1], c=kmeans_model25.labels_)\n",
    "plt.show()"
   ]
  },
  {
   "cell_type": "markdown",
   "metadata": {},
   "source": [
    "The are some vague clusters that can be seen from the first 2 PC but quite evidently they are not interpretable at this point.\n",
    "\n",
    "Let's save the model in order to perform cluster analysis (in the next notebook). Note, I will also perform LDA topic modelling in parallel and compare the results of each model to try and find a cluster(s) of fake reviews."
   ]
  },
  {
   "cell_type": "code",
   "execution_count": null,
   "metadata": {},
   "outputs": [],
   "source": [
    "import joblib"
   ]
  },
  {
   "cell_type": "code",
   "execution_count": null,
   "metadata": {},
   "outputs": [],
   "source": [
    "#saving model to computer to be used for later analysis\n",
    "joblib.dump(kmeans_model25, 'kmeans_model25_Non_Normalizzato.pkl')"
   ]
  },
  {
   "cell_type": "markdown",
   "metadata": {},
   "source": [
    "##### Saving data\n",
    "We can also save the dataframe with the cluster labels. We will need to perform matrix multiplication to convert the reviews from principal components back to the original features."
   ]
  },
  {
   "cell_type": "code",
   "execution_count": null,
   "metadata": {},
   "outputs": [],
   "source": [
    "#getting 2 matrices\n",
    "# 1) data with principal components (PCs)\n",
    "# 2) PCs and features\n",
    "# only getting 350 PCs as those the model was fit only on those PCs\n",
    "data_pc_matrix = PCA_components.iloc[:,0:350].to_numpy()\n",
    "pc_feature_matrix = pca.components_[0:350,:]"
   ]
  },
  {
   "cell_type": "code",
   "execution_count": null,
   "metadata": {},
   "outputs": [],
   "source": [
    "#performing matrix multiplication to get the reviews back in terms of the original features; will then save this reconstructed data to a dataframe\n",
    "df_recon = pd.DataFrame(np.matmul(data_pc_matrix,pc_feature_matrix), columns=df_final.columns)"
   ]
  },
  {
   "cell_type": "code",
   "execution_count": null,
   "metadata": {},
   "outputs": [],
   "source": [
    "#adding cluster labels to the reconstructed dataframe\n",
    "df_recon['cluster'] = kmeans_model25.labels_"
   ]
  },
  {
   "cell_type": "code",
   "execution_count": null,
   "metadata": {},
   "outputs": [],
   "source": [
    "#saving the df to the computer in a compressed h5 format (saves faster than other compression techniques)\n",
    "df_recon.to_hdf('df_recon_25_kmeans_Non_Normalizzato.h5', key='df', mode='w')"
   ]
  }
 ],
 "metadata": {
  "kernelspec": {
   "display_name": "Python 3 (ipykernel)",
   "language": "python",
   "name": "python3"
  },
  "language_info": {
   "codemirror_mode": {
    "name": "ipython",
    "version": 3
   },
   "file_extension": ".py",
   "mimetype": "text/x-python",
   "name": "python",
   "nbconvert_exporter": "python",
   "pygments_lexer": "ipython3",
   "version": "3.9.7"
  }
 },
 "nbformat": 4,
 "nbformat_minor": 4
}
